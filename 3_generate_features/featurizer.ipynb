{
 "cells": [
  {
   "cell_type": "code",
   "execution_count": null,
   "metadata": {},
   "outputs": [],
   "source": [
    "import pymatgen.core as mg\n",
    "from pymatgen.io import cif\n",
    "from matminer.featurizers.conversions import StrToComposition\n",
    "from matminer.featurizers.composition import ElementProperty\n",
    "import glob\n",
    "import pandas as pd\n",
    "import numpy as np"
   ]
  },
  {
   "cell_type": "markdown",
   "metadata": {},
   "source": [
    "# read csv from previous step"
   ]
  },
  {
   "cell_type": "code",
   "execution_count": null,
   "metadata": {},
   "outputs": [],
   "source": [
    "data = pd.read_csv('../1_prototype_from_cif/cif_files_prototypes_list.csv')"
   ]
  },
  {
   "cell_type": "markdown",
   "metadata": {},
   "source": [
    "# for each entry, parse formulas into individual elements"
   ]
  },
  {
   "cell_type": "code",
   "execution_count": null,
   "metadata": {},
   "outputs": [],
   "source": [
    "element_1_list = []\n",
    "element_2_list = []\n",
    "\n",
    "for i, row in data.iterrows():\n",
    "    formula = row['Formula']\n",
    "    mg_composition = mg.Composition(formula)\n",
    "\n",
    "    elements = np.array(mg_composition.elements)\n",
    "    electronegativities = [e.X for e in elements]\n",
    "    print(elements)\n",
    "    print(electronegativities)\n",
    "    sorted_elements = elements[np.argsort(electronegativities)] # sort element ordering by electronegativity\n",
    "\n",
    "    e1, e2 = sorted_elements[0], sorted_elements[1]\n",
    "\n",
    "    element_1_list += [e1]\n",
    "    element_2_list += [e2]\n",
    "\n",
    "data['Element 1'] = element_1_list\n",
    "data['Element 2'] = element_2_list"
   ]
  },
  {
   "cell_type": "code",
   "execution_count": null,
   "metadata": {},
   "outputs": [],
   "source": []
  }
 ],
 "metadata": {
  "kernelspec": {
   "display_name": "mat-hack",
   "language": "python",
   "name": "python3"
  },
  "language_info": {
   "codemirror_mode": {
    "name": "ipython",
    "version": 3
   },
   "file_extension": ".py",
   "mimetype": "text/x-python",
   "name": "python",
   "nbconvert_exporter": "python",
   "pygments_lexer": "ipython3",
   "version": "3.11.0"
  },
  "orig_nbformat": 4,
  "vscode": {
   "interpreter": {
    "hash": "f29cf555f1ad55622b61a06ba1522f7bf976ada2ce369c8ede82aeb1ba1ad311"
   }
  }
 },
 "nbformat": 4,
 "nbformat_minor": 2
}
