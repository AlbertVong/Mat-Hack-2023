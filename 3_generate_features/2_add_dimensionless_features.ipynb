{
 "cells": [
  {
   "cell_type": "code",
   "execution_count": 1,
   "metadata": {},
   "outputs": [],
   "source": [
    "import pandas as pd\n",
    "import numpy as np\n",
    "from itertools import combinations"
   ]
  },
  {
   "attachments": {},
   "cell_type": "markdown",
   "metadata": {},
   "source": [
    "# read in features"
   ]
  },
  {
   "cell_type": "code",
   "execution_count": 4,
   "metadata": {},
   "outputs": [],
   "source": [
    "features = pd.read_csv('final_feature_array.csv')"
   ]
  },
  {
   "attachments": {},
   "cell_type": "markdown",
   "metadata": {},
   "source": [
    "# group feature names by units"
   ]
  },
  {
   "cell_type": "code",
   "execution_count": 8,
   "metadata": {},
   "outputs": [],
   "source": [
    "ptable_number_feats = ['e1_Number','e1_MendeleevNumber','e1_Column', 'e1_Row'] \n",
    "ptable_number_feats += [name.replace('e1','e2') for name in ptable_number_feats]\n",
    "mass_feats = ['e1_AtomicWeight']\n",
    "mass_feats += [name.replace('e1','e2') for name in mass_feats]\n",
    "temperature_feats = ['e1_MeltingT']\n",
    "temperature_feats += [name.replace('e1','e2') for name in temperature_feats]\n",
    "radii_feats = ['e1_CovalentRadius']\n",
    "radii_feats += [name.replace('e1','e2') for name in radii_feats]\n",
    "electron_number_feats = ['e1_NsValence',\n",
    "       'e1_NpValence', 'e1_NdValence', 'e1_NfValence', 'e1_NValence',\n",
    "       'e1_NsUnfilled', 'e1_NpUnfilled', 'e1_NdUnfilled', 'e1_NfUnfilled',\n",
    "       'e1_NUnfilled']\n",
    "electron_number_feats += [name.replace('e1','e2') for name in electron_number_feats]\n",
    "\n",
    "others = ['e1_Electronegativity','e1_GSbandgap', 'e1_GSmagmom',\n",
    "       'e1_SpaceGroupNumber','e1_GSvolume_pa'] \n",
    "others += [name.replace('e1','e2') for name in others]"
   ]
  },
  {
   "cell_type": "markdown",
   "metadata": {},
   "source": [
    "# get pairwise combinations of feature names per group"
   ]
  },
  {
   "cell_type": "code",
   "execution_count": 13,
   "metadata": {},
   "outputs": [],
   "source": [
    "all_groups = [ptable_number_feats,mass_feats,electron_number_feats,temperature_feats,radii_feats]\n",
    "\n",
    "all_dimensionless_features = []\n",
    "all_dimensionless_feature_names = []\n",
    "\n",
    "for group in all_groups:\n",
    "    pairs_of_features = list(combinations(group,2))\n",
    "    offset = 0\n",
    "    if 'e1_NpValence' in group: offset = 1\n",
    "    for feature_pair in pairs_of_features:\n",
    "        f1, f2 = feature_pair[0], feature_pair[1]\n",
    "        dimensionless_feature = ((features[f1]+offset) / (features[f2]+offset)).to_numpy()\n",
    "        dimensionless_feature_names = f\"{f1} / {f2}\"\n",
    "\n",
    "        all_dimensionless_features += [dimensionless_feature]\n",
    "        all_dimensionless_feature_names += [dimensionless_feature_names]\n",
    "\n",
    "dimensionless_feature_array = np.vstack(all_dimensionless_features).T\n",
    "dimensionless_feature_df = pd.DataFrame(data = dimensionless_feature_array,columns=all_dimensionless_feature_names)\n",
    "\n",
    "dimensionless_feature_df.to_csv('final_dimensionless_feature_array.csv')"
   ]
  },
  {
   "attachments": {},
   "cell_type": "markdown",
   "metadata": {},
   "source": [
    "# clean out feature names with NaNs"
   ]
  },
  {
   "cell_type": "code",
   "execution_count": 14,
   "metadata": {},
   "outputs": [
    {
     "name": "stdout",
     "output_type": "stream",
     "text": [
      "[0 0 0 0 0 0 0 0 0 0 0 0 0 0 0 0 0 0 0 0 0 0 0 0 0 0 0 0 0 0 0 0 0 0 0 0 0\n",
      " 0 0 0 0 0 0 0 0 0 0 0 0 0 0 0 0 0 0 0 0 0 0 0 0 0 0 0 0 0 0 0 0 0 0 0 0 0\n",
      " 0 0 0 0 0 0 0 0 0 0 0 0 0 0 0 0 0 0 0 0 0 0 0 0 0 0 0 0 0 0 0 0 0 0 0 0 0\n",
      " 0 0 0 0 0 0 0 0 0 0 0 0 0 0 0 0 0 0 0 0 0 0 0 0 0 0 0 0 0 0 0 0 0 0 0 0 0\n",
      " 0 0 0 0 0 0 0 0 0 0 0 0 0 0 0 0 0 0 0 0 0 0 0 0 0 0 0 0 0 0 0 0 0 0 0 0 0\n",
      " 0 0 0 0 0 0 0 0 0 0 0 0 0 0 0 0 0 0 0 0 0 0 0 0 0 0 0 0 0 0 0 0 0 0 0 0]\n"
     ]
    }
   ],
   "source": [
    "number_of_nans_per_feature = np.sum(dimensionless_feature_df.isna().to_numpy(),axis=0)\n",
    "\n",
    "print(number_of_nans_per_feature)"
   ]
  }
 ],
 "metadata": {
  "kernelspec": {
   "display_name": "mat-hack",
   "language": "python",
   "name": "python3"
  },
  "language_info": {
   "codemirror_mode": {
    "name": "ipython",
    "version": 3
   },
   "file_extension": ".py",
   "mimetype": "text/x-python",
   "name": "python",
   "nbconvert_exporter": "python",
   "pygments_lexer": "ipython3",
   "version": "3.11.0"
  },
  "orig_nbformat": 4,
  "vscode": {
   "interpreter": {
    "hash": "f29cf555f1ad55622b61a06ba1522f7bf976ada2ce369c8ede82aeb1ba1ad311"
   }
  }
 },
 "nbformat": 4,
 "nbformat_minor": 2
}
