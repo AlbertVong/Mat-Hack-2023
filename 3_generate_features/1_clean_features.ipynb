{
 "cells": [
  {
   "cell_type": "code",
   "execution_count": 1,
   "metadata": {},
   "outputs": [],
   "source": [
    "import pandas as pd\n",
    "from tqdm import tqdm\n",
    "import numpy as np"
   ]
  },
  {
   "cell_type": "markdown",
   "metadata": {},
   "source": [
    "# read csv data"
   ]
  },
  {
   "cell_type": "code",
   "execution_count": 5,
   "metadata": {},
   "outputs": [],
   "source": [
    "e1_features = pd.read_csv('e1_features.csv')\n",
    "e2_features = pd.read_csv('e2_features.csv')\n",
    "labels = pd.read_csv('../2_filter/filtered_entries_for_featurization.csv')"
   ]
  },
  {
   "cell_type": "markdown",
   "metadata": {},
   "source": [
    "# clean data set"
   ]
  },
  {
   "cell_type": "code",
   "execution_count": 16,
   "metadata": {},
   "outputs": [
    {
     "name": "stdout",
     "output_type": "stream",
     "text": [
      "NaNs: 22\n",
      "8758 entries before filtering\n",
      "8748 entries after filtering NaNs\n"
     ]
    }
   ],
   "source": [
    "def process_features(df, prefix=''):\n",
    "    df = e1_features.iloc[:,7:]\n",
    "    \n",
    "    feature_names = df.columns\n",
    "    feature_names_to_keep = np.array(['maximum' in name for name in feature_names])\n",
    "    df = df[feature_names[feature_names_to_keep]]\n",
    "\n",
    "    rename_dict = {col : f'{prefix}{col[19:].replace(\" \",\"_\")}' for col in df.columns}\n",
    "    df = df.rename(columns=rename_dict)\n",
    "\n",
    "    # final_feature_names = df.columns\n",
    "    # feature_array = df.to_numpy()\n",
    "    return df\n",
    "\n",
    "\n",
    "### Create combined feature+label array\n",
    "df = pd.concat([labels, process_features(e1_features,'e1_'),\n",
    "                                    process_features(e2_features,'e2_')],axis=1)\n",
    "# df\n",
    "\n",
    "### Drop missing values\n",
    "print(f'NaNs: {df.isna().sum().sum()}')\n",
    "\n",
    "### Drop NaNs\n",
    "print(f'{len(df)} entries before filtering')\n",
    "df = df.dropna()\n",
    "print(f'{len(df)} entries after filtering NaNs')"
   ]
  },
  {
   "cell_type": "markdown",
   "metadata": {},
   "source": [
    "# save feature and label vectors"
   ]
  },
  {
   "cell_type": "code",
   "execution_count": 19,
   "metadata": {},
   "outputs": [],
   "source": [
    "df.drop(columns=['Prototype']).to_csv('final_feature_array.csv', index=None)\n",
    "df[['Prototype']].to_csv('final_label_array.csv', index=None)"
   ]
  }
 ],
 "metadata": {
  "kernelspec": {
   "display_name": "Python 3 (ipykernel)",
   "language": "python",
   "name": "python3"
  },
  "language_info": {
   "codemirror_mode": {
    "name": "ipython",
    "version": 3
   },
   "file_extension": ".py",
   "mimetype": "text/x-python",
   "name": "python",
   "nbconvert_exporter": "python",
   "pygments_lexer": "ipython3",
   "version": "3.8.15"
  },
  "vscode": {
   "interpreter": {
    "hash": "f29cf555f1ad55622b61a06ba1522f7bf976ada2ce369c8ede82aeb1ba1ad311"
   }
  }
 },
 "nbformat": 4,
 "nbformat_minor": 2
}
