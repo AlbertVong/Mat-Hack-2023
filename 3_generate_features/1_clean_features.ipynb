{
 "cells": [
  {
   "cell_type": "code",
   "execution_count": null,
   "metadata": {},
   "outputs": [],
   "source": [
    "import pandas as pd\n",
    "from tqdm import tqdm\n",
    "import numpy as np"
   ]
  },
  {
   "cell_type": "markdown",
   "metadata": {},
   "source": [
    "# read csv data"
   ]
  },
  {
   "cell_type": "code",
   "execution_count": null,
   "metadata": {},
   "outputs": [],
   "source": [
    "df = pd.read_csv('raw_combined_features.csv')\n",
    "df"
   ]
  },
  {
   "cell_type": "markdown",
   "metadata": {},
   "source": [
    "# clean data set"
   ]
  },
  {
   "cell_type": "code",
   "execution_count": null,
   "metadata": {},
   "outputs": [],
   "source": [
    "### Drop missing values\n",
    "print(f'NaNs: {df.isna().sum().to_numpy()}')\n",
    "print(f'{len(df)} entries before filtering')\n",
    "print(f'{len(df.columns)} columns before filtering')\n",
    "\n",
    "# drop entries with lots of NaNs\n",
    "df = df.dropna(thresh=len(df.columns)-4)\n",
    "print(f'{len(df)} entries after filtering NaNs')\n",
    "print(f'NaNs: {df.isna().sum().to_numpy()}')\n",
    "\n",
    "# drop columns with lots of nans\n",
    "df = df.dropna(axis=1)\n",
    "print(f'{len(df.columns)} columns after filtering')\n"
   ]
  },
  {
   "cell_type": "markdown",
   "metadata": {},
   "source": [
    "# save feature and label vectors"
   ]
  },
  {
   "cell_type": "code",
   "execution_count": null,
   "metadata": {},
   "outputs": [],
   "source": [
    "exclude = ['Prototype', 'composition', 'composition_oxid','e1_composition','e2_composition','e1_symbol','e2_symbol']\n",
    "df.drop(columns=exclude).to_csv('final_feature_array.csv', index=None)\n",
    "df[['Prototype']].to_csv('final_label_array.csv', index=None)\n"
   ]
  },
  {
   "cell_type": "code",
   "execution_count": null,
   "metadata": {},
   "outputs": [],
   "source": [
    "### Create version with no statistic features\n",
    "stat_cols = [col for col in df.columns if ('min' in col) or ('max' in col) or ('avg_dev' in col) or ('mean' in col) or ('mode' in col) or ('range' in col)]\n",
    "stat_cols.remove('max_ionic_char')\n",
    "\n",
    "df.drop(columns=exclude+stat_cols).to_csv('cropped_final_feature_array.csv', index=None)"
   ]
  },
  {
   "cell_type": "code",
   "execution_count": null,
   "metadata": {},
   "outputs": [],
   "source": [
    "df.to_csv('cropped_final_feature_array.csv', index=None)"
   ]
  }
 ],
 "metadata": {
  "kernelspec": {
   "display_name": "Python 3 (ipykernel)",
   "language": "python",
   "name": "python3"
  },
  "language_info": {
   "codemirror_mode": {
    "name": "ipython",
    "version": 3
   },
   "file_extension": ".py",
   "mimetype": "text/x-python",
   "name": "python",
   "nbconvert_exporter": "python",
   "pygments_lexer": "ipython3",
   "version": "3.8.15"
  },
  "vscode": {
   "interpreter": {
    "hash": "f29cf555f1ad55622b61a06ba1522f7bf976ada2ce369c8ede82aeb1ba1ad311"
   }
  }
 },
 "nbformat": 4,
 "nbformat_minor": 2
}
