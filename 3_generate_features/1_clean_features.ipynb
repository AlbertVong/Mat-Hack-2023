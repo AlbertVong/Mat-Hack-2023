{
 "cells": [
  {
   "cell_type": "code",
   "execution_count": 1,
   "metadata": {},
   "outputs": [],
   "source": [
    "import pandas as pd\n",
    "from tqdm import tqdm\n",
    "import numpy as np"
   ]
  },
  {
   "attachments": {},
   "cell_type": "markdown",
   "metadata": {},
   "source": [
    "# read csv data"
   ]
  },
  {
   "cell_type": "code",
   "execution_count": 2,
   "metadata": {},
   "outputs": [],
   "source": [
    "e1_features = pd.read_csv('e1_features.csv')\n",
    "e2_features = pd.read_csv('e2_features.csv')"
   ]
  },
  {
   "attachments": {},
   "cell_type": "markdown",
   "metadata": {},
   "source": [
    "# define helper function"
   ]
  },
  {
   "cell_type": "code",
   "execution_count": 3,
   "metadata": {},
   "outputs": [],
   "source": [
    "def process_features(df):\n",
    "    df = e1_features.iloc[:,7:]\n",
    "    \n",
    "    feature_names = df.columns\n",
    "    feature_names_to_keep = np.array(['maximum' in name for name in feature_names])\n",
    "    df = df[feature_names[feature_names_to_keep]]\n",
    "\n",
    "    # final_feature_names = df.columns\n",
    "    # feature_array = df.to_numpy()\n",
    "\n",
    "    return df"
   ]
  },
  {
   "attachments": {},
   "cell_type": "markdown",
   "metadata": {},
   "source": [
    "# save feature array for final output"
   ]
  },
  {
   "cell_type": "code",
   "execution_count": 4,
   "metadata": {},
   "outputs": [],
   "source": [
    "combined_feature_array = pd.concat([process_features(e1_features),process_features(e2_features)],axis=1)\n",
    "\n",
    "combined_feature_array.to_csv('final_feature_array.csv')"
   ]
  }
 ],
 "metadata": {
  "kernelspec": {
   "display_name": "mat-hack",
   "language": "python",
   "name": "python3"
  },
  "language_info": {
   "codemirror_mode": {
    "name": "ipython",
    "version": 3
   },
   "file_extension": ".py",
   "mimetype": "text/x-python",
   "name": "python",
   "nbconvert_exporter": "python",
   "pygments_lexer": "ipython3",
   "version": "3.11.0"
  },
  "orig_nbformat": 4,
  "vscode": {
   "interpreter": {
    "hash": "f29cf555f1ad55622b61a06ba1522f7bf976ada2ce369c8ede82aeb1ba1ad311"
   }
  }
 },
 "nbformat": 4,
 "nbformat_minor": 2
}
