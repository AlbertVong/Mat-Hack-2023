{
 "cells": [
  {
   "cell_type": "code",
   "execution_count": null,
   "metadata": {},
   "outputs": [],
   "source": [
    "import pymatgen.core as mg\n",
    "from pymatgen.core.periodic_table import Species\n",
    "from pymatgen.io import cif\n",
    "from matminer.featurizers.conversions import StrToComposition, CompositionToOxidComposition\n",
    "from matminer.featurizers.composition import ElementProperty, IonProperty, ElectronAffinity,\\\n",
    "                                                BandCenter, TMetalFraction, ElectronegativityDiff\n",
    "import glob\n",
    "import pandas as pd\n",
    "import numpy as np\n",
    "\n",
    "\n",
    "def prettify_features(df, discard_terms=['minimum','maximum','avg_dev','mode','range'], prefix=''):\n",
    "    \"\"\"Prettify feature names and remove redundant features \n",
    "    \"\"\"\n",
    "    feature_names = df.columns\n",
    "    \n",
    "    for discard_term in discard_terms:\n",
    "        feature_names = df.columns\n",
    "        discard_mask = np.array([discard_term in name for name in feature_names])\n",
    "        df = df[feature_names[~discard_mask]]\n",
    "\n",
    "    rename_dict = {col : f'{prefix}{col.replace(\"MagpieData \", \"\").replace(\"mean \",\"\").replace(\" \",\"_\").lower()}' for col in df.columns}\n",
    "    print(rename_dict)\n",
    "    df = df.rename(columns=rename_dict)\n",
    "    return df"
   ]
  },
  {
   "cell_type": "markdown",
   "metadata": {},
   "source": [
    "# read csv from previous step"
   ]
  },
  {
   "cell_type": "code",
   "execution_count": null,
   "metadata": {},
   "outputs": [],
   "source": [
    "df = pd.read_csv('../2_filter/filtered_entries_for_featurization.csv')"
   ]
  },
  {
   "cell_type": "markdown",
   "metadata": {},
   "source": [
    "# Composition-based featurization"
   ]
  },
  {
   "cell_type": "code",
   "execution_count": null,
   "metadata": {},
   "outputs": [],
   "source": [
    "# Find composition\n",
    "df = StrToComposition().featurize_dataframe(df, 'Formula')\n",
    "\n",
    "# Guess oxidation states\n",
    "df = CompositionToOxidComposition().featurize_dataframe(df, 'composition')\n",
    "\n",
    "### Detect 0 oxi states\n",
    "has_0_oxi = [0 in [spec.oxi_state for spec in comp.elements] for comp in df.composition_oxid]\n",
    "print(f'{sum(has_0_oxi)} entries with +0 oxidation states')\n",
    "\n",
    "# Calculate composition based features\n",
    "df = IonProperty().featurize_dataframe(df, 'composition_oxid')\n",
    "df = ElementProperty.from_preset(preset_name=\"magpie\").featurize_dataframe(df, 'composition_oxid')\n",
    "df = ElectronAffinity().featurize_dataframe(df, 'composition_oxid', ignore_errors=True)\n",
    "df = BandCenter().featurize_dataframe(df, 'composition_oxid', ignore_errors=True)\n",
    "\n",
    "# Flag compounds which tend to charge-disproporionate\n",
    "df['chg_dispro'] = [len(oxid_comp) > 2 for oxid_comp in df.composition_oxid]\n",
    "df"
   ]
  },
  {
   "cell_type": "markdown",
   "metadata": {},
   "source": [
    "# Element-wise featurization"
   ]
  },
  {
   "cell_type": "code",
   "execution_count": null,
   "metadata": {},
   "outputs": [],
   "source": [
    "### Separate composition AB2 into A and B and their respective oxi states\n",
    "### mean avg oxi state for charge disproportionated species\n",
    "\n",
    "def separate_composition(oxid_comp):\n",
    "    \"\"\"Turns a composition with oxidation states into it's two components \n",
    "    sorted by ascending stoichiometric numbers\n",
    "    Charge disproportionated elements are assigned the average charge\n",
    "    \"\"\"\n",
    "    compdict = oxid_comp.as_dict()\n",
    "#     species = oxid_comp.elements\n",
    "#     symbols = np.array([elem.symbol for elem in oxid_comp.elements])\n",
    "#     oxis = np.array([elem.oxi_state for elem in oxid_comp.elements])\n",
    "    # Case of charge disproportionation\n",
    "    if len(compdict) > 2:\n",
    "        symbols = np.array([elem.symbol for elem in oxid_comp.elements])\n",
    "        oxis = np.array([elem.oxi_state for elem in oxid_comp.elements])\n",
    "        uniq_syms, counts = np.unique(symbols, return_counts=True)\n",
    "        # Sort by stoich ratio\n",
    "        uniq_syms = list(list(zip(*sorted(zip(counts, uniq_syms))))[1])\n",
    "        # Collapse charge dispro sites and avg the oxi state\n",
    "        avg_oxis = []\n",
    "        for sym in uniq_syms:\n",
    "            ident = (symbols == sym)\n",
    "            avg_oxis.append(ident.dot(oxis)/len(ident[ident > 0]))\n",
    "        return uniq_syms, avg_oxis\n",
    "        return [Species(sym ,oxidation_state=oxi) for sym, oxi in zip(uniq_syms, avg_oxis)]\n",
    "    # Case of no charge disproportionation\n",
    "    else:\n",
    "        sorted_counts_spec = list(zip(*sorted(zip(compdict.values(), compdict.keys()))))\n",
    "        species = list(sorted_counts_spec[1])\n",
    "        symbols = [Species.from_string(elem).symbol for elem in species]\n",
    "        oxis = [Species.from_string(elem).oxi_state for elem in species]\n",
    "    return symbols, oxis\n",
    "\n",
    "\n",
    "sym_oxis = [separate_composition(oxid_comp) for oxid_comp in df.composition_oxid]\n",
    "symbols = [entry[0] for entry in sym_oxis]\n",
    "avg_oxis = [entry[1] for entry in sym_oxis]\n",
    "elem_df = pd.DataFrame({'Collection_Code':df.Collection_Code})\n",
    "for i in range(2):\n",
    "    elem_df[f'e{i+1}_symbol'] = [entry[i] for entry in symbols]\n",
    "    # Split oxi states into pos and negative columns so we can deal with \n",
    "    # zeros for dimensionless features later\n",
    "    elem_df[f'e{i+1}_avg_oxi_pos'] = [entry[i] if entry[i] > 0 else 0 for entry in avg_oxis]\n",
    "    elem_df[f'e{i+1}_avg_oxi_neg'] = [-entry[i] if entry[i] < 0 else 0 for entry in avg_oxis]"
   ]
  },
  {
   "cell_type": "code",
   "execution_count": null,
   "metadata": {},
   "outputs": [],
   "source": [
    "### Get element-based features\n",
    "\n",
    "for i in [1, 2]:\n",
    "    # get element-based features\n",
    "    elem_feats = StrToComposition().featurize_dataframe(elem_df[['Collection_Code', f'e{i}_symbol']], f'e{i}_symbol')\n",
    "    elem_feats = ElementProperty.from_preset(preset_name=\"magpie\").featurize_dataframe(elem_feats, 'composition')\n",
    "    # Remove all columns except mean bc it's for single element\n",
    "    feature_names = elem_feats.columns\n",
    "    for discard_term in ['minimum','maximum','avg_dev','mode','range']:\n",
    "        feature_names = elem_feats.columns\n",
    "        discard_mask = np.array([discard_term in name for name in feature_names])\n",
    "        elem_feats = elem_feats[feature_names[~discard_mask]]\n",
    "    # rename columns to be element-specific\n",
    "    rename_dict = {col:f'e{i}_{col}'.replace('mean ','') for col in elem_feats.columns if ((col[:2] != f'e{i}') and (col != 'Collection_Code')) }\n",
    "    elem_feats = elem_feats.rename(columns=rename_dict)\n",
    "    elem_df = elem_df.merge(elem_feats, on=['Collection_Code',f'e{i}_symbol'])\n",
    "    \n",
    "elem_df.columns.to_numpy()"
   ]
  },
  {
   "cell_type": "code",
   "execution_count": null,
   "metadata": {},
   "outputs": [],
   "source": [
    "### Merge element features into main df\n",
    "df = df.merge(elem_df, on='Collection_Code')"
   ]
  },
  {
   "cell_type": "markdown",
   "metadata": {},
   "source": [
    "# Clean up and write features"
   ]
  },
  {
   "cell_type": "code",
   "execution_count": null,
   "metadata": {},
   "outputs": [],
   "source": [
    "### Clean up feature names\n",
    "rename_dict = {col : col.replace(\"MagpieData \", \"\").replace('minimum','min').replace('maximum','max').replace(\" \",\"_\") for col in df.columns}\n",
    "df = df.rename(columns=rename_dict)\n",
    "\n",
    "### Drop features we don't want\n",
    "df = df.drop(columns=['compound_possible'] + [col for col in df.columns if 'SpaceGroupNumber' in col])\n",
    "df.columns.to_numpy()"
   ]
  },
  {
   "cell_type": "code",
   "execution_count": null,
   "metadata": {},
   "outputs": [],
   "source": [
    "### Write\n",
    "df.to_csv('raw_combined_features.csv', index=None)"
   ]
  },
  {
   "cell_type": "markdown",
   "metadata": {},
   "source": [
    "# Fix oxi state (split into neg)"
   ]
  },
  {
   "cell_type": "code",
   "execution_count": 42,
   "metadata": {},
   "outputs": [
    {
     "data": {
      "text/plain": [
       "array(['Collection_Code', 'Formula', 'max_ionic_char', 'avg_ionic_char',\n",
       "       'chg_dispro', 'e1_Number', 'e1_MendeleevNumber', 'e1_AtomicWeight',\n",
       "       'e1_MeltingT', 'e1_Column', 'e1_Row', 'e1_CovalentRadius',\n",
       "       'e1_Electronegativity', 'e1_NsValence', 'e1_NpValence',\n",
       "       'e1_NdValence', 'e1_NfValence', 'e1_NValence', 'e1_NsUnfilled',\n",
       "       'e1_NpUnfilled', 'e1_NdUnfilled', 'e1_NfUnfilled', 'e1_NUnfilled',\n",
       "       'e1_GSvolume_pa', 'e1_GSbandgap', 'e1_GSmagmom', 'e2_Number',\n",
       "       'e2_MendeleevNumber', 'e2_AtomicWeight', 'e2_MeltingT',\n",
       "       'e2_Column', 'e2_Row', 'e2_CovalentRadius', 'e2_Electronegativity',\n",
       "       'e2_NsValence', 'e2_NpValence', 'e2_NdValence', 'e2_NfValence',\n",
       "       'e2_NValence', 'e2_NsUnfilled', 'e2_NpUnfilled', 'e2_NdUnfilled',\n",
       "       'e2_NfUnfilled', 'e2_NUnfilled', 'e2_GSvolume_pa', 'e2_GSbandgap',\n",
       "       'e2_GSmagmom', 'e1_avg_oxi_pos', 'e1_avg_oxi_neg',\n",
       "       'e2_avg_oxi_pos', 'e2_avg_oxi_neg'], dtype=object)"
      ]
     },
     "execution_count": 42,
     "metadata": {},
     "output_type": "execute_result"
    }
   ],
   "source": [
    "# file_to_fix = 'final_feature_array.csv'\n",
    "file_to_fix = 'cropped_final_feature_array.csv'\n",
    "df = pd.read_csv(file_to_fix)\n",
    "\n",
    "for i in range(2):\n",
    "    df[f'e{i+1}_avg_oxi_pos'] = [entry if entry > 0 else 0 for entry in df[f'e{i+1}_avg_oxi']]\n",
    "    df[f'e{i+1}_avg_oxi_neg'] = [-entry if entry < 0 else 0 for entry in df[f'e{i+1}_avg_oxi']]\n",
    "df.drop(columns=['e1_avg_oxi','e2_avg_oxi']).columns.to_numpy()"
   ]
  },
  {
   "cell_type": "code",
   "execution_count": 43,
   "metadata": {},
   "outputs": [],
   "source": [
    "df.drop(columns=['e1_avg_oxi','e2_avg_oxi']).to_csv(file_to_fix, index=None)"
   ]
  },
  {
   "cell_type": "code",
   "execution_count": null,
   "metadata": {},
   "outputs": [],
   "source": []
  }
 ],
 "metadata": {
  "kernelspec": {
   "display_name": "Python 3 (ipykernel)",
   "language": "python",
   "name": "python3"
  },
  "language_info": {
   "codemirror_mode": {
    "name": "ipython",
    "version": 3
   },
   "file_extension": ".py",
   "mimetype": "text/x-python",
   "name": "python",
   "nbconvert_exporter": "python",
   "pygments_lexer": "ipython3",
   "version": "3.8.15"
  },
  "vscode": {
   "interpreter": {
    "hash": "f29cf555f1ad55622b61a06ba1522f7bf976ada2ce369c8ede82aeb1ba1ad311"
   }
  }
 },
 "nbformat": 4,
 "nbformat_minor": 4
}
