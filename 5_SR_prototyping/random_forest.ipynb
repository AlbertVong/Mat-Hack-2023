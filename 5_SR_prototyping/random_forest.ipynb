{
 "cells": [
  {
   "cell_type": "code",
   "execution_count": 1,
   "metadata": {},
   "outputs": [],
   "source": [
    "from sklearn.ensemble import RandomForestClassifier\n",
    "from sklearn.model_selection import cross_val_score\n",
    "from sklearn.model_selection import StratifiedKFold\n",
    "from sklearn.metrics import precision_score, recall_score"
   ]
  },
  {
   "cell_type": "code",
   "execution_count": null,
   "metadata": {},
   "outputs": [],
   "source": [
    "def run_random_forest(SR_features,SR_targets):\n",
    "    #Stratified K fold (maintain class balance)\n",
    "\n",
    "    skf = StratifiedKFold(n_splits=10)\n",
    "\n",
    "    cv_precisions = []\n",
    "    cv_recalls = []\n",
    "\n",
    "    for i, (train_idx, test_idx) in enumerate(skf.split(SR_features,SR_targets)):\n",
    "        train_features_i = features[train_idx]\n",
    "        train_labels_i = labels_1vsall[train_idx]\n",
    "\n",
    "        test_features_i = features[test_idx]\n",
    "        test_labels_i = labels_1vsall[test_idx]\n",
    "\n",
    "        #Fit naive rf model\n",
    "        naive_rf_i = RandomForestClassifier()\n",
    "        naive_rf_i.fit(train_features_i, train_labels_i)\n",
    "        \n",
    "        predict_labels_i = naive_rf_i.predict(test_feat)\n",
    "\n",
    "        #Fit on k-folded validation set\n",
    "        precision, recall = precision_score(test_labels_i, predict_labels_i)\n",
    "\n",
    "        cv_precisions += [precision]\n",
    "        cv_recalls += [recall]\n",
    "\n",
    "    return cv_precision, cv_recall"
   ]
  },
  {
   "cell_type": "markdown",
   "metadata": {},
   "source": [
    "# load data"
   ]
  },
  {
   "cell_type": "markdown",
   "metadata": {},
   "source": []
  }
 ],
 "metadata": {
  "kernelspec": {
   "display_name": "mat-hack",
   "language": "python",
   "name": "python3"
  },
  "language_info": {
   "codemirror_mode": {
    "name": "ipython",
    "version": 3
   },
   "file_extension": ".py",
   "mimetype": "text/x-python",
   "name": "python",
   "nbconvert_exporter": "python",
   "pygments_lexer": "ipython3",
   "version": "3.11.0"
  },
  "orig_nbformat": 4,
  "vscode": {
   "interpreter": {
    "hash": "f29cf555f1ad55622b61a06ba1522f7bf976ada2ce369c8ede82aeb1ba1ad311"
   }
  }
 },
 "nbformat": 4,
 "nbformat_minor": 2
}
