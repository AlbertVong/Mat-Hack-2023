{
 "cells": [
  {
   "cell_type": "code",
   "execution_count": 1,
   "metadata": {},
   "outputs": [],
   "source": [
    "import numpy as np\n",
    "import matplotlib.pyplot as plt\n",
    "from gplearn.genetic import SymbolicClassifier\n",
    "import pandas as pd\n",
    "import random"
   ]
  },
  {
   "cell_type": "code",
   "execution_count": 2,
   "metadata": {},
   "outputs": [],
   "source": [
    "import graphviz\n",
    "from sklearn.utils import check_random_state\n",
    "from sklearn.metrics import roc_auc_score\n",
    "from sklearn.model_selection import StratifiedKFold\n",
    "\n"
   ]
  },
  {
   "attachments": {},
   "cell_type": "markdown",
   "metadata": {},
   "source": [
    "## Defining useful functions"
   ]
  },
  {
   "cell_type": "code",
   "execution_count": 3,
   "metadata": {},
   "outputs": [],
   "source": [
    "#Function to change multiclass classification to 1 vs all\n",
    "def multiclass_to_binary(labels, most_common_id):\n",
    "    to_binary = lambda val: 1 if val == most_common_id else 0\n",
    "    to_binary_vec = np.vectorize(to_binary)\n",
    "\n",
    "    labels_1vsall = to_binary_vec(labels)\n",
    "\n",
    "    return labels_1vsall"
   ]
  },
  {
   "cell_type": "code",
   "execution_count": 17,
   "metadata": {},
   "outputs": [],
   "source": [
    "#Function for prettifying expressions output by the symbolic classifier (denoted as SR_Classifier)\n",
    "#Converts program expression -> sympy -> latex -> janky matplotlib workaround for latex formulas\n",
    "\n",
    "from sympy import *\n",
    "from IPython.display import display, Math\n",
    "\n",
    "#Dictionary for functions in gplearn\n",
    "converter = {\n",
    "    'sub': lambda x, y : x - y,\n",
    "    'div': lambda x, y : x/y,\n",
    "    'mul': lambda x, y : x*y,\n",
    "    'add': lambda x, y : x + y,\n",
    "    'neg': lambda x    : -x,\n",
    "    'pow': lambda x, y : x**y,\n",
    "    'sin': lambda x    : sin(x),\n",
    "    'cos': lambda x    : cos(x),\n",
    "    'inv': lambda x: 1/x,\n",
    "    'sqrt': lambda x: x**0.5,\n",
    "    'pow3': lambda x: x**3\n",
    "}\n",
    "\n",
    "def prettify(classifier,save=False):\n",
    "    expression = sympify((str(SR_classifier._program)), locals=converter)\n",
    "    exp_latek = latex(expression)\n",
    "    ax = plt.axes([0,0,0.3,0.3]) #left,bottom,width,height\n",
    "    ax.set_xticks([])\n",
    "    ax.set_yticks([])\n",
    "    ax.axis('off')\n",
    "    \n",
    "    plt.text(0.4, 0.4,'$%s$'%exp_latek, size = 50)\n",
    "\n",
    "    if save: plt.savefig('../figures/pretty_expression.png',dpi=300,bbox_inches='tight')\n",
    "\n",
    "    \n"
   ]
  },
  {
   "attachments": {},
   "cell_type": "markdown",
   "metadata": {},
   "source": [
    "## Pulling Full Sample Dataset from CSV and convert to np array"
   ]
  },
  {
   "cell_type": "code",
   "execution_count": 5,
   "metadata": {},
   "outputs": [
    {
     "data": {
      "text/plain": [
       "True"
      ]
     },
     "execution_count": 5,
     "metadata": {},
     "output_type": "execute_result"
    }
   ],
   "source": [
    "import os\n",
    "path = os.getcwd()\n",
    "par = os.path.abspath(os.path.join(path, os.pardir))\n",
    "\n",
    "data_path = os.path.join(par,'3_generate_features','final_feature_array.csv')\n",
    "label_path = os.path.join(par,'3_generate_features','final_label_array.csv')\n",
    "\n",
    "os.path.isfile(data_path)\n"
   ]
  },
  {
   "cell_type": "code",
   "execution_count": 6,
   "metadata": {},
   "outputs": [],
   "source": [
    "pd.set_option('display.max_columns', None)"
   ]
  },
  {
   "cell_type": "code",
   "execution_count": 7,
   "metadata": {},
   "outputs": [
    {
     "data": {
      "text/html": [
       "<div>\n",
       "<style scoped>\n",
       "    .dataframe tbody tr th:only-of-type {\n",
       "        vertical-align: middle;\n",
       "    }\n",
       "\n",
       "    .dataframe tbody tr th {\n",
       "        vertical-align: top;\n",
       "    }\n",
       "\n",
       "    .dataframe thead th {\n",
       "        text-align: right;\n",
       "    }\n",
       "</style>\n",
       "<table border=\"1\" class=\"dataframe\">\n",
       "  <thead>\n",
       "    <tr style=\"text-align: right;\">\n",
       "      <th></th>\n",
       "      <th>Collection_Code</th>\n",
       "      <th>e1_Number</th>\n",
       "      <th>e1_MendeleevNumber</th>\n",
       "      <th>e1_AtomicWeight</th>\n",
       "      <th>e1_MeltingT</th>\n",
       "      <th>e1_Column</th>\n",
       "      <th>e1_Row</th>\n",
       "      <th>e1_CovalentRadius</th>\n",
       "      <th>e1_Electronegativity</th>\n",
       "      <th>e1_NsValence</th>\n",
       "      <th>e1_NpValence</th>\n",
       "      <th>e1_NdValence</th>\n",
       "      <th>e1_NfValence</th>\n",
       "      <th>e1_NValence</th>\n",
       "      <th>e1_NsUnfilled</th>\n",
       "      <th>e1_NpUnfilled</th>\n",
       "      <th>e1_NdUnfilled</th>\n",
       "      <th>e1_NfUnfilled</th>\n",
       "      <th>e1_NUnfilled</th>\n",
       "      <th>e1_GSvolume_pa</th>\n",
       "      <th>e1_GSbandgap</th>\n",
       "      <th>e1_GSmagmom</th>\n",
       "      <th>e1_SpaceGroupNumber</th>\n",
       "      <th>e2_Number</th>\n",
       "      <th>e2_MendeleevNumber</th>\n",
       "      <th>e2_AtomicWeight</th>\n",
       "      <th>e2_MeltingT</th>\n",
       "      <th>e2_Column</th>\n",
       "      <th>e2_Row</th>\n",
       "      <th>e2_CovalentRadius</th>\n",
       "      <th>e2_Electronegativity</th>\n",
       "      <th>e2_NsValence</th>\n",
       "      <th>e2_NpValence</th>\n",
       "      <th>e2_NdValence</th>\n",
       "      <th>e2_NfValence</th>\n",
       "      <th>e2_NValence</th>\n",
       "      <th>e2_NsUnfilled</th>\n",
       "      <th>e2_NpUnfilled</th>\n",
       "      <th>e2_NdUnfilled</th>\n",
       "      <th>e2_NfUnfilled</th>\n",
       "      <th>e2_NUnfilled</th>\n",
       "      <th>e2_GSvolume_pa</th>\n",
       "      <th>e2_GSbandgap</th>\n",
       "      <th>e2_GSmagmom</th>\n",
       "      <th>e2_SpaceGroupNumber</th>\n",
       "    </tr>\n",
       "  </thead>\n",
       "  <tbody>\n",
       "    <tr>\n",
       "      <th>0</th>\n",
       "      <td>159910</td>\n",
       "      <td>22.0</td>\n",
       "      <td>43.0</td>\n",
       "      <td>47.867000</td>\n",
       "      <td>1941.0</td>\n",
       "      <td>4.0</td>\n",
       "      <td>4.0</td>\n",
       "      <td>160.0</td>\n",
       "      <td>1.54</td>\n",
       "      <td>2.0</td>\n",
       "      <td>0.0</td>\n",
       "      <td>2.0</td>\n",
       "      <td>0.0</td>\n",
       "      <td>4.0</td>\n",
       "      <td>0.0</td>\n",
       "      <td>0.0</td>\n",
       "      <td>8.0</td>\n",
       "      <td>0.0</td>\n",
       "      <td>8.0</td>\n",
       "      <td>16.690000</td>\n",
       "      <td>0.000</td>\n",
       "      <td>0.000023</td>\n",
       "      <td>194.0</td>\n",
       "      <td>22.0</td>\n",
       "      <td>43.0</td>\n",
       "      <td>47.867000</td>\n",
       "      <td>1941.0</td>\n",
       "      <td>4.0</td>\n",
       "      <td>4.0</td>\n",
       "      <td>160.0</td>\n",
       "      <td>1.54</td>\n",
       "      <td>2.0</td>\n",
       "      <td>0.0</td>\n",
       "      <td>2.0</td>\n",
       "      <td>0.0</td>\n",
       "      <td>4.0</td>\n",
       "      <td>0.0</td>\n",
       "      <td>0.0</td>\n",
       "      <td>8.0</td>\n",
       "      <td>0.0</td>\n",
       "      <td>8.0</td>\n",
       "      <td>16.690000</td>\n",
       "      <td>0.000</td>\n",
       "      <td>0.000023</td>\n",
       "      <td>194.0</td>\n",
       "    </tr>\n",
       "    <tr>\n",
       "      <th>1</th>\n",
       "      <td>180903</td>\n",
       "      <td>14.0</td>\n",
       "      <td>78.0</td>\n",
       "      <td>28.085500</td>\n",
       "      <td>1687.0</td>\n",
       "      <td>14.0</td>\n",
       "      <td>3.0</td>\n",
       "      <td>111.0</td>\n",
       "      <td>1.90</td>\n",
       "      <td>2.0</td>\n",
       "      <td>2.0</td>\n",
       "      <td>0.0</td>\n",
       "      <td>0.0</td>\n",
       "      <td>4.0</td>\n",
       "      <td>0.0</td>\n",
       "      <td>4.0</td>\n",
       "      <td>0.0</td>\n",
       "      <td>0.0</td>\n",
       "      <td>4.0</td>\n",
       "      <td>20.440000</td>\n",
       "      <td>0.773</td>\n",
       "      <td>0.000000</td>\n",
       "      <td>227.0</td>\n",
       "      <td>14.0</td>\n",
       "      <td>78.0</td>\n",
       "      <td>28.085500</td>\n",
       "      <td>1687.0</td>\n",
       "      <td>14.0</td>\n",
       "      <td>3.0</td>\n",
       "      <td>111.0</td>\n",
       "      <td>1.90</td>\n",
       "      <td>2.0</td>\n",
       "      <td>2.0</td>\n",
       "      <td>0.0</td>\n",
       "      <td>0.0</td>\n",
       "      <td>4.0</td>\n",
       "      <td>0.0</td>\n",
       "      <td>4.0</td>\n",
       "      <td>0.0</td>\n",
       "      <td>0.0</td>\n",
       "      <td>4.0</td>\n",
       "      <td>20.440000</td>\n",
       "      <td>0.773</td>\n",
       "      <td>0.000000</td>\n",
       "      <td>227.0</td>\n",
       "    </tr>\n",
       "    <tr>\n",
       "      <th>2</th>\n",
       "      <td>246888</td>\n",
       "      <td>25.0</td>\n",
       "      <td>52.0</td>\n",
       "      <td>54.938045</td>\n",
       "      <td>1519.0</td>\n",
       "      <td>7.0</td>\n",
       "      <td>4.0</td>\n",
       "      <td>139.0</td>\n",
       "      <td>1.55</td>\n",
       "      <td>2.0</td>\n",
       "      <td>0.0</td>\n",
       "      <td>5.0</td>\n",
       "      <td>0.0</td>\n",
       "      <td>7.0</td>\n",
       "      <td>0.0</td>\n",
       "      <td>0.0</td>\n",
       "      <td>5.0</td>\n",
       "      <td>0.0</td>\n",
       "      <td>5.0</td>\n",
       "      <td>10.487586</td>\n",
       "      <td>0.000</td>\n",
       "      <td>0.000310</td>\n",
       "      <td>217.0</td>\n",
       "      <td>25.0</td>\n",
       "      <td>52.0</td>\n",
       "      <td>54.938045</td>\n",
       "      <td>1519.0</td>\n",
       "      <td>7.0</td>\n",
       "      <td>4.0</td>\n",
       "      <td>139.0</td>\n",
       "      <td>1.55</td>\n",
       "      <td>2.0</td>\n",
       "      <td>0.0</td>\n",
       "      <td>5.0</td>\n",
       "      <td>0.0</td>\n",
       "      <td>7.0</td>\n",
       "      <td>0.0</td>\n",
       "      <td>0.0</td>\n",
       "      <td>5.0</td>\n",
       "      <td>0.0</td>\n",
       "      <td>5.0</td>\n",
       "      <td>10.487586</td>\n",
       "      <td>0.000</td>\n",
       "      <td>0.000310</td>\n",
       "      <td>217.0</td>\n",
       "    </tr>\n",
       "    <tr>\n",
       "      <th>3</th>\n",
       "      <td>108587</td>\n",
       "      <td>12.0</td>\n",
       "      <td>68.0</td>\n",
       "      <td>24.305000</td>\n",
       "      <td>923.0</td>\n",
       "      <td>2.0</td>\n",
       "      <td>3.0</td>\n",
       "      <td>141.0</td>\n",
       "      <td>1.31</td>\n",
       "      <td>2.0</td>\n",
       "      <td>0.0</td>\n",
       "      <td>0.0</td>\n",
       "      <td>0.0</td>\n",
       "      <td>2.0</td>\n",
       "      <td>0.0</td>\n",
       "      <td>0.0</td>\n",
       "      <td>0.0</td>\n",
       "      <td>0.0</td>\n",
       "      <td>0.0</td>\n",
       "      <td>22.890000</td>\n",
       "      <td>0.000</td>\n",
       "      <td>0.000000</td>\n",
       "      <td>194.0</td>\n",
       "      <td>12.0</td>\n",
       "      <td>68.0</td>\n",
       "      <td>24.305000</td>\n",
       "      <td>923.0</td>\n",
       "      <td>2.0</td>\n",
       "      <td>3.0</td>\n",
       "      <td>141.0</td>\n",
       "      <td>1.31</td>\n",
       "      <td>2.0</td>\n",
       "      <td>0.0</td>\n",
       "      <td>0.0</td>\n",
       "      <td>0.0</td>\n",
       "      <td>2.0</td>\n",
       "      <td>0.0</td>\n",
       "      <td>0.0</td>\n",
       "      <td>0.0</td>\n",
       "      <td>0.0</td>\n",
       "      <td>0.0</td>\n",
       "      <td>22.890000</td>\n",
       "      <td>0.000</td>\n",
       "      <td>0.000000</td>\n",
       "      <td>194.0</td>\n",
       "    </tr>\n",
       "    <tr>\n",
       "      <th>4</th>\n",
       "      <td>89278</td>\n",
       "      <td>14.0</td>\n",
       "      <td>78.0</td>\n",
       "      <td>28.085500</td>\n",
       "      <td>1687.0</td>\n",
       "      <td>14.0</td>\n",
       "      <td>3.0</td>\n",
       "      <td>111.0</td>\n",
       "      <td>1.90</td>\n",
       "      <td>2.0</td>\n",
       "      <td>2.0</td>\n",
       "      <td>0.0</td>\n",
       "      <td>0.0</td>\n",
       "      <td>4.0</td>\n",
       "      <td>0.0</td>\n",
       "      <td>4.0</td>\n",
       "      <td>0.0</td>\n",
       "      <td>0.0</td>\n",
       "      <td>4.0</td>\n",
       "      <td>20.440000</td>\n",
       "      <td>0.773</td>\n",
       "      <td>0.000000</td>\n",
       "      <td>227.0</td>\n",
       "      <td>14.0</td>\n",
       "      <td>78.0</td>\n",
       "      <td>28.085500</td>\n",
       "      <td>1687.0</td>\n",
       "      <td>14.0</td>\n",
       "      <td>3.0</td>\n",
       "      <td>111.0</td>\n",
       "      <td>1.90</td>\n",
       "      <td>2.0</td>\n",
       "      <td>2.0</td>\n",
       "      <td>0.0</td>\n",
       "      <td>0.0</td>\n",
       "      <td>4.0</td>\n",
       "      <td>0.0</td>\n",
       "      <td>4.0</td>\n",
       "      <td>0.0</td>\n",
       "      <td>0.0</td>\n",
       "      <td>4.0</td>\n",
       "      <td>20.440000</td>\n",
       "      <td>0.773</td>\n",
       "      <td>0.000000</td>\n",
       "      <td>227.0</td>\n",
       "    </tr>\n",
       "  </tbody>\n",
       "</table>\n",
       "</div>"
      ],
      "text/plain": [
       "   Collection_Code  e1_Number  e1_MendeleevNumber  e1_AtomicWeight  \\\n",
       "0           159910       22.0                43.0        47.867000   \n",
       "1           180903       14.0                78.0        28.085500   \n",
       "2           246888       25.0                52.0        54.938045   \n",
       "3           108587       12.0                68.0        24.305000   \n",
       "4            89278       14.0                78.0        28.085500   \n",
       "\n",
       "   e1_MeltingT  e1_Column  e1_Row  e1_CovalentRadius  e1_Electronegativity  \\\n",
       "0       1941.0        4.0     4.0              160.0                  1.54   \n",
       "1       1687.0       14.0     3.0              111.0                  1.90   \n",
       "2       1519.0        7.0     4.0              139.0                  1.55   \n",
       "3        923.0        2.0     3.0              141.0                  1.31   \n",
       "4       1687.0       14.0     3.0              111.0                  1.90   \n",
       "\n",
       "   e1_NsValence  e1_NpValence  e1_NdValence  e1_NfValence  e1_NValence  \\\n",
       "0           2.0           0.0           2.0           0.0          4.0   \n",
       "1           2.0           2.0           0.0           0.0          4.0   \n",
       "2           2.0           0.0           5.0           0.0          7.0   \n",
       "3           2.0           0.0           0.0           0.0          2.0   \n",
       "4           2.0           2.0           0.0           0.0          4.0   \n",
       "\n",
       "   e1_NsUnfilled  e1_NpUnfilled  e1_NdUnfilled  e1_NfUnfilled  e1_NUnfilled  \\\n",
       "0            0.0            0.0            8.0            0.0           8.0   \n",
       "1            0.0            4.0            0.0            0.0           4.0   \n",
       "2            0.0            0.0            5.0            0.0           5.0   \n",
       "3            0.0            0.0            0.0            0.0           0.0   \n",
       "4            0.0            4.0            0.0            0.0           4.0   \n",
       "\n",
       "   e1_GSvolume_pa  e1_GSbandgap  e1_GSmagmom  e1_SpaceGroupNumber  e2_Number  \\\n",
       "0       16.690000         0.000     0.000023                194.0       22.0   \n",
       "1       20.440000         0.773     0.000000                227.0       14.0   \n",
       "2       10.487586         0.000     0.000310                217.0       25.0   \n",
       "3       22.890000         0.000     0.000000                194.0       12.0   \n",
       "4       20.440000         0.773     0.000000                227.0       14.0   \n",
       "\n",
       "   e2_MendeleevNumber  e2_AtomicWeight  e2_MeltingT  e2_Column  e2_Row  \\\n",
       "0                43.0        47.867000       1941.0        4.0     4.0   \n",
       "1                78.0        28.085500       1687.0       14.0     3.0   \n",
       "2                52.0        54.938045       1519.0        7.0     4.0   \n",
       "3                68.0        24.305000        923.0        2.0     3.0   \n",
       "4                78.0        28.085500       1687.0       14.0     3.0   \n",
       "\n",
       "   e2_CovalentRadius  e2_Electronegativity  e2_NsValence  e2_NpValence  \\\n",
       "0              160.0                  1.54           2.0           0.0   \n",
       "1              111.0                  1.90           2.0           2.0   \n",
       "2              139.0                  1.55           2.0           0.0   \n",
       "3              141.0                  1.31           2.0           0.0   \n",
       "4              111.0                  1.90           2.0           2.0   \n",
       "\n",
       "   e2_NdValence  e2_NfValence  e2_NValence  e2_NsUnfilled  e2_NpUnfilled  \\\n",
       "0           2.0           0.0          4.0            0.0            0.0   \n",
       "1           0.0           0.0          4.0            0.0            4.0   \n",
       "2           5.0           0.0          7.0            0.0            0.0   \n",
       "3           0.0           0.0          2.0            0.0            0.0   \n",
       "4           0.0           0.0          4.0            0.0            4.0   \n",
       "\n",
       "   e2_NdUnfilled  e2_NfUnfilled  e2_NUnfilled  e2_GSvolume_pa  e2_GSbandgap  \\\n",
       "0            8.0            0.0           8.0       16.690000         0.000   \n",
       "1            0.0            0.0           4.0       20.440000         0.773   \n",
       "2            5.0            0.0           5.0       10.487586         0.000   \n",
       "3            0.0            0.0           0.0       22.890000         0.000   \n",
       "4            0.0            0.0           4.0       20.440000         0.773   \n",
       "\n",
       "   e2_GSmagmom  e2_SpaceGroupNumber  \n",
       "0     0.000023                194.0  \n",
       "1     0.000000                227.0  \n",
       "2     0.000310                217.0  \n",
       "3     0.000000                194.0  \n",
       "4     0.000000                227.0  "
      ]
     },
     "execution_count": 7,
     "metadata": {},
     "output_type": "execute_result"
    }
   ],
   "source": [
    "#Turn into DF\n",
    "prototype_df = pd.read_csv(data_path)\n",
    "label_df = pd.read_csv(label_path)\n",
    "\n",
    "#Drop formula column\n",
    "prototype_df = prototype_df.drop(columns='Formula')\n",
    "prototype_df.head()"
   ]
  },
  {
   "cell_type": "code",
   "execution_count": 8,
   "metadata": {},
   "outputs": [
    {
     "data": {
      "text/html": [
       "<div>\n",
       "<style scoped>\n",
       "    .dataframe tbody tr th:only-of-type {\n",
       "        vertical-align: middle;\n",
       "    }\n",
       "\n",
       "    .dataframe tbody tr th {\n",
       "        vertical-align: top;\n",
       "    }\n",
       "\n",
       "    .dataframe thead th {\n",
       "        text-align: right;\n",
       "    }\n",
       "</style>\n",
       "<table border=\"1\" class=\"dataframe\">\n",
       "  <thead>\n",
       "    <tr style=\"text-align: right;\">\n",
       "      <th></th>\n",
       "      <th>Prototype</th>\n",
       "      <th>numeric_label</th>\n",
       "    </tr>\n",
       "  </thead>\n",
       "  <tbody>\n",
       "    <tr>\n",
       "      <th>0</th>\n",
       "      <td>Anatase#TiO2</td>\n",
       "      <td>18</td>\n",
       "    </tr>\n",
       "    <tr>\n",
       "      <th>1</th>\n",
       "      <td>Cristobalite#SiO2</td>\n",
       "      <td>114</td>\n",
       "    </tr>\n",
       "    <tr>\n",
       "      <th>2</th>\n",
       "      <td>Rutile#TiO2</td>\n",
       "      <td>298</td>\n",
       "    </tr>\n",
       "    <tr>\n",
       "      <th>3</th>\n",
       "      <td>Laves(2H)#MgZn2</td>\n",
       "      <td>201</td>\n",
       "    </tr>\n",
       "    <tr>\n",
       "      <th>4</th>\n",
       "      <td>Quartz(low)#SiO2</td>\n",
       "      <td>287</td>\n",
       "    </tr>\n",
       "  </tbody>\n",
       "</table>\n",
       "</div>"
      ],
      "text/plain": [
       "           Prototype  numeric_label\n",
       "0       Anatase#TiO2             18\n",
       "1  Cristobalite#SiO2            114\n",
       "2        Rutile#TiO2            298\n",
       "3    Laves(2H)#MgZn2            201\n",
       "4   Quartz(low)#SiO2            287"
      ]
     },
     "execution_count": 8,
     "metadata": {},
     "output_type": "execute_result"
    }
   ],
   "source": [
    "#Dataframe convert label into categorical variable for classification\n",
    "#Then convert labels into numpy array\n",
    "label_name = 'Prototype'\n",
    "label_df[label_name]= pd.Categorical(label_df[label_name])\n",
    "label_df['numeric_label'] = label_df[label_name].cat.codes\n",
    "\n",
    "#Convert numerical dataframe column to array\n",
    "labels = label_df['numeric_label'].to_numpy()\n",
    "\n",
    "label_df.head()\n"
   ]
  },
  {
   "cell_type": "code",
   "execution_count": 9,
   "metadata": {},
   "outputs": [],
   "source": [
    "#Convert features to numpy\n",
    "#Also define feature names for symbolic regression\n",
    "\n",
    "features = prototype_df.to_numpy()\n",
    "feature_names = list(prototype_df.columns)"
   ]
  },
  {
   "cell_type": "code",
   "execution_count": 10,
   "metadata": {},
   "outputs": [
    {
     "name": "stderr",
     "output_type": "stream",
     "text": [
      "/var/folders/dj/nk2fdd2s5cl3c5mh7nkvr3040000gn/T/ipykernel_26055/3790179312.py:6: FutureWarning: The behavior of `series[i:j]` with an integer-dtype index is deprecated. In a future version, this will be treated as *label-based* indexing, consistent with e.g. `series[i]` lookups. To retain the old behavior, use `series.iloc[i:j]`. To get the future behavior, use `series.loc[i:j]`.\n",
      "  label_counts[:5]\n"
     ]
    },
    {
     "data": {
      "text/plain": [
       "203    1532\n",
       "151     507\n",
       "201     475\n",
       "298     467\n",
       "13      368\n",
       "Name: numeric_label, dtype: int64"
      ]
     },
     "execution_count": 10,
     "metadata": {},
     "output_type": "execute_result"
    }
   ],
   "source": [
    "#Find class frequencies\n",
    "label_counts = label_df['numeric_label'].value_counts()\n",
    "#See pandas categorical mapping\n",
    "label_dict = dict(enumerate(label_df['Prototype'].cat.categories))\n",
    "\n",
    "label_counts[:5]\n",
    "\n",
    "\n"
   ]
  },
  {
   "cell_type": "code",
   "execution_count": 11,
   "metadata": {},
   "outputs": [],
   "source": [
    "#Define most class id of interest and relabel\n",
    "id_ofinterest = 203\n",
    "\n",
    "labels_1vsall = multiclass_to_binary(labels, most_common_id=203)"
   ]
  },
  {
   "attachments": {},
   "cell_type": "markdown",
   "metadata": {},
   "source": [
    "## Applying Symbolic Regression\n"
   ]
  },
  {
   "cell_type": "code",
   "execution_count": 12,
   "metadata": {},
   "outputs": [],
   "source": [
    "#Set rng seed and permutation of data examples for training\n",
    "rng = check_random_state(5)\n",
    "\n",
    "#Check number of dominant class examples\n",
    "n_positive_class = np.sum(labels_1vsall)\n",
    "#Dominant class boolean index\n",
    "positive_class_mask = labels_1vsall==1\n",
    "\n",
    "#Dominant class indexing to grab for training/test set (we want 50/50 representation)\n",
    "SR_features_train = features[positive_class_mask,:]\n",
    "SR_target_train = labels_1vsall[positive_class_mask]\n",
    "\n",
    "#Grabbing all negative examples of which we're going to grab a number equal to the number of dominant class\n",
    "SR_negative_train = features[~positive_class_mask,:]\n",
    "SR_negative_target = labels_1vsall[~positive_class_mask]\n",
    "\n",
    "#Apply subsampling. We grab a random subset from the negative set of the same size as the positive examples\n",
    "subsample_idx = rng.permutation(SR_negative_target.size)[:n_positive_class]\n",
    "\n",
    "#Concatenate an equal amount of negative training data to the list of positive training data so we have 50/50 class representation\n",
    "SR_features = np.concatenate((SR_features_train, SR_negative_train[subsample_idx,:]),axis=0)\n",
    "SR_targets = np.concatenate((SR_target_train, SR_negative_target[subsample_idx]), axis=0)\n"
   ]
  },
  {
   "cell_type": "code",
   "execution_count": 13,
   "metadata": {},
   "outputs": [],
   "source": [
    "#Generate 20-80 splits (we're going to just use one of these for the initial pass)\n",
    "\n",
    "#The test/train split percentage is 1/n_splits : (n_splits-1) / n_splits\n",
    "#E.g. for n_splits = 5, test/train split percentage is 20:80\n",
    "skf = StratifiedKFold(n_splits=5) \n",
    "splits = skf.split(SR_features,SR_targets)"
   ]
  },
  {
   "cell_type": "code",
   "execution_count": 14,
   "metadata": {},
   "outputs": [],
   "source": [
    "#Use first generator output for train/test splits\n",
    "#Assign these indices as variables\n",
    "(SR_train_idx, SR_test_idx) = next(splits)"
   ]
  },
  {
   "cell_type": "code",
   "execution_count": 15,
   "metadata": {},
   "outputs": [],
   "source": [
    "#Defining train test splits using train/test indices\n",
    "SR_features_train = SR_features[SR_train_idx]\n",
    "SR_target_train = SR_targets[SR_train_idx]\n",
    "\n",
    "SR_features_test = SR_features[SR_test_idx]\n",
    "SR_target_test = SR_targets[SR_test_idx]\n"
   ]
  },
  {
   "cell_type": "code",
   "execution_count": 16,
   "metadata": {},
   "outputs": [
    {
     "data": {
      "text/html": [
       "<style>#sk-container-id-1 {color: black;background-color: white;}#sk-container-id-1 pre{padding: 0;}#sk-container-id-1 div.sk-toggleable {background-color: white;}#sk-container-id-1 label.sk-toggleable__label {cursor: pointer;display: block;width: 100%;margin-bottom: 0;padding: 0.3em;box-sizing: border-box;text-align: center;}#sk-container-id-1 label.sk-toggleable__label-arrow:before {content: \"▸\";float: left;margin-right: 0.25em;color: #696969;}#sk-container-id-1 label.sk-toggleable__label-arrow:hover:before {color: black;}#sk-container-id-1 div.sk-estimator:hover label.sk-toggleable__label-arrow:before {color: black;}#sk-container-id-1 div.sk-toggleable__content {max-height: 0;max-width: 0;overflow: hidden;text-align: left;background-color: #f0f8ff;}#sk-container-id-1 div.sk-toggleable__content pre {margin: 0.2em;color: black;border-radius: 0.25em;background-color: #f0f8ff;}#sk-container-id-1 input.sk-toggleable__control:checked~div.sk-toggleable__content {max-height: 200px;max-width: 100%;overflow: auto;}#sk-container-id-1 input.sk-toggleable__control:checked~label.sk-toggleable__label-arrow:before {content: \"▾\";}#sk-container-id-1 div.sk-estimator input.sk-toggleable__control:checked~label.sk-toggleable__label {background-color: #d4ebff;}#sk-container-id-1 div.sk-label input.sk-toggleable__control:checked~label.sk-toggleable__label {background-color: #d4ebff;}#sk-container-id-1 input.sk-hidden--visually {border: 0;clip: rect(1px 1px 1px 1px);clip: rect(1px, 1px, 1px, 1px);height: 1px;margin: -1px;overflow: hidden;padding: 0;position: absolute;width: 1px;}#sk-container-id-1 div.sk-estimator {font-family: monospace;background-color: #f0f8ff;border: 1px dotted black;border-radius: 0.25em;box-sizing: border-box;margin-bottom: 0.5em;}#sk-container-id-1 div.sk-estimator:hover {background-color: #d4ebff;}#sk-container-id-1 div.sk-parallel-item::after {content: \"\";width: 100%;border-bottom: 1px solid gray;flex-grow: 1;}#sk-container-id-1 div.sk-label:hover label.sk-toggleable__label {background-color: #d4ebff;}#sk-container-id-1 div.sk-serial::before {content: \"\";position: absolute;border-left: 1px solid gray;box-sizing: border-box;top: 0;bottom: 0;left: 50%;z-index: 0;}#sk-container-id-1 div.sk-serial {display: flex;flex-direction: column;align-items: center;background-color: white;padding-right: 0.2em;padding-left: 0.2em;position: relative;}#sk-container-id-1 div.sk-item {position: relative;z-index: 1;}#sk-container-id-1 div.sk-parallel {display: flex;align-items: stretch;justify-content: center;background-color: white;position: relative;}#sk-container-id-1 div.sk-item::before, #sk-container-id-1 div.sk-parallel-item::before {content: \"\";position: absolute;border-left: 1px solid gray;box-sizing: border-box;top: 0;bottom: 0;left: 50%;z-index: -1;}#sk-container-id-1 div.sk-parallel-item {display: flex;flex-direction: column;z-index: 1;position: relative;background-color: white;}#sk-container-id-1 div.sk-parallel-item:first-child::after {align-self: flex-end;width: 50%;}#sk-container-id-1 div.sk-parallel-item:last-child::after {align-self: flex-start;width: 50%;}#sk-container-id-1 div.sk-parallel-item:only-child::after {width: 0;}#sk-container-id-1 div.sk-dashed-wrapped {border: 1px dashed gray;margin: 0 0.4em 0.5em 0.4em;box-sizing: border-box;padding-bottom: 0.4em;background-color: white;}#sk-container-id-1 div.sk-label label {font-family: monospace;font-weight: bold;display: inline-block;line-height: 1.2em;}#sk-container-id-1 div.sk-label-container {text-align: center;}#sk-container-id-1 div.sk-container {/* jupyter's `normalize.less` sets `[hidden] { display: none; }` but bootstrap.min.css set `[hidden] { display: none !important; }` so we also need the `!important` here to be able to override the default hidden behavior on the sphinx rendered scikit-learn.org. See: https://github.com/scikit-learn/scikit-learn/issues/21755 */display: inline-block !important;position: relative;}#sk-container-id-1 div.sk-text-repr-fallback {display: none;}</style><div id=\"sk-container-id-1\" class=\"sk-top-container\"><div class=\"sk-text-repr-fallback\"><pre>div(sub(sub(sub(div(e2_Row, e1_Electronegativity), e2_Column), e1_NsUnfilled), e1_GSbandgap), div(e2_Row, e1_Electronegativity))</pre><b>In a Jupyter environment, please rerun this cell to show the HTML representation or trust the notebook. <br />On GitHub, the HTML representation is unable to render, please try loading this page with nbviewer.org.</b></div><div class=\"sk-container\" hidden><div class=\"sk-item\"><div class=\"sk-estimator sk-toggleable\"><input class=\"sk-toggleable__control sk-hidden--visually\" id=\"sk-estimator-id-1\" type=\"checkbox\" checked><label for=\"sk-estimator-id-1\" class=\"sk-toggleable__label sk-toggleable__label-arrow\">SymbolicClassifier</label><div class=\"sk-toggleable__content\"><pre>div(sub(sub(sub(div(e2_Row, e1_Electronegativity), e2_Column), e1_NsUnfilled), e1_GSbandgap), div(e2_Row, e1_Electronegativity))</pre></div></div></div></div></div>"
      ],
      "text/plain": [
       "SymbolicClassifier(feature_names=['Collection_Code', 'e1_Number',\n",
       "                                  'e1_MendeleevNumber', 'e1_AtomicWeight',\n",
       "                                  'e1_MeltingT', 'e1_Column', 'e1_Row',\n",
       "                                  'e1_CovalentRadius', 'e1_Electronegativity',\n",
       "                                  'e1_NsValence', 'e1_NpValence',\n",
       "                                  'e1_NdValence', 'e1_NfValence', 'e1_NValence',\n",
       "                                  'e1_NsUnfilled', 'e1_NpUnfilled',\n",
       "                                  'e1_NdUnfilled', 'e1_NfUnfilled',\n",
       "                                  'e1_NUnfilled', 'e1_GSvolume_pa',\n",
       "                                  'e1_GSbandgap', 'e1_GSmagmom',\n",
       "                                  'e1_SpaceGroupNumber', 'e2_Number',\n",
       "                                  'e2_MendeleevNumber', 'e2_AtomicWeight',\n",
       "                                  'e2_MeltingT', 'e2_Column', 'e2_Row',\n",
       "                                  'e2_CovalentRadius', ...],\n",
       "                   generations=10, p_crossover=0.85, p_hoist_mutation=0.1,\n",
       "                   random_state=1)"
      ]
     },
     "execution_count": 16,
     "metadata": {},
     "output_type": "execute_result"
    }
   ],
   "source": [
    "#Run Classifier\n",
    "SR_classifier = SymbolicClassifier(population_size = 1000, generations=10,\n",
    "                         tournament_size = 20,\n",
    "                         parsimony_coefficient=0.001,\n",
    "                         p_crossover = 0.85,\n",
    "                         p_subtree_mutation = 0.01,\n",
    "                         p_point_mutation = 0.01,\n",
    "                         p_hoist_mutation = 0.1,\n",
    "                         feature_names=feature_names,\n",
    "\t\t\t\t\t\t random_state=1)\n",
    "\n",
    "SR_classifier.fit(SR_features_train, SR_target_train)"
   ]
  },
  {
   "cell_type": "code",
   "execution_count": 18,
   "metadata": {},
   "outputs": [
    {
     "data": {
      "image/svg+xml": "<?xml version=\"1.0\" encoding=\"utf-8\" standalone=\"no\"?>\n<!DOCTYPE svg PUBLIC \"-//W3C//DTD SVG 1.1//EN\"\n  \"http://www.w3.org/Graphics/SVG/1.1/DTD/svg11.dtd\">\n<svg xmlns:xlink=\"http://www.w3.org/1999/xlink\" width=\"1161.74pt\" height=\"121.46pt\" viewBox=\"0 0 1161.74 121.46\" xmlns=\"http://www.w3.org/2000/svg\" version=\"1.1\">\n <metadata>\n  <rdf:RDF xmlns:dc=\"http://purl.org/dc/elements/1.1/\" xmlns:cc=\"http://creativecommons.org/ns#\" xmlns:rdf=\"http://www.w3.org/1999/02/22-rdf-syntax-ns#\">\n   <cc:Work>\n    <dc:type rdf:resource=\"http://purl.org/dc/dcmitype/StillImage\"/>\n    <dc:date>2023-01-20T10:35:36.028869</dc:date>\n    <dc:format>image/svg+xml</dc:format>\n    <dc:creator>\n     <cc:Agent>\n      <dc:title>Matplotlib v3.6.3, https://matplotlib.org/</dc:title>\n     </cc:Agent>\n    </dc:creator>\n   </cc:Work>\n  </rdf:RDF>\n </metadata>\n <defs>\n  <style type=\"text/css\">*{stroke-linejoin: round; stroke-linecap: butt}</style>\n </defs>\n <g id=\"figure_1\">\n  <g id=\"patch_1\">\n   <path d=\"M 0 121.46 \nL 1161.74 121.46 \nL 1161.74 0 \nL 0 0 \nL 0 121.46 \nz\n\" style=\"fill: none\"/>\n  </g>\n  <g id=\"axes_1\">\n   <g id=\"text_1\">\n    <!-- $\\frac{e_{1 Electronegativity} \\left(- e_{1 GSbandgap} - e_{1 NsUnfilled} - e_{2 Column} + \\frac{e_{2 Row}}{e_{1 Electronegativity}}\\right)}{e_{2 Row}}$ -->\n    <g transform=\"translate(59.04 79.7) scale(0.5 -0.5)\">\n     <defs>\n      <path id=\"DejaVuSans-Oblique-65\" d=\"M 3078 2063 \nQ 3088 2113 3092 2166 \nQ 3097 2219 3097 2272 \nQ 3097 2653 2873 2875 \nQ 2650 3097 2266 3097 \nQ 1838 3097 1509 2826 \nQ 1181 2556 1013 2059 \nL 3078 2063 \nz\nM 3578 1613 \nL 903 1613 \nQ 884 1494 878 1425 \nQ 872 1356 872 1306 \nQ 872 872 1139 634 \nQ 1406 397 1894 397 \nQ 2269 397 2603 481 \nQ 2938 566 3225 728 \nL 3116 159 \nQ 2806 34 2476 -28 \nQ 2147 -91 1806 -91 \nQ 1078 -91 686 257 \nQ 294 606 294 1247 \nQ 294 1794 489 2264 \nQ 684 2734 1063 3103 \nQ 1306 3334 1642 3459 \nQ 1978 3584 2356 3584 \nQ 2950 3584 3301 3228 \nQ 3653 2872 3653 2272 \nQ 3653 2128 3634 1964 \nQ 3616 1800 3578 1613 \nz\n\" transform=\"scale(0.015625)\"/>\n      <path id=\"DejaVuSans-31\" d=\"M 794 531 \nL 1825 531 \nL 1825 4091 \nL 703 3866 \nL 703 4441 \nL 1819 4666 \nL 2450 4666 \nL 2450 531 \nL 3481 531 \nL 3481 0 \nL 794 0 \nL 794 531 \nz\n\" transform=\"scale(0.015625)\"/>\n      <path id=\"DejaVuSans-Oblique-45\" d=\"M 1081 4666 \nL 4031 4666 \nL 3928 4134 \nL 1606 4134 \nL 1338 2753 \nL 3566 2753 \nL 3463 2222 \nL 1234 2222 \nL 909 531 \nL 3284 531 \nL 3181 0 \nL 172 0 \nL 1081 4666 \nz\n\" transform=\"scale(0.015625)\"/>\n      <path id=\"DejaVuSans-Oblique-6c\" d=\"M 1172 4863 \nL 1747 4863 \nL 800 0 \nL 225 0 \nL 1172 4863 \nz\n\" transform=\"scale(0.015625)\"/>\n      <path id=\"DejaVuSans-Oblique-63\" d=\"M 3431 3366 \nL 3316 2797 \nQ 3109 2947 2876 3022 \nQ 2644 3097 2394 3097 \nQ 2119 3097 1870 3000 \nQ 1622 2903 1453 2725 \nQ 1184 2453 1037 2087 \nQ 891 1722 891 1331 \nQ 891 859 1127 628 \nQ 1363 397 1844 397 \nQ 2081 397 2348 469 \nQ 2616 541 2906 684 \nL 2797 116 \nQ 2547 13 2283 -39 \nQ 2019 -91 1741 -91 \nQ 1044 -91 669 257 \nQ 294 606 294 1253 \nQ 294 1797 489 2255 \nQ 684 2713 1069 3078 \nQ 1331 3328 1684 3456 \nQ 2038 3584 2456 3584 \nQ 2700 3584 2940 3529 \nQ 3181 3475 3431 3366 \nz\n\" transform=\"scale(0.015625)\"/>\n      <path id=\"DejaVuSans-Oblique-74\" d=\"M 2706 3500 \nL 2619 3053 \nL 1472 3053 \nL 1100 1153 \nQ 1081 1047 1072 975 \nQ 1063 903 1063 863 \nQ 1063 663 1183 572 \nQ 1303 481 1569 481 \nL 2150 481 \nL 2053 0 \nL 1503 0 \nQ 991 0 739 200 \nQ 488 400 488 806 \nQ 488 878 497 964 \nQ 506 1050 525 1153 \nL 897 3053 \nL 409 3053 \nL 500 3500 \nL 978 3500 \nL 1172 4494 \nL 1747 4494 \nL 1556 3500 \nL 2706 3500 \nz\n\" transform=\"scale(0.015625)\"/>\n      <path id=\"DejaVuSans-Oblique-72\" d=\"M 2853 2969 \nQ 2766 3016 2653 3041 \nQ 2541 3066 2413 3066 \nQ 1953 3066 1609 2717 \nQ 1266 2369 1153 1784 \nL 800 0 \nL 225 0 \nL 909 3500 \nL 1484 3500 \nL 1375 2956 \nQ 1603 3259 1920 3421 \nQ 2238 3584 2597 3584 \nQ 2691 3584 2781 3573 \nQ 2872 3563 2963 3538 \nL 2853 2969 \nz\n\" transform=\"scale(0.015625)\"/>\n      <path id=\"DejaVuSans-Oblique-6f\" d=\"M 1625 -91 \nQ 1009 -91 651 289 \nQ 294 669 294 1325 \nQ 294 1706 417 2101 \nQ 541 2497 738 2766 \nQ 1047 3184 1428 3384 \nQ 1809 3584 2291 3584 \nQ 2888 3584 3255 3212 \nQ 3622 2841 3622 2241 \nQ 3622 1825 3500 1412 \nQ 3378 1000 3181 728 \nQ 2875 309 2494 109 \nQ 2113 -91 1625 -91 \nz\nM 891 1344 \nQ 891 869 1089 633 \nQ 1288 397 1691 397 \nQ 2269 397 2648 901 \nQ 3028 1406 3028 2181 \nQ 3028 2634 2825 2865 \nQ 2622 3097 2228 3097 \nQ 1903 3097 1650 2945 \nQ 1397 2794 1197 2484 \nQ 1050 2253 970 1956 \nQ 891 1659 891 1344 \nz\n\" transform=\"scale(0.015625)\"/>\n      <path id=\"DejaVuSans-Oblique-6e\" d=\"M 3566 2113 \nL 3156 0 \nL 2578 0 \nL 2988 2091 \nQ 3016 2238 3031 2350 \nQ 3047 2463 3047 2528 \nQ 3047 2791 2881 2937 \nQ 2716 3084 2419 3084 \nQ 1956 3084 1622 2776 \nQ 1288 2469 1184 1941 \nL 800 0 \nL 225 0 \nL 903 3500 \nL 1478 3500 \nL 1363 2950 \nQ 1603 3253 1940 3418 \nQ 2278 3584 2650 3584 \nQ 3113 3584 3367 3334 \nQ 3622 3084 3622 2631 \nQ 3622 2519 3608 2391 \nQ 3594 2263 3566 2113 \nz\n\" transform=\"scale(0.015625)\"/>\n      <path id=\"DejaVuSans-Oblique-67\" d=\"M 3816 3500 \nL 3219 434 \nQ 3047 -456 2561 -893 \nQ 2075 -1331 1253 -1331 \nQ 950 -1331 690 -1286 \nQ 431 -1241 206 -1147 \nL 313 -588 \nQ 525 -725 762 -790 \nQ 1000 -856 1269 -856 \nQ 1816 -856 2167 -557 \nQ 2519 -259 2631 300 \nL 2681 563 \nQ 2441 288 2122 144 \nQ 1803 0 1434 0 \nQ 903 0 598 351 \nQ 294 703 294 1319 \nQ 294 1803 478 2267 \nQ 663 2731 997 3091 \nQ 1219 3328 1514 3456 \nQ 1809 3584 2131 3584 \nQ 2484 3584 2746 3420 \nQ 3009 3256 3138 2956 \nL 3238 3500 \nL 3816 3500 \nz\nM 2950 2216 \nQ 2950 2641 2750 2872 \nQ 2550 3103 2181 3103 \nQ 1953 3103 1747 3012 \nQ 1541 2922 1394 2759 \nQ 1156 2491 1023 2127 \nQ 891 1763 891 1375 \nQ 891 944 1092 712 \nQ 1294 481 1672 481 \nQ 2219 481 2584 976 \nQ 2950 1472 2950 2216 \nz\n\" transform=\"scale(0.015625)\"/>\n      <path id=\"DejaVuSans-Oblique-61\" d=\"M 3438 1997 \nL 3047 0 \nL 2472 0 \nL 2578 531 \nQ 2325 219 2001 64 \nQ 1678 -91 1281 -91 \nQ 834 -91 548 182 \nQ 263 456 263 884 \nQ 263 1497 752 1853 \nQ 1241 2209 2100 2209 \nL 2900 2209 \nL 2931 2363 \nQ 2938 2388 2941 2417 \nQ 2944 2447 2944 2509 \nQ 2944 2788 2717 2942 \nQ 2491 3097 2081 3097 \nQ 1800 3097 1504 3025 \nQ 1209 2953 897 2809 \nL 997 3341 \nQ 1322 3463 1633 3523 \nQ 1944 3584 2234 3584 \nQ 2853 3584 3176 3315 \nQ 3500 3047 3500 2534 \nQ 3500 2431 3484 2292 \nQ 3469 2153 3438 1997 \nz\nM 2816 1759 \nL 2241 1759 \nQ 1534 1759 1195 1570 \nQ 856 1381 856 984 \nQ 856 709 1029 553 \nQ 1203 397 1509 397 \nQ 1978 397 2328 733 \nQ 2678 1069 2791 1631 \nL 2816 1759 \nz\n\" transform=\"scale(0.015625)\"/>\n      <path id=\"DejaVuSans-Oblique-69\" d=\"M 1172 4863 \nL 1747 4863 \nL 1606 4134 \nL 1031 4134 \nL 1172 4863 \nz\nM 909 3500 \nL 1484 3500 \nL 800 0 \nL 225 0 \nL 909 3500 \nz\n\" transform=\"scale(0.015625)\"/>\n      <path id=\"DejaVuSans-Oblique-76\" d=\"M 459 3500 \nL 1069 3500 \nL 1581 525 \nL 3256 3500 \nL 3866 3500 \nL 1875 0 \nL 1100 0 \nL 459 3500 \nz\n\" transform=\"scale(0.015625)\"/>\n      <path id=\"DejaVuSans-Oblique-79\" d=\"M 1588 -325 \nQ 1188 -997 936 -1164 \nQ 684 -1331 294 -1331 \nL -159 -1331 \nL -63 -850 \nL 269 -850 \nQ 509 -850 678 -719 \nQ 847 -588 1056 -206 \nL 1234 128 \nL 459 3500 \nL 1069 3500 \nL 1650 819 \nL 3256 3500 \nL 3859 3500 \nL 1588 -325 \nz\n\" transform=\"scale(0.015625)\"/>\n      <path id=\"STIXSizeTwoSym-Regular-28\" d=\"M 3219 -1555 \nL 3219 -1786 \nQ 2144 -774 1517 730 \nQ 890 2234 890 4115 \nQ 890 6003 1533 7593 \nQ 2176 9184 3219 10022 \nL 3219 9811 \nQ 2490 9062 1994 7606 \nQ 1498 6150 1498 4115 \nQ 1498 563 3219 -1555 \nz\n\" transform=\"scale(0.015625)\"/>\n      <path id=\"DejaVuSans-2212\" d=\"M 678 2272 \nL 4684 2272 \nL 4684 1741 \nL 678 1741 \nL 678 2272 \nz\n\" transform=\"scale(0.015625)\"/>\n      <path id=\"DejaVuSans-Oblique-47\" d=\"M 3494 697 \nL 3738 1919 \nL 2700 1919 \nL 2797 2438 \nL 4453 2438 \nL 4050 384 \nQ 3634 156 3143 32 \nQ 2653 -91 2156 -91 \nQ 1278 -91 783 396 \nQ 288 884 288 1753 \nQ 288 2475 589 3126 \nQ 891 3778 1422 4213 \nQ 1756 4484 2153 4617 \nQ 2550 4750 3034 4750 \nQ 3472 4750 3873 4639 \nQ 4275 4528 4641 4306 \nL 4513 3634 \nQ 4231 3928 3853 4083 \nQ 3475 4238 3047 4238 \nQ 2550 4238 2172 4048 \nQ 1794 3859 1497 3463 \nQ 1244 3125 1098 2667 \nQ 953 2209 953 1734 \nQ 953 1081 1287 751 \nQ 1622 422 2284 422 \nQ 2616 422 2925 492 \nQ 3234 563 3494 697 \nz\n\" transform=\"scale(0.015625)\"/>\n      <path id=\"DejaVuSans-Oblique-53\" d=\"M 3859 4513 \nL 3738 3897 \nQ 3422 4066 3111 4152 \nQ 2800 4238 2509 4238 \nQ 1944 4238 1609 3991 \nQ 1275 3744 1275 3334 \nQ 1275 3109 1398 2989 \nQ 1522 2869 2034 2731 \nL 2413 2638 \nQ 3053 2472 3303 2217 \nQ 3553 1963 3553 1503 \nQ 3553 797 2998 353 \nQ 2444 -91 1538 -91 \nQ 1166 -91 791 -17 \nQ 416 56 38 206 \nL 166 856 \nQ 513 641 861 531 \nQ 1209 422 1556 422 \nQ 2147 422 2503 684 \nQ 2859 947 2859 1369 \nQ 2859 1650 2717 1795 \nQ 2575 1941 2106 2059 \nL 1728 2156 \nQ 1081 2325 845 2545 \nQ 609 2766 609 3163 \nQ 609 3859 1145 4304 \nQ 1681 4750 2541 4750 \nQ 2875 4750 3203 4690 \nQ 3531 4631 3859 4513 \nz\n\" transform=\"scale(0.015625)\"/>\n      <path id=\"DejaVuSans-Oblique-62\" d=\"M 3169 2138 \nQ 3169 2591 2961 2847 \nQ 2753 3103 2388 3103 \nQ 2122 3103 1889 2973 \nQ 1656 2844 1484 2597 \nQ 1303 2338 1198 1995 \nQ 1094 1653 1094 1313 \nQ 1094 881 1298 636 \nQ 1503 391 1863 391 \nQ 2134 391 2365 517 \nQ 2597 644 2772 891 \nQ 2950 1147 3059 1487 \nQ 3169 1828 3169 2138 \nz\nM 1381 2969 \nQ 1594 3256 1914 3420 \nQ 2234 3584 2584 3584 \nQ 3122 3584 3439 3221 \nQ 3756 2859 3756 2241 \nQ 3756 1734 3570 1259 \nQ 3384 784 3041 416 \nQ 2816 172 2522 40 \nQ 2228 -91 1906 -91 \nQ 1566 -91 1316 65 \nQ 1066 222 909 531 \nL 806 0 \nL 231 0 \nL 1178 4863 \nL 1753 4863 \nL 1381 2969 \nz\n\" transform=\"scale(0.015625)\"/>\n      <path id=\"DejaVuSans-Oblique-64\" d=\"M 2675 525 \nQ 2444 222 2128 65 \nQ 1813 -91 1428 -91 \nQ 903 -91 598 267 \nQ 294 625 294 1247 \nQ 294 1766 478 2236 \nQ 663 2706 1013 3078 \nQ 1244 3325 1534 3454 \nQ 1825 3584 2144 3584 \nQ 2481 3584 2739 3421 \nQ 2997 3259 3138 2956 \nL 3513 4863 \nL 4091 4863 \nL 3144 0 \nL 2566 0 \nL 2675 525 \nz\nM 891 1350 \nQ 891 897 1095 644 \nQ 1300 391 1663 391 \nQ 1931 391 2161 520 \nQ 2391 650 2566 903 \nQ 2750 1166 2856 1509 \nQ 2963 1853 2963 2188 \nQ 2963 2622 2758 2865 \nQ 2553 3109 2194 3109 \nQ 1922 3109 1687 2981 \nQ 1453 2853 1288 2613 \nQ 1106 2353 998 2009 \nQ 891 1666 891 1350 \nz\n\" transform=\"scale(0.015625)\"/>\n      <path id=\"DejaVuSans-Oblique-70\" d=\"M 3175 2156 \nQ 3175 2616 2975 2859 \nQ 2775 3103 2400 3103 \nQ 2144 3103 1911 2972 \nQ 1678 2841 1497 2591 \nQ 1319 2344 1212 1994 \nQ 1106 1644 1106 1300 \nQ 1106 863 1306 627 \nQ 1506 391 1875 391 \nQ 2147 391 2380 519 \nQ 2613 647 2778 891 \nQ 2956 1147 3065 1494 \nQ 3175 1841 3175 2156 \nz\nM 1394 2969 \nQ 1625 3272 1939 3428 \nQ 2253 3584 2638 3584 \nQ 3175 3584 3472 3232 \nQ 3769 2881 3769 2247 \nQ 3769 1728 3584 1258 \nQ 3400 788 3053 416 \nQ 2822 169 2531 39 \nQ 2241 -91 1919 -91 \nQ 1547 -91 1294 64 \nQ 1041 219 916 525 \nL 556 -1331 \nL -19 -1331 \nL 922 3500 \nL 1497 3500 \nL 1394 2969 \nz\n\" transform=\"scale(0.015625)\"/>\n      <path id=\"DejaVuSans-Oblique-4e\" d=\"M 1081 4666 \nL 1931 4666 \nL 3219 666 \nL 4000 4666 \nL 4616 4666 \nL 3706 0 \nL 2853 0 \nL 1569 4025 \nL 788 0 \nL 172 0 \nL 1081 4666 \nz\n\" transform=\"scale(0.015625)\"/>\n      <path id=\"DejaVuSans-Oblique-73\" d=\"M 3200 3397 \nL 3091 2853 \nQ 2863 2978 2609 3040 \nQ 2356 3103 2088 3103 \nQ 1634 3103 1373 2948 \nQ 1113 2794 1113 2528 \nQ 1113 2219 1719 2053 \nQ 1766 2041 1788 2034 \nL 1972 1978 \nQ 2547 1819 2739 1644 \nQ 2931 1469 2931 1166 \nQ 2931 609 2489 259 \nQ 2047 -91 1331 -91 \nQ 1053 -91 747 -37 \nQ 441 16 72 128 \nL 184 722 \nQ 500 559 806 475 \nQ 1113 391 1394 391 \nQ 1816 391 2080 572 \nQ 2344 753 2344 1031 \nQ 2344 1331 1650 1516 \nL 1591 1531 \nL 1394 1581 \nQ 956 1697 753 1886 \nQ 550 2075 550 2369 \nQ 550 2928 970 3256 \nQ 1391 3584 2113 3584 \nQ 2397 3584 2667 3537 \nQ 2938 3491 3200 3397 \nz\n\" transform=\"scale(0.015625)\"/>\n      <path id=\"DejaVuSans-Oblique-55\" d=\"M 991 4666 \nL 1625 4666 \nL 1075 1831 \nQ 1041 1641 1027 1517 \nQ 1013 1394 1013 1300 \nQ 1013 869 1253 645 \nQ 1494 422 1959 422 \nQ 2563 422 2898 753 \nQ 3234 1084 3378 1831 \nL 3928 4666 \nL 4563 4666 \nL 4000 1753 \nQ 3816 809 3300 359 \nQ 2784 -91 1888 -91 \nQ 1188 -91 780 261 \nQ 372 613 372 1216 \nQ 372 1325 387 1461 \nQ 403 1597 434 1753 \nL 991 4666 \nz\n\" transform=\"scale(0.015625)\"/>\n      <path id=\"DejaVuSans-Oblique-66\" d=\"M 3059 4863 \nL 2969 4384 \nL 2419 4384 \nQ 2106 4384 1964 4261 \nQ 1822 4138 1753 3809 \nL 1691 3500 \nL 2638 3500 \nL 2553 3053 \nL 1606 3053 \nL 1013 0 \nL 434 0 \nL 1031 3053 \nL 481 3053 \nL 563 3500 \nL 1113 3500 \nL 1159 3744 \nQ 1278 4363 1576 4613 \nQ 1875 4863 2516 4863 \nL 3059 4863 \nz\n\" transform=\"scale(0.015625)\"/>\n      <path id=\"DejaVuSans-32\" d=\"M 1228 531 \nL 3431 531 \nL 3431 0 \nL 469 0 \nL 469 531 \nQ 828 903 1448 1529 \nQ 2069 2156 2228 2338 \nQ 2531 2678 2651 2914 \nQ 2772 3150 2772 3378 \nQ 2772 3750 2511 3984 \nQ 2250 4219 1831 4219 \nQ 1534 4219 1204 4116 \nQ 875 4013 500 3803 \nL 500 4441 \nQ 881 4594 1212 4672 \nQ 1544 4750 1819 4750 \nQ 2544 4750 2975 4387 \nQ 3406 4025 3406 3419 \nQ 3406 3131 3298 2873 \nQ 3191 2616 2906 2266 \nQ 2828 2175 2409 1742 \nQ 1991 1309 1228 531 \nz\n\" transform=\"scale(0.015625)\"/>\n      <path id=\"DejaVuSans-Oblique-43\" d=\"M 4447 4306 \nL 4319 3641 \nQ 4019 3944 3683 4091 \nQ 3347 4238 2956 4238 \nQ 2422 4238 2017 3981 \nQ 1613 3725 1319 3200 \nQ 1131 2863 1032 2486 \nQ 934 2109 934 1728 \nQ 934 1091 1264 756 \nQ 1594 422 2222 422 \nQ 2656 422 3056 561 \nQ 3456 700 3834 978 \nL 3688 231 \nQ 3316 72 2936 -9 \nQ 2556 -91 2175 -91 \nQ 1278 -91 773 396 \nQ 269 884 269 1753 \nQ 269 2309 461 2846 \nQ 653 3384 1013 3828 \nQ 1394 4300 1883 4525 \nQ 2372 4750 3022 4750 \nQ 3422 4750 3780 4639 \nQ 4138 4528 4447 4306 \nz\n\" transform=\"scale(0.015625)\"/>\n      <path id=\"DejaVuSans-Oblique-75\" d=\"M 428 1388 \nL 838 3500 \nL 1416 3500 \nL 1006 1409 \nQ 975 1256 961 1147 \nQ 947 1038 947 966 \nQ 947 700 1109 554 \nQ 1272 409 1569 409 \nQ 2031 409 2368 721 \nQ 2706 1034 2809 1563 \nL 3194 3500 \nL 3769 3500 \nL 3091 0 \nL 2516 0 \nL 2631 550 \nQ 2388 244 2052 76 \nQ 1716 -91 1338 -91 \nQ 878 -91 622 161 \nQ 366 413 366 863 \nQ 366 956 381 1097 \nQ 397 1238 428 1388 \nz\n\" transform=\"scale(0.015625)\"/>\n      <path id=\"DejaVuSans-Oblique-6d\" d=\"M 5747 2113 \nL 5338 0 \nL 4763 0 \nL 5166 2094 \nQ 5191 2228 5203 2325 \nQ 5216 2422 5216 2491 \nQ 5216 2772 5059 2928 \nQ 4903 3084 4622 3084 \nQ 4203 3084 3875 2770 \nQ 3547 2456 3450 1953 \nL 3066 0 \nL 2491 0 \nL 2900 2094 \nQ 2925 2209 2937 2307 \nQ 2950 2406 2950 2484 \nQ 2950 2769 2794 2926 \nQ 2638 3084 2363 3084 \nQ 1938 3084 1609 2770 \nQ 1281 2456 1184 1953 \nL 800 0 \nL 225 0 \nL 909 3500 \nL 1484 3500 \nL 1375 2956 \nQ 1609 3263 1923 3423 \nQ 2238 3584 2597 3584 \nQ 2978 3584 3223 3384 \nQ 3469 3184 3519 2828 \nQ 3781 3197 4126 3390 \nQ 4472 3584 4856 3584 \nQ 5306 3584 5551 3325 \nQ 5797 3066 5797 2591 \nQ 5797 2488 5784 2364 \nQ 5772 2241 5747 2113 \nz\n\" transform=\"scale(0.015625)\"/>\n      <path id=\"DejaVuSans-2b\" d=\"M 2944 4013 \nL 2944 2272 \nL 4684 2272 \nL 4684 1741 \nL 2944 1741 \nL 2944 0 \nL 2419 0 \nL 2419 1741 \nL 678 1741 \nL 678 2272 \nL 2419 2272 \nL 2419 4013 \nL 2944 4013 \nz\n\" transform=\"scale(0.015625)\"/>\n      <path id=\"DejaVuSans-Oblique-52\" d=\"M 1613 4147 \nL 1294 2491 \nL 2106 2491 \nQ 2584 2491 2879 2755 \nQ 3175 3019 3175 3444 \nQ 3175 3784 2976 3965 \nQ 2778 4147 2406 4147 \nL 1613 4147 \nz\nM 2772 2241 \nQ 2972 2194 3105 2009 \nQ 3238 1825 3413 1275 \nL 3809 0 \nL 3144 0 \nL 2778 1197 \nQ 2638 1659 2453 1815 \nQ 2269 1972 1888 1972 \nL 1191 1972 \nL 806 0 \nL 172 0 \nL 1081 4666 \nL 2503 4666 \nQ 3150 4666 3495 4373 \nQ 3841 4081 3841 3531 \nQ 3841 3044 3547 2687 \nQ 3253 2331 2772 2241 \nz\n\" transform=\"scale(0.015625)\"/>\n      <path id=\"DejaVuSans-Oblique-77\" d=\"M 544 3500 \nL 1113 3500 \nL 1259 684 \nL 2566 3500 \nL 3231 3500 \nL 3425 684 \nL 4666 3500 \nL 5241 3500 \nL 3641 0 \nL 2969 0 \nL 2797 2900 \nL 1459 0 \nL 781 0 \nL 544 3500 \nz\n\" transform=\"scale(0.015625)\"/>\n      <path id=\"STIXSizeTwoSym-Regular-29\" d=\"M 730 9792 \nL 730 10022 \nQ 1805 9011 2432 7507 \nQ 3059 6003 3059 4115 \nQ 3059 2234 2416 643 \nQ 1773 -947 730 -1786 \nL 730 -1574 \nQ 1459 -826 1955 633 \nQ 2451 2093 2451 4115 \nQ 2451 7674 730 9792 \nz\n\" transform=\"scale(0.015625)\"/>\n     </defs>\n     <use xlink:href=\"#DejaVuSans-Oblique-65\" transform=\"translate(0 78.095203) scale(0.7)\"/>\n     <use xlink:href=\"#DejaVuSans-31\" transform=\"translate(43.066406 66.610828) scale(0.49)\"/>\n     <use xlink:href=\"#DejaVuSans-Oblique-45\" transform=\"translate(74.241699 66.610828) scale(0.49)\"/>\n     <use xlink:href=\"#DejaVuSans-Oblique-6c\" transform=\"translate(105.20166 66.610828) scale(0.49)\"/>\n     <use xlink:href=\"#DejaVuSans-Oblique-65\" transform=\"translate(118.81543 66.610828) scale(0.49)\"/>\n     <use xlink:href=\"#DejaVuSans-Oblique-63\" transform=\"translate(148.961914 66.610828) scale(0.49)\"/>\n     <use xlink:href=\"#DejaVuSans-Oblique-74\" transform=\"translate(175.902344 66.610828) scale(0.49)\"/>\n     <use xlink:href=\"#DejaVuSans-Oblique-72\" transform=\"translate(195.114746 66.610828) scale(0.49)\"/>\n     <use xlink:href=\"#DejaVuSans-Oblique-6f\" transform=\"translate(215.260254 66.610828) scale(0.49)\"/>\n     <use xlink:href=\"#DejaVuSans-Oblique-6e\" transform=\"translate(245.239258 66.610828) scale(0.49)\"/>\n     <use xlink:href=\"#DejaVuSans-Oblique-65\" transform=\"translate(276.294922 66.610828) scale(0.49)\"/>\n     <use xlink:href=\"#DejaVuSans-Oblique-67\" transform=\"translate(306.441406 66.610828) scale(0.49)\"/>\n     <use xlink:href=\"#DejaVuSans-Oblique-61\" transform=\"translate(337.544922 66.610828) scale(0.49)\"/>\n     <use xlink:href=\"#DejaVuSans-Oblique-74\" transform=\"translate(367.571777 66.610828) scale(0.49)\"/>\n     <use xlink:href=\"#DejaVuSans-Oblique-69\" transform=\"translate(386.78418 66.610828) scale(0.49)\"/>\n     <use xlink:href=\"#DejaVuSans-Oblique-76\" transform=\"translate(400.397949 66.610828) scale(0.49)\"/>\n     <use xlink:href=\"#DejaVuSans-Oblique-69\" transform=\"translate(429.395996 66.610828) scale(0.49)\"/>\n     <use xlink:href=\"#DejaVuSans-Oblique-74\" transform=\"translate(443.009766 66.610828) scale(0.49)\"/>\n     <use xlink:href=\"#DejaVuSans-Oblique-79\" transform=\"translate(462.222168 66.610828) scale(0.49)\"/>\n     <use xlink:href=\"#STIXSizeTwoSym-Regular-28\" transform=\"translate(493.134277 59.501563) scale(0.544467)\"/>\n     <use xlink:href=\"#DejaVuSans-2212\" transform=\"translate(525.190594 78.095203) scale(0.7)\"/>\n     <use xlink:href=\"#DejaVuSans-Oblique-65\" transform=\"translate(583.842938 78.095203) scale(0.7)\"/>\n     <use xlink:href=\"#DejaVuSans-31\" transform=\"translate(626.909344 66.610828) scale(0.49)\"/>\n     <use xlink:href=\"#DejaVuSans-Oblique-47\" transform=\"translate(658.084637 66.610828) scale(0.49)\"/>\n     <use xlink:href=\"#DejaVuSans-Oblique-53\" transform=\"translate(696.054852 66.610828) scale(0.49)\"/>\n     <use xlink:href=\"#DejaVuSans-Oblique-62\" transform=\"translate(727.158368 66.610828) scale(0.49)\"/>\n     <use xlink:href=\"#DejaVuSans-Oblique-61\" transform=\"translate(758.261884 66.610828) scale(0.49)\"/>\n     <use xlink:href=\"#DejaVuSans-Oblique-6e\" transform=\"translate(788.288739 66.610828) scale(0.49)\"/>\n     <use xlink:href=\"#DejaVuSans-Oblique-64\" transform=\"translate(819.344403 66.610828) scale(0.49)\"/>\n     <use xlink:href=\"#DejaVuSans-Oblique-67\" transform=\"translate(850.447919 66.610828) scale(0.49)\"/>\n     <use xlink:href=\"#DejaVuSans-Oblique-61\" transform=\"translate(881.551434 66.610828) scale(0.49)\"/>\n     <use xlink:href=\"#DejaVuSans-Oblique-70\" transform=\"translate(911.57829 66.610828) scale(0.49)\"/>\n     <use xlink:href=\"#DejaVuSans-2212\" transform=\"translate(958.233563 78.095203) scale(0.7)\"/>\n     <use xlink:href=\"#DejaVuSans-Oblique-65\" transform=\"translate(1030.523602 78.095203) scale(0.7)\"/>\n     <use xlink:href=\"#DejaVuSans-31\" transform=\"translate(1073.590009 66.610828) scale(0.49)\"/>\n     <use xlink:href=\"#DejaVuSans-Oblique-4e\" transform=\"translate(1104.765302 66.610828) scale(0.49)\"/>\n     <use xlink:href=\"#DejaVuSans-Oblique-73\" transform=\"translate(1141.419598 66.610828) scale(0.49)\"/>\n     <use xlink:href=\"#DejaVuSans-Oblique-55\" transform=\"translate(1166.948407 66.610828) scale(0.49)\"/>\n     <use xlink:href=\"#DejaVuSans-Oblique-6e\" transform=\"translate(1202.813153 66.610828) scale(0.49)\"/>\n     <use xlink:href=\"#DejaVuSans-Oblique-66\" transform=\"translate(1233.868817 66.610828) scale(0.49)\"/>\n     <use xlink:href=\"#DejaVuSans-Oblique-69\" transform=\"translate(1251.119305 66.610828) scale(0.49)\"/>\n     <use xlink:href=\"#DejaVuSans-Oblique-6c\" transform=\"translate(1264.733075 66.610828) scale(0.49)\"/>\n     <use xlink:href=\"#DejaVuSans-Oblique-6c\" transform=\"translate(1278.346844 66.610828) scale(0.49)\"/>\n     <use xlink:href=\"#DejaVuSans-Oblique-65\" transform=\"translate(1291.960614 66.610828) scale(0.49)\"/>\n     <use xlink:href=\"#DejaVuSans-Oblique-64\" transform=\"translate(1322.107098 66.610828) scale(0.49)\"/>\n     <use xlink:href=\"#DejaVuSans-2212\" transform=\"translate(1368.762372 78.095203) scale(0.7)\"/>\n     <use xlink:href=\"#DejaVuSans-Oblique-65\" transform=\"translate(1441.052411 78.095203) scale(0.7)\"/>\n     <use xlink:href=\"#DejaVuSans-32\" transform=\"translate(1484.118817 66.610828) scale(0.49)\"/>\n     <use xlink:href=\"#DejaVuSans-Oblique-43\" transform=\"translate(1515.29411 66.610828) scale(0.49)\"/>\n     <use xlink:href=\"#DejaVuSans-Oblique-6f\" transform=\"translate(1549.507977 66.610828) scale(0.49)\"/>\n     <use xlink:href=\"#DejaVuSans-Oblique-6c\" transform=\"translate(1579.486981 66.610828) scale(0.49)\"/>\n     <use xlink:href=\"#DejaVuSans-Oblique-75\" transform=\"translate(1593.100751 66.610828) scale(0.49)\"/>\n     <use xlink:href=\"#DejaVuSans-Oblique-6d\" transform=\"translate(1624.156415 66.610828) scale(0.49)\"/>\n     <use xlink:href=\"#DejaVuSans-Oblique-6e\" transform=\"translate(1671.888348 66.610828) scale(0.49)\"/>\n     <use xlink:href=\"#DejaVuSans-2b\" transform=\"translate(1718.49577 78.095203) scale(0.7)\"/>\n     <use xlink:href=\"#DejaVuSans-Oblique-65\" transform=\"translate(1900.785809 117.279781) scale(0.49)\"/>\n     <use xlink:href=\"#DejaVuSans-32\" transform=\"translate(1930.932294 109.240719) scale(0.343)\"/>\n     <use xlink:href=\"#DejaVuSans-Oblique-52\" transform=\"translate(1952.754999 109.240719) scale(0.343)\"/>\n     <use xlink:href=\"#DejaVuSans-Oblique-6f\" transform=\"translate(1976.587469 109.240719) scale(0.343)\"/>\n     <use xlink:href=\"#DejaVuSans-Oblique-77\" transform=\"translate(1997.572772 109.240719) scale(0.343)\"/>\n     <use xlink:href=\"#DejaVuSans-Oblique-65\" transform=\"translate(1790.785809 59.438016) scale(0.49)\"/>\n     <use xlink:href=\"#DejaVuSans-31\" transform=\"translate(1820.932294 51.398953) scale(0.343)\"/>\n     <use xlink:href=\"#DejaVuSans-Oblique-45\" transform=\"translate(1842.754999 51.398953) scale(0.343)\"/>\n     <use xlink:href=\"#DejaVuSans-Oblique-6c\" transform=\"translate(1864.426971 51.398953) scale(0.343)\"/>\n     <use xlink:href=\"#DejaVuSans-Oblique-65\" transform=\"translate(1873.95661 51.398953) scale(0.343)\"/>\n     <use xlink:href=\"#DejaVuSans-Oblique-63\" transform=\"translate(1895.059149 51.398953) scale(0.343)\"/>\n     <use xlink:href=\"#DejaVuSans-Oblique-74\" transform=\"translate(1913.91745 51.398953) scale(0.343)\"/>\n     <use xlink:href=\"#DejaVuSans-Oblique-72\" transform=\"translate(1927.366132 51.398953) scale(0.343)\"/>\n     <use xlink:href=\"#DejaVuSans-Oblique-6f\" transform=\"translate(1941.467987 51.398953) scale(0.343)\"/>\n     <use xlink:href=\"#DejaVuSans-Oblique-6e\" transform=\"translate(1962.45329 51.398953) scale(0.343)\"/>\n     <use xlink:href=\"#DejaVuSans-Oblique-65\" transform=\"translate(1984.192255 51.398953) scale(0.343)\"/>\n     <use xlink:href=\"#DejaVuSans-Oblique-67\" transform=\"translate(2005.294794 51.398953) scale(0.343)\"/>\n     <use xlink:href=\"#DejaVuSans-Oblique-61\" transform=\"translate(2027.067255 51.398953) scale(0.343)\"/>\n     <use xlink:href=\"#DejaVuSans-Oblique-74\" transform=\"translate(2048.086053 51.398953) scale(0.343)\"/>\n     <use xlink:href=\"#DejaVuSans-Oblique-69\" transform=\"translate(2061.534735 51.398953) scale(0.343)\"/>\n     <use xlink:href=\"#DejaVuSans-Oblique-76\" transform=\"translate(2071.064374 51.398953) scale(0.343)\"/>\n     <use xlink:href=\"#DejaVuSans-Oblique-69\" transform=\"translate(2091.363007 51.398953) scale(0.343)\"/>\n     <use xlink:href=\"#DejaVuSans-Oblique-74\" transform=\"translate(2100.892645 51.398953) scale(0.343)\"/>\n     <use xlink:href=\"#DejaVuSans-Oblique-79\" transform=\"translate(2114.341327 51.398953) scale(0.343)\"/>\n     <use xlink:href=\"#STIXSizeTwoSym-Regular-29\" transform=\"translate(2144.729803 59.501563) scale(0.544467)\"/>\n     <use xlink:href=\"#DejaVuSans-Oblique-65\" transform=\"translate(999 -26.184375) scale(0.7)\"/>\n     <use xlink:href=\"#DejaVuSans-32\" transform=\"translate(1042.066406 -37.66875) scale(0.49)\"/>\n     <use xlink:href=\"#DejaVuSans-Oblique-52\" transform=\"translate(1073.241699 -37.66875) scale(0.49)\"/>\n     <use xlink:href=\"#DejaVuSans-Oblique-6f\" transform=\"translate(1107.288086 -37.66875) scale(0.49)\"/>\n     <use xlink:href=\"#DejaVuSans-Oblique-77\" transform=\"translate(1137.26709 -37.66875) scale(0.49)\"/>\n     <path d=\"M 1790.785809 91.253016 \nL 1790.785809 95.628016 \nL 2135.979803 95.628016 \nL 2135.979803 91.253016 \nL 1790.785809 91.253016 \nz\n\"/>\n     <path d=\"M 0 19.265625 \nL 0 25.515625 \nL 2177.820195 25.515625 \nL 2177.820195 19.265625 \nL 0 19.265625 \nz\n\"/>\n    </g>\n   </g>\n  </g>\n </g>\n</svg>\n",
      "text/plain": [
       "<Figure size 432x288 with 1 Axes>"
      ]
     },
     "metadata": {},
     "output_type": "display_data"
    }
   ],
   "source": [
    "#Display prettified expression\n",
    "prettify(SR_classifier,save=True)"
   ]
  },
  {
   "cell_type": "code",
   "execution_count": 63,
   "metadata": {},
   "outputs": [
    {
     "data": {
      "image/svg+xml": "<?xml version=\"1.0\" encoding=\"UTF-8\" standalone=\"no\"?>\n<!DOCTYPE svg PUBLIC \"-//W3C//DTD SVG 1.1//EN\"\n \"http://www.w3.org/Graphics/SVG/1.1/DTD/svg11.dtd\">\n<!-- Generated by graphviz version 7.0.6 (20230106.0513)\n -->\n<!-- Title: program Pages: 1 -->\n<svg width=\"269pt\" height=\"188pt\"\n viewBox=\"0.00 0.00 269.44 188.00\" xmlns=\"http://www.w3.org/2000/svg\" xmlns:xlink=\"http://www.w3.org/1999/xlink\">\n<g id=\"graph0\" class=\"graph\" transform=\"scale(1 1) rotate(0) translate(4 184)\">\n<title>program</title>\n<polygon fill=\"white\" stroke=\"none\" points=\"-4,4 -4,-184 265.44,-184 265.44,4 -4,4\"/>\n<!-- 0 -->\n<g id=\"node1\" class=\"node\">\n<title>0</title>\n<ellipse fill=\"#136ed4\" stroke=\"black\" cx=\"150.3\" cy=\"-162\" rx=\"27\" ry=\"18\"/>\n<text text-anchor=\"middle\" x=\"150.3\" y=\"-158.3\" font-family=\"Times,serif\" font-size=\"14.00\">add</text>\n</g>\n<!-- 1 -->\n<g id=\"node2\" class=\"node\">\n<title>1</title>\n<ellipse fill=\"#136ed4\" stroke=\"black\" cx=\"98.3\" cy=\"-90\" rx=\"27\" ry=\"18\"/>\n<text text-anchor=\"middle\" x=\"98.3\" y=\"-86.3\" font-family=\"Times,serif\" font-size=\"14.00\">add</text>\n</g>\n<!-- 0&#45;&gt;1 -->\n<g id=\"edge4\" class=\"edge\">\n<title>0&#45;&gt;1</title>\n<path fill=\"none\" stroke=\"black\" d=\"M138.76,-145.46C132.23,-136.67 123.91,-125.48 116.52,-115.53\"/>\n<polygon fill=\"black\" stroke=\"black\" points=\"119.48,-113.65 110.71,-107.71 113.86,-117.82 119.48,-113.65\"/>\n</g>\n<!-- 4 -->\n<g id=\"node5\" class=\"node\">\n<title>4</title>\n<ellipse fill=\"#60a6f6\" stroke=\"black\" cx=\"202.3\" cy=\"-90\" rx=\"59.29\" ry=\"18\"/>\n<text text-anchor=\"middle\" x=\"202.3\" y=\"-86.3\" font-family=\"Times,serif\" font-size=\"14.00\">e1_NUnfilled</text>\n</g>\n<!-- 0&#45;&gt;4 -->\n<g id=\"edge3\" class=\"edge\">\n<title>0&#45;&gt;4</title>\n<path fill=\"none\" stroke=\"black\" d=\"M161.84,-145.46C168.03,-137.13 175.83,-126.63 182.92,-117.08\"/>\n<polygon fill=\"black\" stroke=\"black\" points=\"185.64,-119.29 188.79,-109.18 180.02,-115.12 185.64,-119.29\"/>\n</g>\n<!-- 2 -->\n<g id=\"node3\" class=\"node\">\n<title>2</title>\n<ellipse fill=\"#60a6f6\" stroke=\"black\" cx=\"40.3\" cy=\"-18\" rx=\"40.09\" ry=\"18\"/>\n<text text-anchor=\"middle\" x=\"40.3\" y=\"-14.3\" font-family=\"Times,serif\" font-size=\"14.00\">e1_Row</text>\n</g>\n<!-- 1&#45;&gt;2 -->\n<g id=\"edge2\" class=\"edge\">\n<title>1&#45;&gt;2</title>\n<path fill=\"none\" stroke=\"black\" d=\"M85.71,-73.81C78.47,-65.07 69.18,-53.87 60.9,-43.87\"/>\n<polygon fill=\"black\" stroke=\"black\" points=\"63.71,-41.77 54.63,-36.3 58.32,-46.23 63.71,-41.77\"/>\n</g>\n<!-- 3 -->\n<g id=\"node4\" class=\"node\">\n<title>3</title>\n<ellipse fill=\"#60a6f6\" stroke=\"black\" cx=\"157.3\" cy=\"-18\" rx=\"59.29\" ry=\"18\"/>\n<text text-anchor=\"middle\" x=\"157.3\" y=\"-14.3\" font-family=\"Times,serif\" font-size=\"14.00\">e1_NUnfilled</text>\n</g>\n<!-- 1&#45;&gt;3 -->\n<g id=\"edge1\" class=\"edge\">\n<title>1&#45;&gt;3</title>\n<path fill=\"none\" stroke=\"black\" d=\"M111.1,-73.81C118.36,-65.19 127.64,-54.18 135.98,-44.29\"/>\n<polygon fill=\"black\" stroke=\"black\" points=\"138.54,-46.69 142.31,-36.79 133.19,-42.18 138.54,-46.69\"/>\n</g>\n</g>\n</svg>\n",
      "text/plain": [
       "<graphviz.sources.Source at 0x2a838af20>"
      ]
     },
     "execution_count": 63,
     "metadata": {},
     "output_type": "execute_result"
    }
   ],
   "source": [
    "#Visualize as graph\n",
    "\n",
    "dot_data = SR_classifier._program.export_graphviz()\n",
    "graph = graphviz.Source(dot_data)\n",
    "graph.render('images/ex4_tree', format='png', cleanup=True)\n",
    "graph"
   ]
  },
  {
   "cell_type": "code",
   "execution_count": 93,
   "metadata": {},
   "outputs": [
    {
     "data": {
      "text/plain": [
       "0.7553017944535073"
      ]
     },
     "execution_count": 93,
     "metadata": {},
     "output_type": "execute_result"
    }
   ],
   "source": [
    "SR_classifier.score(SR_features_test, SR_target_test)\n"
   ]
  },
  {
   "attachments": {},
   "cell_type": "markdown",
   "metadata": {},
   "source": [
    "## Random Forest Benchmark"
   ]
  },
  {
   "cell_type": "code",
   "execution_count": 94,
   "metadata": {},
   "outputs": [],
   "source": [
    "from sklearn.ensemble import RandomForestClassifier\n",
    "from sklearn.model_selection import cross_val_score\n",
    "from sklearn.model_selection import StratifiedKFold"
   ]
  },
  {
   "cell_type": "code",
   "execution_count": 95,
   "metadata": {},
   "outputs": [
    {
     "data": {
      "text/html": [
       "<style>#sk-container-id-4 {color: black;background-color: white;}#sk-container-id-4 pre{padding: 0;}#sk-container-id-4 div.sk-toggleable {background-color: white;}#sk-container-id-4 label.sk-toggleable__label {cursor: pointer;display: block;width: 100%;margin-bottom: 0;padding: 0.3em;box-sizing: border-box;text-align: center;}#sk-container-id-4 label.sk-toggleable__label-arrow:before {content: \"▸\";float: left;margin-right: 0.25em;color: #696969;}#sk-container-id-4 label.sk-toggleable__label-arrow:hover:before {color: black;}#sk-container-id-4 div.sk-estimator:hover label.sk-toggleable__label-arrow:before {color: black;}#sk-container-id-4 div.sk-toggleable__content {max-height: 0;max-width: 0;overflow: hidden;text-align: left;background-color: #f0f8ff;}#sk-container-id-4 div.sk-toggleable__content pre {margin: 0.2em;color: black;border-radius: 0.25em;background-color: #f0f8ff;}#sk-container-id-4 input.sk-toggleable__control:checked~div.sk-toggleable__content {max-height: 200px;max-width: 100%;overflow: auto;}#sk-container-id-4 input.sk-toggleable__control:checked~label.sk-toggleable__label-arrow:before {content: \"▾\";}#sk-container-id-4 div.sk-estimator input.sk-toggleable__control:checked~label.sk-toggleable__label {background-color: #d4ebff;}#sk-container-id-4 div.sk-label input.sk-toggleable__control:checked~label.sk-toggleable__label {background-color: #d4ebff;}#sk-container-id-4 input.sk-hidden--visually {border: 0;clip: rect(1px 1px 1px 1px);clip: rect(1px, 1px, 1px, 1px);height: 1px;margin: -1px;overflow: hidden;padding: 0;position: absolute;width: 1px;}#sk-container-id-4 div.sk-estimator {font-family: monospace;background-color: #f0f8ff;border: 1px dotted black;border-radius: 0.25em;box-sizing: border-box;margin-bottom: 0.5em;}#sk-container-id-4 div.sk-estimator:hover {background-color: #d4ebff;}#sk-container-id-4 div.sk-parallel-item::after {content: \"\";width: 100%;border-bottom: 1px solid gray;flex-grow: 1;}#sk-container-id-4 div.sk-label:hover label.sk-toggleable__label {background-color: #d4ebff;}#sk-container-id-4 div.sk-serial::before {content: \"\";position: absolute;border-left: 1px solid gray;box-sizing: border-box;top: 0;bottom: 0;left: 50%;z-index: 0;}#sk-container-id-4 div.sk-serial {display: flex;flex-direction: column;align-items: center;background-color: white;padding-right: 0.2em;padding-left: 0.2em;position: relative;}#sk-container-id-4 div.sk-item {position: relative;z-index: 1;}#sk-container-id-4 div.sk-parallel {display: flex;align-items: stretch;justify-content: center;background-color: white;position: relative;}#sk-container-id-4 div.sk-item::before, #sk-container-id-4 div.sk-parallel-item::before {content: \"\";position: absolute;border-left: 1px solid gray;box-sizing: border-box;top: 0;bottom: 0;left: 50%;z-index: -1;}#sk-container-id-4 div.sk-parallel-item {display: flex;flex-direction: column;z-index: 1;position: relative;background-color: white;}#sk-container-id-4 div.sk-parallel-item:first-child::after {align-self: flex-end;width: 50%;}#sk-container-id-4 div.sk-parallel-item:last-child::after {align-self: flex-start;width: 50%;}#sk-container-id-4 div.sk-parallel-item:only-child::after {width: 0;}#sk-container-id-4 div.sk-dashed-wrapped {border: 1px dashed gray;margin: 0 0.4em 0.5em 0.4em;box-sizing: border-box;padding-bottom: 0.4em;background-color: white;}#sk-container-id-4 div.sk-label label {font-family: monospace;font-weight: bold;display: inline-block;line-height: 1.2em;}#sk-container-id-4 div.sk-label-container {text-align: center;}#sk-container-id-4 div.sk-container {/* jupyter's `normalize.less` sets `[hidden] { display: none; }` but bootstrap.min.css set `[hidden] { display: none !important; }` so we also need the `!important` here to be able to override the default hidden behavior on the sphinx rendered scikit-learn.org. See: https://github.com/scikit-learn/scikit-learn/issues/21755 */display: inline-block !important;position: relative;}#sk-container-id-4 div.sk-text-repr-fallback {display: none;}</style><div id=\"sk-container-id-4\" class=\"sk-top-container\"><div class=\"sk-text-repr-fallback\"><pre>RandomForestClassifier(max_depth=5, n_estimators=10)</pre><b>In a Jupyter environment, please rerun this cell to show the HTML representation or trust the notebook. <br />On GitHub, the HTML representation is unable to render, please try loading this page with nbviewer.org.</b></div><div class=\"sk-container\" hidden><div class=\"sk-item\"><div class=\"sk-estimator sk-toggleable\"><input class=\"sk-toggleable__control sk-hidden--visually\" id=\"sk-estimator-id-4\" type=\"checkbox\" checked><label for=\"sk-estimator-id-4\" class=\"sk-toggleable__label sk-toggleable__label-arrow\">RandomForestClassifier</label><div class=\"sk-toggleable__content\"><pre>RandomForestClassifier(max_depth=5, n_estimators=10)</pre></div></div></div></div></div>"
      ],
      "text/plain": [
       "RandomForestClassifier(max_depth=5, n_estimators=10)"
      ]
     },
     "execution_count": 95,
     "metadata": {},
     "output_type": "execute_result"
    }
   ],
   "source": [
    "#Naive random forest\n",
    "naive_rf = RandomForestClassifier(max_depth=5, n_estimators=10)\n",
    "naive_rf.fit(SR_features_train,SR_target_train)\n",
    "\n"
   ]
  },
  {
   "cell_type": "code",
   "execution_count": 96,
   "metadata": {},
   "outputs": [
    {
     "name": "stdout",
     "output_type": "stream",
     "text": [
      "Fold: 0\n",
      "Test: 0.8564437194127243\n",
      "Fold: 1\n",
      "Test: 0.8515497553017944\n",
      "Fold: 2\n",
      "Test: 0.8417618270799347\n",
      "Fold: 3\n",
      "Test: 0.8254486133768353\n",
      "Fold: 4\n",
      "Test: 0.8055555555555556\n"
     ]
    }
   ],
   "source": [
    "#Stratified K fold (maintain class balance)\n",
    "\n",
    "skf = StratifiedKFold(n_splits=5)\n",
    "\n",
    "for i, (train_idx, test_idx) in enumerate(skf.split(SR_features,SR_targets)):\n",
    "    train_features_i = features[train_idx]\n",
    "    train_labels_i = labels_1vsall[train_idx]\n",
    "\n",
    "    test_features_i = features[test_idx]\n",
    "    test_labels_i = labels_1vsall[test_idx]\n",
    "\n",
    "    #Fit naive rf model\n",
    "    naive_rf_i = RandomForestClassifier(max_depth=5, n_estimators=10)\n",
    "    naive_rf_i.fit(train_features_i, train_labels_i)\n",
    "\n",
    "    #Fit on k-folded validation set\n",
    "    test_score_i = naive_rf_i.score(test_features_i, test_labels_i)\n",
    "\n",
    "    print(f'Fold: {i}')\n",
    "    print(f'Test: {test_score_i}')\n",
    "\n",
    "\n",
    "\n"
   ]
  },
  {
   "cell_type": "code",
   "execution_count": 340,
   "metadata": {},
   "outputs": [],
   "source": [
    "importances = naive_rf.feature_importances_\n",
    "std = np.std([tree.feature_importances_ for tree in naive_rf.estimators_], axis = 0)\n"
   ]
  },
  {
   "cell_type": "code",
   "execution_count": 341,
   "metadata": {},
   "outputs": [
    {
     "data": {
      "image/png": "[encoded data removed]",
      "text/plain": [
       "<Figure size 640x480 with 1 Axes>"
      ]
     },
     "metadata": {},
     "output_type": "display_data"
    }
   ],
   "source": [
    "#https://scikit-learn.org/stable/auto_examples/ensemble/plot_forest_importances.html\n",
    "\n",
    "forest_importances = pd.Series(importances, index = feature_names)\n",
    "\n",
    "fig, ax = plt.subplots()\n",
    "forest_importances.plot.bar(yerr = std, ax=ax)\n",
    "ax.set_title('Feature Importance MDI')\n",
    "ax.set_ylabel('Mean decrease impurity')\n",
    "fig.tight_layout()\n",
    "\n"
   ]
  },
  {
   "cell_type": "code",
   "execution_count": null,
   "metadata": {},
   "outputs": [],
   "source": [
    "#TRIM THIS TOMORROW BASED ON FI "
   ]
  },
  {
   "attachments": {},
   "cell_type": "markdown",
   "metadata": {},
   "source": [
    "## Cancer DSET (IGNORE THIS IS FOR REFERENCE)\n"
   ]
  },
  {
   "cell_type": "code",
   "execution_count": 193,
   "metadata": {},
   "outputs": [],
   "source": [
    "rng = check_random_state(0)\n",
    "cancer = load_breast_cancer()\n",
    "perm = rng.permutation(cancer.target.size)\n",
    "cancer.data = cancer.data[perm]\n",
    "cancer.target = cancer.target[perm]"
   ]
  },
  {
   "cell_type": "code",
   "execution_count": 194,
   "metadata": {},
   "outputs": [
    {
     "data": {
      "text/plain": [
       "array(['mean radius', 'mean texture', 'mean perimeter', 'mean area',\n",
       "       'mean smoothness', 'mean compactness', 'mean concavity',\n",
       "       'mean concave points', 'mean symmetry', 'mean fractal dimension',\n",
       "       'radius error', 'texture error', 'perimeter error', 'area error',\n",
       "       'smoothness error', 'compactness error', 'concavity error',\n",
       "       'concave points error', 'symmetry error',\n",
       "       'fractal dimension error', 'worst radius', 'worst texture',\n",
       "       'worst perimeter', 'worst area', 'worst smoothness',\n",
       "       'worst compactness', 'worst concavity', 'worst concave points',\n",
       "       'worst symmetry', 'worst fractal dimension'], dtype='<U23')"
      ]
     },
     "execution_count": 194,
     "metadata": {},
     "output_type": "execute_result"
    }
   ],
   "source": [
    "cancer.feature_names\n"
   ]
  },
  {
   "cell_type": "code",
   "execution_count": 12,
   "metadata": {},
   "outputs": [],
   "source": [
    "from sklearn.tree import DecisionTreeClassifier\n",
    "from sklearn.ensemble import RandomForestClassifier, AdaBoostClassifier"
   ]
  },
  {
   "cell_type": "code",
   "execution_count": 109,
   "metadata": {},
   "outputs": [],
   "source": [
    "function_set = ['add', 'sub', 'mul', 'div', 'sqrt',\n",
    "                'abs', 'neg', 'inv', 'max', 'min']"
   ]
  },
  {
   "cell_type": "code",
   "execution_count": 195,
   "metadata": {},
   "outputs": [
    {
     "data": {
      "text/html": [
       "<style>#sk-container-id-24 {color: black;background-color: white;}#sk-container-id-24 pre{padding: 0;}#sk-container-id-24 div.sk-toggleable {background-color: white;}#sk-container-id-24 label.sk-toggleable__label {cursor: pointer;display: block;width: 100%;margin-bottom: 0;padding: 0.3em;box-sizing: border-box;text-align: center;}#sk-container-id-24 label.sk-toggleable__label-arrow:before {content: \"▸\";float: left;margin-right: 0.25em;color: #696969;}#sk-container-id-24 label.sk-toggleable__label-arrow:hover:before {color: black;}#sk-container-id-24 div.sk-estimator:hover label.sk-toggleable__label-arrow:before {color: black;}#sk-container-id-24 div.sk-toggleable__content {max-height: 0;max-width: 0;overflow: hidden;text-align: left;background-color: #f0f8ff;}#sk-container-id-24 div.sk-toggleable__content pre {margin: 0.2em;color: black;border-radius: 0.25em;background-color: #f0f8ff;}#sk-container-id-24 input.sk-toggleable__control:checked~div.sk-toggleable__content {max-height: 200px;max-width: 100%;overflow: auto;}#sk-container-id-24 input.sk-toggleable__control:checked~label.sk-toggleable__label-arrow:before {content: \"▾\";}#sk-container-id-24 div.sk-estimator input.sk-toggleable__control:checked~label.sk-toggleable__label {background-color: #d4ebff;}#sk-container-id-24 div.sk-label input.sk-toggleable__control:checked~label.sk-toggleable__label {background-color: #d4ebff;}#sk-container-id-24 input.sk-hidden--visually {border: 0;clip: rect(1px 1px 1px 1px);clip: rect(1px, 1px, 1px, 1px);height: 1px;margin: -1px;overflow: hidden;padding: 0;position: absolute;width: 1px;}#sk-container-id-24 div.sk-estimator {font-family: monospace;background-color: #f0f8ff;border: 1px dotted black;border-radius: 0.25em;box-sizing: border-box;margin-bottom: 0.5em;}#sk-container-id-24 div.sk-estimator:hover {background-color: #d4ebff;}#sk-container-id-24 div.sk-parallel-item::after {content: \"\";width: 100%;border-bottom: 1px solid gray;flex-grow: 1;}#sk-container-id-24 div.sk-label:hover label.sk-toggleable__label {background-color: #d4ebff;}#sk-container-id-24 div.sk-serial::before {content: \"\";position: absolute;border-left: 1px solid gray;box-sizing: border-box;top: 0;bottom: 0;left: 50%;z-index: 0;}#sk-container-id-24 div.sk-serial {display: flex;flex-direction: column;align-items: center;background-color: white;padding-right: 0.2em;padding-left: 0.2em;position: relative;}#sk-container-id-24 div.sk-item {position: relative;z-index: 1;}#sk-container-id-24 div.sk-parallel {display: flex;align-items: stretch;justify-content: center;background-color: white;position: relative;}#sk-container-id-24 div.sk-item::before, #sk-container-id-24 div.sk-parallel-item::before {content: \"\";position: absolute;border-left: 1px solid gray;box-sizing: border-box;top: 0;bottom: 0;left: 50%;z-index: -1;}#sk-container-id-24 div.sk-parallel-item {display: flex;flex-direction: column;z-index: 1;position: relative;background-color: white;}#sk-container-id-24 div.sk-parallel-item:first-child::after {align-self: flex-end;width: 50%;}#sk-container-id-24 div.sk-parallel-item:last-child::after {align-self: flex-start;width: 50%;}#sk-container-id-24 div.sk-parallel-item:only-child::after {width: 0;}#sk-container-id-24 div.sk-dashed-wrapped {border: 1px dashed gray;margin: 0 0.4em 0.5em 0.4em;box-sizing: border-box;padding-bottom: 0.4em;background-color: white;}#sk-container-id-24 div.sk-label label {font-family: monospace;font-weight: bold;display: inline-block;line-height: 1.2em;}#sk-container-id-24 div.sk-label-container {text-align: center;}#sk-container-id-24 div.sk-container {/* jupyter's `normalize.less` sets `[hidden] { display: none; }` but bootstrap.min.css set `[hidden] { display: none !important; }` so we also need the `!important` here to be able to override the default hidden behavior on the sphinx rendered scikit-learn.org. See: https://github.com/scikit-learn/scikit-learn/issues/21755 */display: inline-block !important;position: relative;}#sk-container-id-24 div.sk-text-repr-fallback {display: none;}</style><div id=\"sk-container-id-24\" class=\"sk-top-container\"><div class=\"sk-text-repr-fallback\"><pre>sub(div(worst fractal dimension, mean concave points), mul(mean concave points, area error))</pre><b>In a Jupyter environment, please rerun this cell to show the HTML representation or trust the notebook. <br />On GitHub, the HTML representation is unable to render, please try loading this page with nbviewer.org.</b></div><div class=\"sk-container\" hidden><div class=\"sk-item\"><div class=\"sk-estimator sk-toggleable\"><input class=\"sk-toggleable__control sk-hidden--visually\" id=\"sk-estimator-id-24\" type=\"checkbox\" checked><label for=\"sk-estimator-id-24\" class=\"sk-toggleable__label sk-toggleable__label-arrow\">SymbolicClassifier</label><div class=\"sk-toggleable__content\"><pre>sub(div(worst fractal dimension, mean concave points), mul(mean concave points, area error))</pre></div></div></div></div></div>"
      ],
      "text/plain": [
       "SymbolicClassifier(feature_names=array(['mean radius', 'mean texture', 'mean perimeter', 'mean area',\n",
       "       'mean smoothness', 'mean compactness', 'mean concavity',\n",
       "       'mean concave points', 'mean symmetry', 'mean fractal dimension',\n",
       "       'radius error', 'texture error', 'perimeter error', 'area error',\n",
       "       'smoothness error', 'compactness error', 'concavity error',\n",
       "       'concave points error', 'symmetry error',\n",
       "       'fractal dimension error', 'worst radius', 'worst texture',\n",
       "       'worst perimeter', 'worst area', 'worst smoothness',\n",
       "       'worst compactness', 'worst concavity', 'worst concave points',\n",
       "       'worst symmetry', 'worst fractal dimension'], dtype='<U23'),\n",
       "                   parsimony_coefficient=0.01, random_state=1)"
      ]
     },
     "execution_count": 195,
     "metadata": {},
     "output_type": "execute_result"
    }
   ],
   "source": [
    "#Defining function set to use in symbolic classification\n",
    "\n",
    "est = SymbolicClassifier(parsimony_coefficient=.01,\n",
    "                         feature_names=cancer.feature_names,\n",
    "                         random_state=1)\n",
    "est.fit(cancer.data[:400], cancer.target[:400])"
   ]
  },
  {
   "cell_type": "code",
   "execution_count": 210,
   "metadata": {},
   "outputs": [],
   "source": []
  },
  {
   "cell_type": "code",
   "execution_count": 217,
   "metadata": {},
   "outputs": [
    {
     "data": {
      "text/latex": [
       "$\\displaystyle a b$"
      ],
      "text/plain": [
       "a*b"
      ]
     },
     "execution_count": 217,
     "metadata": {},
     "output_type": "execute_result"
    }
   ],
   "source": [
    "a = sympify('mul(a,b)', locals=converter)\n",
    "a"
   ]
  },
  {
   "cell_type": "code",
   "execution_count": 205,
   "metadata": {},
   "outputs": [],
   "source": [
    "est.hall_of_fame"
   ]
  },
  {
   "cell_type": "code",
   "execution_count": 111,
   "metadata": {},
   "outputs": [
    {
     "data": {
      "text/plain": [
       "0.9693786982248521"
      ]
     },
     "execution_count": 111,
     "metadata": {},
     "output_type": "execute_result"
    }
   ],
   "source": [
    "y_true = cancer.target[400:]\n",
    "y_score = est.predict_proba(cancer.data[400:])[:,1]\n",
    "roc_auc_score(y_true, y_score)\n",
    "\n"
   ]
  },
  {
   "cell_type": "code",
   "execution_count": 112,
   "metadata": {},
   "outputs": [
    {
     "data": {
      "text/plain": [
       "array([9.87333236e-01, 9.93255872e-01, 8.99437669e-02, 3.04637276e-01,\n",
       "       6.02068985e-01, 9.23997536e-01, 9.87121616e-01, 9.94963460e-01,\n",
       "       9.75590513e-01, 5.37858724e-01, 2.09411395e-02, 1.75012653e-02,\n",
       "       3.02336598e-13, 9.57427501e-01, 5.43537457e-02, 6.09270162e-05,\n",
       "       5.01672128e-01, 9.91639538e-01, 9.67743117e-01, 7.18487645e-01,\n",
       "       9.50344059e-01, 5.96739523e-01, 5.71379721e-02, 9.90992282e-01,\n",
       "       8.24958161e-01, 9.19846544e-01, 4.29071461e-01, 9.98715303e-01,\n",
       "       5.62561330e-01, 2.27917215e-01, 7.23944395e-02, 9.97739994e-01,\n",
       "       3.25215070e-03, 8.58417314e-01, 1.32715182e-06, 9.13530591e-01,\n",
       "       8.88514912e-01, 6.61662375e-01, 9.97139033e-01, 5.72548424e-02,\n",
       "       9.65785159e-01, 1.61758596e-05, 3.86244528e-01, 5.81764241e-04,\n",
       "       9.68138024e-01, 1.00000000e+00, 1.09334878e-08, 1.20111679e-01,\n",
       "       9.99953589e-01, 8.34983648e-01, 3.69815279e-01, 8.96200789e-01,\n",
       "       6.02741066e-01, 7.44641139e-01, 9.99999680e-01, 6.75342556e-01,\n",
       "       9.99940214e-01, 9.44905268e-01, 9.96198907e-01, 8.50183047e-01,\n",
       "       8.68831152e-01, 9.30512548e-01, 9.99998467e-01, 2.22870289e-09,\n",
       "       1.18967712e-02, 4.96975625e-01, 9.86685874e-01, 9.98366762e-01,\n",
       "       1.88710185e-02, 7.31058579e-01, 9.97881343e-01, 9.40879484e-01,\n",
       "       8.33775232e-01, 7.15835055e-04, 9.91944151e-01, 1.79703649e-01,\n",
       "       4.34982198e-01, 5.23589604e-02, 8.00583712e-01, 3.55730988e-10,\n",
       "       9.65409873e-01, 1.19281891e-01, 8.67753281e-01, 1.24330682e-08,\n",
       "       2.62623528e-40, 9.13648570e-01, 8.89545437e-01, 9.99494103e-01,\n",
       "       9.77491716e-01, 9.91344019e-01, 9.71330211e-01, 9.04515708e-01,\n",
       "       1.00000000e+00, 5.76303945e-09, 1.24514192e-05, 3.83719363e-02,\n",
       "       3.63656948e-02, 1.27182485e-03, 8.04141673e-01, 9.31511578e-01,\n",
       "       6.86122315e-01, 8.47245351e-01, 9.92593721e-01, 9.22257129e-01,\n",
       "       9.82189653e-01, 2.24389297e-03, 6.17566794e-01, 7.65757396e-02,\n",
       "       7.58095370e-01, 1.34341720e-01, 8.11640527e-01, 5.53802052e-01,\n",
       "       8.92356686e-01, 4.89849228e-11, 5.14054019e-02, 4.56688081e-01,\n",
       "       9.87671464e-01, 2.52325287e-02, 9.81151508e-01, 9.99996436e-01,\n",
       "       2.15763634e-01, 4.28662035e-10, 2.38718525e-01, 1.26524029e-01,\n",
       "       6.36349752e-01, 1.29012577e-01, 6.59396581e-03, 1.61630530e-03,\n",
       "       9.98588406e-01, 8.21382223e-05, 9.58901419e-01, 3.72642199e-04,\n",
       "       9.96240217e-01, 8.45332037e-01, 6.00442072e-05, 5.55309892e-01,\n",
       "       7.66743150e-02, 6.42763601e-02, 9.31381147e-01, 9.98883077e-01,\n",
       "       9.67683835e-01, 9.98685378e-01, 1.08661294e-02, 7.99430815e-01,\n",
       "       9.54214545e-01, 8.20805510e-08, 3.35453059e-01, 7.12029842e-01,\n",
       "       7.65554164e-01, 1.50956687e-01, 5.08510148e-01, 8.67327504e-01,\n",
       "       9.48427095e-01, 9.77150308e-01, 2.11829537e-02, 7.77499346e-01,\n",
       "       7.31058579e-01, 2.54497104e-02, 9.59137895e-01, 8.58837599e-01,\n",
       "       7.31058579e-01, 5.96370356e-01, 8.60282933e-01, 1.10342231e-03,\n",
       "       2.37785398e-01, 5.94763970e-01, 9.95312139e-01, 7.31058579e-01,\n",
       "       8.06985985e-01])"
      ]
     },
     "execution_count": 112,
     "metadata": {},
     "output_type": "execute_result"
    }
   ],
   "source": [
    "y_score"
   ]
  },
  {
   "cell_type": "code",
   "execution_count": null,
   "metadata": {},
   "outputs": [],
   "source": []
  }
 ],
 "metadata": {
  "kernelspec": {
   "display_name": "mat-hack",
   "language": "python",
   "name": "python3"
  },
  "language_info": {
   "codemirror_mode": {
    "name": "ipython",
    "version": 3
   },
   "file_extension": ".py",
   "mimetype": "text/x-python",
   "name": "python",
   "nbconvert_exporter": "python",
   "pygments_lexer": "ipython3",
   "version": "3.11.0"
  },
  "orig_nbformat": 4,
  "vscode": {
   "interpreter": {
    "hash": "f29cf555f1ad55622b61a06ba1522f7bf976ada2ce369c8ede82aeb1ba1ad311"
   }
  }
 },
 "nbformat": 4,
 "nbformat_minor": 2
}
