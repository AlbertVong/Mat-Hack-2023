{
 "cells": [
  {
   "cell_type": "code",
   "execution_count": 1,
   "metadata": {},
   "outputs": [],
   "source": [
    "import numpy as np\n",
    "import matplotlib.pyplot as plt\n",
    "from gplearn.genetic import SymbolicClassifier\n",
    "import pandas as pd\n",
    "import random"
   ]
  },
  {
   "cell_type": "code",
   "execution_count": 2,
   "metadata": {},
   "outputs": [],
   "source": [
    "import graphviz\n",
    "from sklearn.utils import check_random_state\n",
    "from sklearn.metrics import roc_auc_score\n",
    "from sklearn.model_selection import StratifiedKFold\n",
    "\n"
   ]
  },
  {
   "attachments": {},
   "cell_type": "markdown",
   "metadata": {},
   "source": [
    "## Defining useful functions"
   ]
  },
  {
   "cell_type": "code",
   "execution_count": 3,
   "metadata": {},
   "outputs": [],
   "source": [
    "#Function to change multiclass classification to 1 vs all\n",
    "def multiclass_to_binary(labels, most_common_id):\n",
    "    to_binary = lambda val: 1 if val == most_common_id else 0\n",
    "    to_binary_vec = np.vectorize(to_binary)\n",
    "\n",
    "    labels_1vsall = to_binary_vec(labels)\n",
    "\n",
    "    return labels_1vsall"
   ]
  },
  {
   "cell_type": "code",
   "execution_count": 4,
   "metadata": {},
   "outputs": [],
   "source": [
    "#Function for prettifying expressions output by the symbolic classifier (denoted as SR_Classifier)\n",
    "#Converts program expression -> sympy -> latex -> janky matplotlib workaround for latex formulas\n",
    "\n",
    "from sympy import *\n",
    "from IPython.display import display, Math\n",
    "\n",
    "#Dictionary for functions in gplearn\n",
    "converter = {\n",
    "    'sub': lambda x, y : x - y,\n",
    "    'div': lambda x, y : x/y,\n",
    "    'mul': lambda x, y : x*y,\n",
    "    'add': lambda x, y : x + y,\n",
    "    'neg': lambda x    : -x,\n",
    "    'pow': lambda x, y : x**y,\n",
    "    'sin': lambda x    : sin(x),\n",
    "    'cos': lambda x    : cos(x),\n",
    "    'inv': lambda x: 1/x,\n",
    "    'sqrt': lambda x: x**0.5,\n",
    "    'pow3': lambda x: x**3\n",
    "}\n",
    "\n",
    "def prettify(classifier):\n",
    "    expression = sympify((str(SR_classifier._program)), locals=converter)\n",
    "    exp_latek = latex(expression)\n",
    "    ax = plt.axes([0,0,0.3,0.3]) #left,bottom,width,height\n",
    "    ax.set_xticks([])\n",
    "    ax.set_yticks([])\n",
    "    ax.axis('off')\n",
    "    \n",
    "    plt.text(0.4, 0.4,'$%s$'%exp_latek, size = 50)\n",
    "\n",
    "    \n"
   ]
  },
  {
   "attachments": {},
   "cell_type": "markdown",
   "metadata": {},
   "source": [
    "## Pulling Full Sample Dataset from CSV and convert to np array"
   ]
  },
  {
   "cell_type": "code",
   "execution_count": 28,
   "metadata": {},
   "outputs": [
    {
     "data": {
      "text/plain": [
       "True"
      ]
     },
     "execution_count": 28,
     "metadata": {},
     "output_type": "execute_result"
    }
   ],
   "source": [
    "import os\n",
    "path = os.getcwd()\n",
    "par = os.path.abspath(os.path.join(path, os.pardir))\n",
    "\n",
    "data_path = os.path.join(par,'3_generate_features','final_feature_array.csv')\n",
    "label_path = os.path.join(par,'3_generate_features','final_label_array.csv')\n",
    "\n",
    "os.path.isfile(data_path)\n"
   ]
  },
  {
   "cell_type": "code",
   "execution_count": 49,
   "metadata": {},
   "outputs": [],
   "source": [
    "pd.set_option('display.max_columns', None)"
   ]
  },
  {
   "cell_type": "code",
   "execution_count": 52,
   "metadata": {},
   "outputs": [
    {
     "data": {
      "text/html": [
       "<div>\n",
       "<style scoped>\n",
       "    .dataframe tbody tr th:only-of-type {\n",
       "        vertical-align: middle;\n",
       "    }\n",
       "\n",
       "    .dataframe tbody tr th {\n",
       "        vertical-align: top;\n",
       "    }\n",
       "\n",
       "    .dataframe thead th {\n",
       "        text-align: right;\n",
       "    }\n",
       "</style>\n",
       "<table border=\"1\" class=\"dataframe\">\n",
       "  <thead>\n",
       "    <tr style=\"text-align: right;\">\n",
       "      <th></th>\n",
       "      <th>Collection_Code</th>\n",
       "      <th>e1_Number</th>\n",
       "      <th>e1_MendeleevNumber</th>\n",
       "      <th>e1_AtomicWeight</th>\n",
       "      <th>e1_MeltingT</th>\n",
       "      <th>e1_Column</th>\n",
       "      <th>e1_Row</th>\n",
       "      <th>e1_CovalentRadius</th>\n",
       "      <th>e1_Electronegativity</th>\n",
       "      <th>e1_NsValence</th>\n",
       "      <th>e1_NpValence</th>\n",
       "      <th>e1_NdValence</th>\n",
       "      <th>e1_NfValence</th>\n",
       "      <th>e1_NValence</th>\n",
       "      <th>e1_NsUnfilled</th>\n",
       "      <th>e1_NpUnfilled</th>\n",
       "      <th>e1_NdUnfilled</th>\n",
       "      <th>e1_NfUnfilled</th>\n",
       "      <th>e1_NUnfilled</th>\n",
       "      <th>e1_GSvolume_pa</th>\n",
       "      <th>e1_GSbandgap</th>\n",
       "      <th>e1_GSmagmom</th>\n",
       "      <th>e1_SpaceGroupNumber</th>\n",
       "      <th>e2_Number</th>\n",
       "      <th>e2_MendeleevNumber</th>\n",
       "      <th>e2_AtomicWeight</th>\n",
       "      <th>e2_MeltingT</th>\n",
       "      <th>e2_Column</th>\n",
       "      <th>e2_Row</th>\n",
       "      <th>e2_CovalentRadius</th>\n",
       "      <th>e2_Electronegativity</th>\n",
       "      <th>e2_NsValence</th>\n",
       "      <th>e2_NpValence</th>\n",
       "      <th>e2_NdValence</th>\n",
       "      <th>e2_NfValence</th>\n",
       "      <th>e2_NValence</th>\n",
       "      <th>e2_NsUnfilled</th>\n",
       "      <th>e2_NpUnfilled</th>\n",
       "      <th>e2_NdUnfilled</th>\n",
       "      <th>e2_NfUnfilled</th>\n",
       "      <th>e2_NUnfilled</th>\n",
       "      <th>e2_GSvolume_pa</th>\n",
       "      <th>e2_GSbandgap</th>\n",
       "      <th>e2_GSmagmom</th>\n",
       "      <th>e2_SpaceGroupNumber</th>\n",
       "    </tr>\n",
       "  </thead>\n",
       "  <tbody>\n",
       "    <tr>\n",
       "      <th>0</th>\n",
       "      <td>159910</td>\n",
       "      <td>22.0</td>\n",
       "      <td>43.0</td>\n",
       "      <td>47.867000</td>\n",
       "      <td>1941.0</td>\n",
       "      <td>4.0</td>\n",
       "      <td>4.0</td>\n",
       "      <td>160.0</td>\n",
       "      <td>1.54</td>\n",
       "      <td>2.0</td>\n",
       "      <td>0.0</td>\n",
       "      <td>2.0</td>\n",
       "      <td>0.0</td>\n",
       "      <td>4.0</td>\n",
       "      <td>0.0</td>\n",
       "      <td>0.0</td>\n",
       "      <td>8.0</td>\n",
       "      <td>0.0</td>\n",
       "      <td>8.0</td>\n",
       "      <td>16.690000</td>\n",
       "      <td>0.000</td>\n",
       "      <td>0.000023</td>\n",
       "      <td>194.0</td>\n",
       "      <td>22.0</td>\n",
       "      <td>43.0</td>\n",
       "      <td>47.867000</td>\n",
       "      <td>1941.0</td>\n",
       "      <td>4.0</td>\n",
       "      <td>4.0</td>\n",
       "      <td>160.0</td>\n",
       "      <td>1.54</td>\n",
       "      <td>2.0</td>\n",
       "      <td>0.0</td>\n",
       "      <td>2.0</td>\n",
       "      <td>0.0</td>\n",
       "      <td>4.0</td>\n",
       "      <td>0.0</td>\n",
       "      <td>0.0</td>\n",
       "      <td>8.0</td>\n",
       "      <td>0.0</td>\n",
       "      <td>8.0</td>\n",
       "      <td>16.690000</td>\n",
       "      <td>0.000</td>\n",
       "      <td>0.000023</td>\n",
       "      <td>194.0</td>\n",
       "    </tr>\n",
       "    <tr>\n",
       "      <th>1</th>\n",
       "      <td>180903</td>\n",
       "      <td>14.0</td>\n",
       "      <td>78.0</td>\n",
       "      <td>28.085500</td>\n",
       "      <td>1687.0</td>\n",
       "      <td>14.0</td>\n",
       "      <td>3.0</td>\n",
       "      <td>111.0</td>\n",
       "      <td>1.90</td>\n",
       "      <td>2.0</td>\n",
       "      <td>2.0</td>\n",
       "      <td>0.0</td>\n",
       "      <td>0.0</td>\n",
       "      <td>4.0</td>\n",
       "      <td>0.0</td>\n",
       "      <td>4.0</td>\n",
       "      <td>0.0</td>\n",
       "      <td>0.0</td>\n",
       "      <td>4.0</td>\n",
       "      <td>20.440000</td>\n",
       "      <td>0.773</td>\n",
       "      <td>0.000000</td>\n",
       "      <td>227.0</td>\n",
       "      <td>14.0</td>\n",
       "      <td>78.0</td>\n",
       "      <td>28.085500</td>\n",
       "      <td>1687.0</td>\n",
       "      <td>14.0</td>\n",
       "      <td>3.0</td>\n",
       "      <td>111.0</td>\n",
       "      <td>1.90</td>\n",
       "      <td>2.0</td>\n",
       "      <td>2.0</td>\n",
       "      <td>0.0</td>\n",
       "      <td>0.0</td>\n",
       "      <td>4.0</td>\n",
       "      <td>0.0</td>\n",
       "      <td>4.0</td>\n",
       "      <td>0.0</td>\n",
       "      <td>0.0</td>\n",
       "      <td>4.0</td>\n",
       "      <td>20.440000</td>\n",
       "      <td>0.773</td>\n",
       "      <td>0.000000</td>\n",
       "      <td>227.0</td>\n",
       "    </tr>\n",
       "    <tr>\n",
       "      <th>2</th>\n",
       "      <td>246888</td>\n",
       "      <td>25.0</td>\n",
       "      <td>52.0</td>\n",
       "      <td>54.938045</td>\n",
       "      <td>1519.0</td>\n",
       "      <td>7.0</td>\n",
       "      <td>4.0</td>\n",
       "      <td>139.0</td>\n",
       "      <td>1.55</td>\n",
       "      <td>2.0</td>\n",
       "      <td>0.0</td>\n",
       "      <td>5.0</td>\n",
       "      <td>0.0</td>\n",
       "      <td>7.0</td>\n",
       "      <td>0.0</td>\n",
       "      <td>0.0</td>\n",
       "      <td>5.0</td>\n",
       "      <td>0.0</td>\n",
       "      <td>5.0</td>\n",
       "      <td>10.487586</td>\n",
       "      <td>0.000</td>\n",
       "      <td>0.000310</td>\n",
       "      <td>217.0</td>\n",
       "      <td>25.0</td>\n",
       "      <td>52.0</td>\n",
       "      <td>54.938045</td>\n",
       "      <td>1519.0</td>\n",
       "      <td>7.0</td>\n",
       "      <td>4.0</td>\n",
       "      <td>139.0</td>\n",
       "      <td>1.55</td>\n",
       "      <td>2.0</td>\n",
       "      <td>0.0</td>\n",
       "      <td>5.0</td>\n",
       "      <td>0.0</td>\n",
       "      <td>7.0</td>\n",
       "      <td>0.0</td>\n",
       "      <td>0.0</td>\n",
       "      <td>5.0</td>\n",
       "      <td>0.0</td>\n",
       "      <td>5.0</td>\n",
       "      <td>10.487586</td>\n",
       "      <td>0.000</td>\n",
       "      <td>0.000310</td>\n",
       "      <td>217.0</td>\n",
       "    </tr>\n",
       "    <tr>\n",
       "      <th>3</th>\n",
       "      <td>108587</td>\n",
       "      <td>12.0</td>\n",
       "      <td>68.0</td>\n",
       "      <td>24.305000</td>\n",
       "      <td>923.0</td>\n",
       "      <td>2.0</td>\n",
       "      <td>3.0</td>\n",
       "      <td>141.0</td>\n",
       "      <td>1.31</td>\n",
       "      <td>2.0</td>\n",
       "      <td>0.0</td>\n",
       "      <td>0.0</td>\n",
       "      <td>0.0</td>\n",
       "      <td>2.0</td>\n",
       "      <td>0.0</td>\n",
       "      <td>0.0</td>\n",
       "      <td>0.0</td>\n",
       "      <td>0.0</td>\n",
       "      <td>0.0</td>\n",
       "      <td>22.890000</td>\n",
       "      <td>0.000</td>\n",
       "      <td>0.000000</td>\n",
       "      <td>194.0</td>\n",
       "      <td>12.0</td>\n",
       "      <td>68.0</td>\n",
       "      <td>24.305000</td>\n",
       "      <td>923.0</td>\n",
       "      <td>2.0</td>\n",
       "      <td>3.0</td>\n",
       "      <td>141.0</td>\n",
       "      <td>1.31</td>\n",
       "      <td>2.0</td>\n",
       "      <td>0.0</td>\n",
       "      <td>0.0</td>\n",
       "      <td>0.0</td>\n",
       "      <td>2.0</td>\n",
       "      <td>0.0</td>\n",
       "      <td>0.0</td>\n",
       "      <td>0.0</td>\n",
       "      <td>0.0</td>\n",
       "      <td>0.0</td>\n",
       "      <td>22.890000</td>\n",
       "      <td>0.000</td>\n",
       "      <td>0.000000</td>\n",
       "      <td>194.0</td>\n",
       "    </tr>\n",
       "    <tr>\n",
       "      <th>4</th>\n",
       "      <td>89278</td>\n",
       "      <td>14.0</td>\n",
       "      <td>78.0</td>\n",
       "      <td>28.085500</td>\n",
       "      <td>1687.0</td>\n",
       "      <td>14.0</td>\n",
       "      <td>3.0</td>\n",
       "      <td>111.0</td>\n",
       "      <td>1.90</td>\n",
       "      <td>2.0</td>\n",
       "      <td>2.0</td>\n",
       "      <td>0.0</td>\n",
       "      <td>0.0</td>\n",
       "      <td>4.0</td>\n",
       "      <td>0.0</td>\n",
       "      <td>4.0</td>\n",
       "      <td>0.0</td>\n",
       "      <td>0.0</td>\n",
       "      <td>4.0</td>\n",
       "      <td>20.440000</td>\n",
       "      <td>0.773</td>\n",
       "      <td>0.000000</td>\n",
       "      <td>227.0</td>\n",
       "      <td>14.0</td>\n",
       "      <td>78.0</td>\n",
       "      <td>28.085500</td>\n",
       "      <td>1687.0</td>\n",
       "      <td>14.0</td>\n",
       "      <td>3.0</td>\n",
       "      <td>111.0</td>\n",
       "      <td>1.90</td>\n",
       "      <td>2.0</td>\n",
       "      <td>2.0</td>\n",
       "      <td>0.0</td>\n",
       "      <td>0.0</td>\n",
       "      <td>4.0</td>\n",
       "      <td>0.0</td>\n",
       "      <td>4.0</td>\n",
       "      <td>0.0</td>\n",
       "      <td>0.0</td>\n",
       "      <td>4.0</td>\n",
       "      <td>20.440000</td>\n",
       "      <td>0.773</td>\n",
       "      <td>0.000000</td>\n",
       "      <td>227.0</td>\n",
       "    </tr>\n",
       "  </tbody>\n",
       "</table>\n",
       "</div>"
      ],
      "text/plain": [
       "   Collection_Code  e1_Number  e1_MendeleevNumber  e1_AtomicWeight  \\\n",
       "0           159910       22.0                43.0        47.867000   \n",
       "1           180903       14.0                78.0        28.085500   \n",
       "2           246888       25.0                52.0        54.938045   \n",
       "3           108587       12.0                68.0        24.305000   \n",
       "4            89278       14.0                78.0        28.085500   \n",
       "\n",
       "   e1_MeltingT  e1_Column  e1_Row  e1_CovalentRadius  e1_Electronegativity  \\\n",
       "0       1941.0        4.0     4.0              160.0                  1.54   \n",
       "1       1687.0       14.0     3.0              111.0                  1.90   \n",
       "2       1519.0        7.0     4.0              139.0                  1.55   \n",
       "3        923.0        2.0     3.0              141.0                  1.31   \n",
       "4       1687.0       14.0     3.0              111.0                  1.90   \n",
       "\n",
       "   e1_NsValence  e1_NpValence  e1_NdValence  e1_NfValence  e1_NValence  \\\n",
       "0           2.0           0.0           2.0           0.0          4.0   \n",
       "1           2.0           2.0           0.0           0.0          4.0   \n",
       "2           2.0           0.0           5.0           0.0          7.0   \n",
       "3           2.0           0.0           0.0           0.0          2.0   \n",
       "4           2.0           2.0           0.0           0.0          4.0   \n",
       "\n",
       "   e1_NsUnfilled  e1_NpUnfilled  e1_NdUnfilled  e1_NfUnfilled  e1_NUnfilled  \\\n",
       "0            0.0            0.0            8.0            0.0           8.0   \n",
       "1            0.0            4.0            0.0            0.0           4.0   \n",
       "2            0.0            0.0            5.0            0.0           5.0   \n",
       "3            0.0            0.0            0.0            0.0           0.0   \n",
       "4            0.0            4.0            0.0            0.0           4.0   \n",
       "\n",
       "   e1_GSvolume_pa  e1_GSbandgap  e1_GSmagmom  e1_SpaceGroupNumber  e2_Number  \\\n",
       "0       16.690000         0.000     0.000023                194.0       22.0   \n",
       "1       20.440000         0.773     0.000000                227.0       14.0   \n",
       "2       10.487586         0.000     0.000310                217.0       25.0   \n",
       "3       22.890000         0.000     0.000000                194.0       12.0   \n",
       "4       20.440000         0.773     0.000000                227.0       14.0   \n",
       "\n",
       "   e2_MendeleevNumber  e2_AtomicWeight  e2_MeltingT  e2_Column  e2_Row  \\\n",
       "0                43.0        47.867000       1941.0        4.0     4.0   \n",
       "1                78.0        28.085500       1687.0       14.0     3.0   \n",
       "2                52.0        54.938045       1519.0        7.0     4.0   \n",
       "3                68.0        24.305000        923.0        2.0     3.0   \n",
       "4                78.0        28.085500       1687.0       14.0     3.0   \n",
       "\n",
       "   e2_CovalentRadius  e2_Electronegativity  e2_NsValence  e2_NpValence  \\\n",
       "0              160.0                  1.54           2.0           0.0   \n",
       "1              111.0                  1.90           2.0           2.0   \n",
       "2              139.0                  1.55           2.0           0.0   \n",
       "3              141.0                  1.31           2.0           0.0   \n",
       "4              111.0                  1.90           2.0           2.0   \n",
       "\n",
       "   e2_NdValence  e2_NfValence  e2_NValence  e2_NsUnfilled  e2_NpUnfilled  \\\n",
       "0           2.0           0.0          4.0            0.0            0.0   \n",
       "1           0.0           0.0          4.0            0.0            4.0   \n",
       "2           5.0           0.0          7.0            0.0            0.0   \n",
       "3           0.0           0.0          2.0            0.0            0.0   \n",
       "4           0.0           0.0          4.0            0.0            4.0   \n",
       "\n",
       "   e2_NdUnfilled  e2_NfUnfilled  e2_NUnfilled  e2_GSvolume_pa  e2_GSbandgap  \\\n",
       "0            8.0            0.0           8.0       16.690000         0.000   \n",
       "1            0.0            0.0           4.0       20.440000         0.773   \n",
       "2            5.0            0.0           5.0       10.487586         0.000   \n",
       "3            0.0            0.0           0.0       22.890000         0.000   \n",
       "4            0.0            0.0           4.0       20.440000         0.773   \n",
       "\n",
       "   e2_GSmagmom  e2_SpaceGroupNumber  \n",
       "0     0.000023                194.0  \n",
       "1     0.000000                227.0  \n",
       "2     0.000310                217.0  \n",
       "3     0.000000                194.0  \n",
       "4     0.000000                227.0  "
      ]
     },
     "execution_count": 52,
     "metadata": {},
     "output_type": "execute_result"
    }
   ],
   "source": [
    "#Turn into DF\n",
    "prototype_df = pd.read_csv(data_path)\n",
    "label_df = pd.read_csv(label_path)\n",
    "\n",
    "#Drop formula column\n",
    "prototype_df = prototype_df.drop(columns='Formula')\n",
    "prototype_df.head()"
   ]
  },
  {
   "cell_type": "code",
   "execution_count": 53,
   "metadata": {},
   "outputs": [
    {
     "data": {
      "text/html": [
       "<div>\n",
       "<style scoped>\n",
       "    .dataframe tbody tr th:only-of-type {\n",
       "        vertical-align: middle;\n",
       "    }\n",
       "\n",
       "    .dataframe tbody tr th {\n",
       "        vertical-align: top;\n",
       "    }\n",
       "\n",
       "    .dataframe thead th {\n",
       "        text-align: right;\n",
       "    }\n",
       "</style>\n",
       "<table border=\"1\" class=\"dataframe\">\n",
       "  <thead>\n",
       "    <tr style=\"text-align: right;\">\n",
       "      <th></th>\n",
       "      <th>Prototype</th>\n",
       "      <th>numeric_label</th>\n",
       "    </tr>\n",
       "  </thead>\n",
       "  <tbody>\n",
       "    <tr>\n",
       "      <th>0</th>\n",
       "      <td>Anatase#TiO2</td>\n",
       "      <td>18</td>\n",
       "    </tr>\n",
       "    <tr>\n",
       "      <th>1</th>\n",
       "      <td>Cristobalite#SiO2</td>\n",
       "      <td>114</td>\n",
       "    </tr>\n",
       "    <tr>\n",
       "      <th>2</th>\n",
       "      <td>Rutile#TiO2</td>\n",
       "      <td>298</td>\n",
       "    </tr>\n",
       "    <tr>\n",
       "      <th>3</th>\n",
       "      <td>Laves(2H)#MgZn2</td>\n",
       "      <td>201</td>\n",
       "    </tr>\n",
       "    <tr>\n",
       "      <th>4</th>\n",
       "      <td>Quartz(low)#SiO2</td>\n",
       "      <td>287</td>\n",
       "    </tr>\n",
       "  </tbody>\n",
       "</table>\n",
       "</div>"
      ],
      "text/plain": [
       "           Prototype  numeric_label\n",
       "0       Anatase#TiO2             18\n",
       "1  Cristobalite#SiO2            114\n",
       "2        Rutile#TiO2            298\n",
       "3    Laves(2H)#MgZn2            201\n",
       "4   Quartz(low)#SiO2            287"
      ]
     },
     "execution_count": 53,
     "metadata": {},
     "output_type": "execute_result"
    }
   ],
   "source": [
    "#Dataframe convert label into categorical variable for classification\n",
    "#Then convert labels into numpy array\n",
    "label_name = 'Prototype'\n",
    "label_df[label_name]= pd.Categorical(label_df[label_name])\n",
    "label_df['numeric_label'] = label_df[label_name].cat.codes\n",
    "\n",
    "#Convert numerical dataframe column to array\n",
    "labels = label_df['numeric_label'].to_numpy()\n",
    "\n",
    "label_df.head()\n"
   ]
  },
  {
   "cell_type": "code",
   "execution_count": 54,
   "metadata": {},
   "outputs": [],
   "source": [
    "#Convert features to numpy\n",
    "#Also define feature names for symbolic regression\n",
    "\n",
    "features = prototype_df.to_numpy()\n",
    "feature_names = list(prototype_df.columns)"
   ]
  },
  {
   "cell_type": "code",
   "execution_count": 55,
   "metadata": {},
   "outputs": [
    {
     "name": "stderr",
     "output_type": "stream",
     "text": [
      "/var/folders/gs/2vxzz2sn2xb79y3v1l6mtp0r0000gn/T/ipykernel_78612/3790179312.py:6: FutureWarning: The behavior of `series[i:j]` with an integer-dtype index is deprecated. In a future version, this will be treated as *label-based* indexing, consistent with e.g. `series[i]` lookups. To retain the old behavior, use `series.iloc[i:j]`. To get the future behavior, use `series.loc[i:j]`.\n",
      "  label_counts[:5]\n"
     ]
    },
    {
     "data": {
      "text/plain": [
       "203    1532\n",
       "151     507\n",
       "201     475\n",
       "298     467\n",
       "13      368\n",
       "Name: numeric_label, dtype: int64"
      ]
     },
     "execution_count": 55,
     "metadata": {},
     "output_type": "execute_result"
    }
   ],
   "source": [
    "#Find class frequencies\n",
    "label_counts = label_df['numeric_label'].value_counts()\n",
    "#See pandas categorical mapping\n",
    "label_dict = dict(enumerate(label_df['Prototype'].cat.categories))\n",
    "\n",
    "label_counts[:5]\n",
    "\n",
    "\n"
   ]
  },
  {
   "cell_type": "code",
   "execution_count": 56,
   "metadata": {},
   "outputs": [],
   "source": [
    "#Define most class id of interest and relabel\n",
    "id_ofinterest = 203\n",
    "\n",
    "labels_1vsall = multiclass_to_binary(labels, most_common_id=203)"
   ]
  },
  {
   "attachments": {},
   "cell_type": "markdown",
   "metadata": {},
   "source": [
    "## Applying Symbolic Regression\n"
   ]
  },
  {
   "cell_type": "code",
   "execution_count": 85,
   "metadata": {},
   "outputs": [],
   "source": [
    "#Set rng seed and permutation of data examples for training\n",
    "rng = check_random_state(5)\n",
    "\n",
    "#Check number of dominant class examples\n",
    "n_positive_class = np.sum(labels_1vsall)\n",
    "#Dominant class boolean index\n",
    "positive_class_mask = labels_1vsall==1\n",
    "\n",
    "#Dominant class indexing to grab for training/test set (we want 50/50 representation)\n",
    "SR_features_train = features[positive_class_mask,:]\n",
    "SR_target_train = labels_1vsall[positive_class_mask]\n",
    "\n",
    "#Grabbing all negative examples of which we're going to grab a number equal to the number of dominant class\n",
    "SR_negative_train = features[~positive_class_mask,:]\n",
    "SR_negative_target = labels_1vsall[~positive_class_mask]\n",
    "\n",
    "#Apply subsampling. We grab a random subset from the negative set of the same size as the positive examples\n",
    "subsample_idx = rng.permutation(SR_negative_target.size)[:n_positive_class]\n",
    "\n",
    "#Concatenate an equal amount of negative training data to the list of positive training data so we have 50/50 class representation\n",
    "SR_features = np.concatenate((SR_features_train, SR_negative_train[subsample_idx,:]),axis=0)\n",
    "SR_targets = np.concatenate((SR_target_train, SR_negative_target[subsample_idx]), axis=0)\n"
   ]
  },
  {
   "cell_type": "code",
   "execution_count": 88,
   "metadata": {},
   "outputs": [],
   "source": [
    "#Generate 20-80 splits (we're going to just use one of these for the initial pass)\n",
    "\n",
    "#The test/train split percentage is 1/n_splits : (n_splits-1) / n_splits\n",
    "#E.g. for n_splits = 5, test/train split percentage is 20:80\n",
    "skf = StratifiedKFold(n_splits=5) \n",
    "splits = skf.split(SR_features,SR_targets)"
   ]
  },
  {
   "cell_type": "code",
   "execution_count": 89,
   "metadata": {},
   "outputs": [],
   "source": [
    "#Use first generator output for train/test splits\n",
    "#Assign these indices as variables\n",
    "(SR_train_idx, SR_test_idx) = next(splits)"
   ]
  },
  {
   "cell_type": "code",
   "execution_count": 90,
   "metadata": {},
   "outputs": [],
   "source": [
    "#Defining train test splits using train/test indices\n",
    "SR_features_train = SR_features[SR_train_idx]\n",
    "SR_target_train = SR_targets[SR_train_idx]\n",
    "\n",
    "SR_features_test = SR_features[SR_test_idx]\n",
    "SR_target_test = SR_targets[SR_test_idx]\n"
   ]
  },
  {
   "cell_type": "code",
   "execution_count": 91,
   "metadata": {},
   "outputs": [
    {
     "data": {
      "text/html": [
       "<style>#sk-container-id-3 {color: black;background-color: white;}#sk-container-id-3 pre{padding: 0;}#sk-container-id-3 div.sk-toggleable {background-color: white;}#sk-container-id-3 label.sk-toggleable__label {cursor: pointer;display: block;width: 100%;margin-bottom: 0;padding: 0.3em;box-sizing: border-box;text-align: center;}#sk-container-id-3 label.sk-toggleable__label-arrow:before {content: \"▸\";float: left;margin-right: 0.25em;color: #696969;}#sk-container-id-3 label.sk-toggleable__label-arrow:hover:before {color: black;}#sk-container-id-3 div.sk-estimator:hover label.sk-toggleable__label-arrow:before {color: black;}#sk-container-id-3 div.sk-toggleable__content {max-height: 0;max-width: 0;overflow: hidden;text-align: left;background-color: #f0f8ff;}#sk-container-id-3 div.sk-toggleable__content pre {margin: 0.2em;color: black;border-radius: 0.25em;background-color: #f0f8ff;}#sk-container-id-3 input.sk-toggleable__control:checked~div.sk-toggleable__content {max-height: 200px;max-width: 100%;overflow: auto;}#sk-container-id-3 input.sk-toggleable__control:checked~label.sk-toggleable__label-arrow:before {content: \"▾\";}#sk-container-id-3 div.sk-estimator input.sk-toggleable__control:checked~label.sk-toggleable__label {background-color: #d4ebff;}#sk-container-id-3 div.sk-label input.sk-toggleable__control:checked~label.sk-toggleable__label {background-color: #d4ebff;}#sk-container-id-3 input.sk-hidden--visually {border: 0;clip: rect(1px 1px 1px 1px);clip: rect(1px, 1px, 1px, 1px);height: 1px;margin: -1px;overflow: hidden;padding: 0;position: absolute;width: 1px;}#sk-container-id-3 div.sk-estimator {font-family: monospace;background-color: #f0f8ff;border: 1px dotted black;border-radius: 0.25em;box-sizing: border-box;margin-bottom: 0.5em;}#sk-container-id-3 div.sk-estimator:hover {background-color: #d4ebff;}#sk-container-id-3 div.sk-parallel-item::after {content: \"\";width: 100%;border-bottom: 1px solid gray;flex-grow: 1;}#sk-container-id-3 div.sk-label:hover label.sk-toggleable__label {background-color: #d4ebff;}#sk-container-id-3 div.sk-serial::before {content: \"\";position: absolute;border-left: 1px solid gray;box-sizing: border-box;top: 0;bottom: 0;left: 50%;z-index: 0;}#sk-container-id-3 div.sk-serial {display: flex;flex-direction: column;align-items: center;background-color: white;padding-right: 0.2em;padding-left: 0.2em;position: relative;}#sk-container-id-3 div.sk-item {position: relative;z-index: 1;}#sk-container-id-3 div.sk-parallel {display: flex;align-items: stretch;justify-content: center;background-color: white;position: relative;}#sk-container-id-3 div.sk-item::before, #sk-container-id-3 div.sk-parallel-item::before {content: \"\";position: absolute;border-left: 1px solid gray;box-sizing: border-box;top: 0;bottom: 0;left: 50%;z-index: -1;}#sk-container-id-3 div.sk-parallel-item {display: flex;flex-direction: column;z-index: 1;position: relative;background-color: white;}#sk-container-id-3 div.sk-parallel-item:first-child::after {align-self: flex-end;width: 50%;}#sk-container-id-3 div.sk-parallel-item:last-child::after {align-self: flex-start;width: 50%;}#sk-container-id-3 div.sk-parallel-item:only-child::after {width: 0;}#sk-container-id-3 div.sk-dashed-wrapped {border: 1px dashed gray;margin: 0 0.4em 0.5em 0.4em;box-sizing: border-box;padding-bottom: 0.4em;background-color: white;}#sk-container-id-3 div.sk-label label {font-family: monospace;font-weight: bold;display: inline-block;line-height: 1.2em;}#sk-container-id-3 div.sk-label-container {text-align: center;}#sk-container-id-3 div.sk-container {/* jupyter's `normalize.less` sets `[hidden] { display: none; }` but bootstrap.min.css set `[hidden] { display: none !important; }` so we also need the `!important` here to be able to override the default hidden behavior on the sphinx rendered scikit-learn.org. See: https://github.com/scikit-learn/scikit-learn/issues/21755 */display: inline-block !important;position: relative;}#sk-container-id-3 div.sk-text-repr-fallback {display: none;}</style><div id=\"sk-container-id-3\" class=\"sk-top-container\"><div class=\"sk-text-repr-fallback\"><pre>div(sub(sub(sub(div(e2_Row, e1_Electronegativity), e2_Column), e1_NsUnfilled), e1_GSbandgap), div(e2_Row, e1_Electronegativity))</pre><b>In a Jupyter environment, please rerun this cell to show the HTML representation or trust the notebook. <br />On GitHub, the HTML representation is unable to render, please try loading this page with nbviewer.org.</b></div><div class=\"sk-container\" hidden><div class=\"sk-item\"><div class=\"sk-estimator sk-toggleable\"><input class=\"sk-toggleable__control sk-hidden--visually\" id=\"sk-estimator-id-3\" type=\"checkbox\" checked><label for=\"sk-estimator-id-3\" class=\"sk-toggleable__label sk-toggleable__label-arrow\">SymbolicClassifier</label><div class=\"sk-toggleable__content\"><pre>div(sub(sub(sub(div(e2_Row, e1_Electronegativity), e2_Column), e1_NsUnfilled), e1_GSbandgap), div(e2_Row, e1_Electronegativity))</pre></div></div></div></div></div>"
      ],
      "text/plain": [
       "SymbolicClassifier(feature_names=['Collection_Code', 'e1_Number',\n",
       "                                  'e1_MendeleevNumber', 'e1_AtomicWeight',\n",
       "                                  'e1_MeltingT', 'e1_Column', 'e1_Row',\n",
       "                                  'e1_CovalentRadius', 'e1_Electronegativity',\n",
       "                                  'e1_NsValence', 'e1_NpValence',\n",
       "                                  'e1_NdValence', 'e1_NfValence', 'e1_NValence',\n",
       "                                  'e1_NsUnfilled', 'e1_NpUnfilled',\n",
       "                                  'e1_NdUnfilled', 'e1_NfUnfilled',\n",
       "                                  'e1_NUnfilled', 'e1_GSvolume_pa',\n",
       "                                  'e1_GSbandgap', 'e1_GSmagmom',\n",
       "                                  'e1_SpaceGroupNumber', 'e2_Number',\n",
       "                                  'e2_MendeleevNumber', 'e2_AtomicWeight',\n",
       "                                  'e2_MeltingT', 'e2_Column', 'e2_Row',\n",
       "                                  'e2_CovalentRadius', ...],\n",
       "                   generations=10, p_crossover=0.85, p_hoist_mutation=0.1,\n",
       "                   random_state=1)"
      ]
     },
     "execution_count": 91,
     "metadata": {},
     "output_type": "execute_result"
    }
   ],
   "source": [
    "#Run Classifier\n",
    "SR_classifier = SymbolicClassifier(population_size = 1000, generations=10,\n",
    "                         tournament_size = 20,\n",
    "                         parsimony_coefficient=0.001,\n",
    "                         p_crossover = 0.85,\n",
    "                         p_subtree_mutation = 0.01,\n",
    "                         p_point_mutation = 0.01,\n",
    "                         p_hoist_mutation = 0.1,\n",
    "                         feature_names=feature_names,\n",
    "\t\t\t\t\t\t random_state=1)\n",
    "\n",
    "SR_classifier.fit(SR_features_train, SR_target_train)"
   ]
  },
  {
   "cell_type": "code",
   "execution_count": 92,
   "metadata": {},
   "outputs": [
    {
     "data": {
      "image/png": "[encoded data removed]",
      "text/plain": [
       "<Figure size 640x480 with 1 Axes>"
      ]
     },
     "metadata": {},
     "output_type": "display_data"
    }
   ],
   "source": [
    "#Display prettified expression\n",
    "prettify(SR_classifier)"
   ]
  },
  {
   "cell_type": "code",
   "execution_count": 63,
   "metadata": {},
   "outputs": [
    {
     "data": {
      "image/svg+xml": "<?xml version=\"1.0\" encoding=\"UTF-8\" standalone=\"no\"?>\n<!DOCTYPE svg PUBLIC \"-//W3C//DTD SVG 1.1//EN\"\n \"http://www.w3.org/Graphics/SVG/1.1/DTD/svg11.dtd\">\n<!-- Generated by graphviz version 7.0.6 (20230106.0513)\n -->\n<!-- Title: program Pages: 1 -->\n<svg width=\"269pt\" height=\"188pt\"\n viewBox=\"0.00 0.00 269.44 188.00\" xmlns=\"http://www.w3.org/2000/svg\" xmlns:xlink=\"http://www.w3.org/1999/xlink\">\n<g id=\"graph0\" class=\"graph\" transform=\"scale(1 1) rotate(0) translate(4 184)\">\n<title>program</title>\n<polygon fill=\"white\" stroke=\"none\" points=\"-4,4 -4,-184 265.44,-184 265.44,4 -4,4\"/>\n<!-- 0 -->\n<g id=\"node1\" class=\"node\">\n<title>0</title>\n<ellipse fill=\"#136ed4\" stroke=\"black\" cx=\"150.3\" cy=\"-162\" rx=\"27\" ry=\"18\"/>\n<text text-anchor=\"middle\" x=\"150.3\" y=\"-158.3\" font-family=\"Times,serif\" font-size=\"14.00\">add</text>\n</g>\n<!-- 1 -->\n<g id=\"node2\" class=\"node\">\n<title>1</title>\n<ellipse fill=\"#136ed4\" stroke=\"black\" cx=\"98.3\" cy=\"-90\" rx=\"27\" ry=\"18\"/>\n<text text-anchor=\"middle\" x=\"98.3\" y=\"-86.3\" font-family=\"Times,serif\" font-size=\"14.00\">add</text>\n</g>\n<!-- 0&#45;&gt;1 -->\n<g id=\"edge4\" class=\"edge\">\n<title>0&#45;&gt;1</title>\n<path fill=\"none\" stroke=\"black\" d=\"M138.76,-145.46C132.23,-136.67 123.91,-125.48 116.52,-115.53\"/>\n<polygon fill=\"black\" stroke=\"black\" points=\"119.48,-113.65 110.71,-107.71 113.86,-117.82 119.48,-113.65\"/>\n</g>\n<!-- 4 -->\n<g id=\"node5\" class=\"node\">\n<title>4</title>\n<ellipse fill=\"#60a6f6\" stroke=\"black\" cx=\"202.3\" cy=\"-90\" rx=\"59.29\" ry=\"18\"/>\n<text text-anchor=\"middle\" x=\"202.3\" y=\"-86.3\" font-family=\"Times,serif\" font-size=\"14.00\">e1_NUnfilled</text>\n</g>\n<!-- 0&#45;&gt;4 -->\n<g id=\"edge3\" class=\"edge\">\n<title>0&#45;&gt;4</title>\n<path fill=\"none\" stroke=\"black\" d=\"M161.84,-145.46C168.03,-137.13 175.83,-126.63 182.92,-117.08\"/>\n<polygon fill=\"black\" stroke=\"black\" points=\"185.64,-119.29 188.79,-109.18 180.02,-115.12 185.64,-119.29\"/>\n</g>\n<!-- 2 -->\n<g id=\"node3\" class=\"node\">\n<title>2</title>\n<ellipse fill=\"#60a6f6\" stroke=\"black\" cx=\"40.3\" cy=\"-18\" rx=\"40.09\" ry=\"18\"/>\n<text text-anchor=\"middle\" x=\"40.3\" y=\"-14.3\" font-family=\"Times,serif\" font-size=\"14.00\">e1_Row</text>\n</g>\n<!-- 1&#45;&gt;2 -->\n<g id=\"edge2\" class=\"edge\">\n<title>1&#45;&gt;2</title>\n<path fill=\"none\" stroke=\"black\" d=\"M85.71,-73.81C78.47,-65.07 69.18,-53.87 60.9,-43.87\"/>\n<polygon fill=\"black\" stroke=\"black\" points=\"63.71,-41.77 54.63,-36.3 58.32,-46.23 63.71,-41.77\"/>\n</g>\n<!-- 3 -->\n<g id=\"node4\" class=\"node\">\n<title>3</title>\n<ellipse fill=\"#60a6f6\" stroke=\"black\" cx=\"157.3\" cy=\"-18\" rx=\"59.29\" ry=\"18\"/>\n<text text-anchor=\"middle\" x=\"157.3\" y=\"-14.3\" font-family=\"Times,serif\" font-size=\"14.00\">e1_NUnfilled</text>\n</g>\n<!-- 1&#45;&gt;3 -->\n<g id=\"edge1\" class=\"edge\">\n<title>1&#45;&gt;3</title>\n<path fill=\"none\" stroke=\"black\" d=\"M111.1,-73.81C118.36,-65.19 127.64,-54.18 135.98,-44.29\"/>\n<polygon fill=\"black\" stroke=\"black\" points=\"138.54,-46.69 142.31,-36.79 133.19,-42.18 138.54,-46.69\"/>\n</g>\n</g>\n</svg>\n",
      "text/plain": [
       "<graphviz.sources.Source at 0x2a838af20>"
      ]
     },
     "execution_count": 63,
     "metadata": {},
     "output_type": "execute_result"
    }
   ],
   "source": [
    "#Visualize as graph\n",
    "\n",
    "dot_data = SR_classifier._program.export_graphviz()\n",
    "graph = graphviz.Source(dot_data)\n",
    "graph.render('images/ex4_tree', format='png', cleanup=True)\n",
    "graph"
   ]
  },
  {
   "cell_type": "code",
   "execution_count": 93,
   "metadata": {},
   "outputs": [
    {
     "data": {
      "text/plain": [
       "0.7553017944535073"
      ]
     },
     "execution_count": 93,
     "metadata": {},
     "output_type": "execute_result"
    }
   ],
   "source": [
    "SR_classifier.score(SR_features_test, SR_target_test)\n"
   ]
  },
  {
   "attachments": {},
   "cell_type": "markdown",
   "metadata": {},
   "source": [
    "## Random Forest Benchmark"
   ]
  },
  {
   "cell_type": "code",
   "execution_count": 94,
   "metadata": {},
   "outputs": [],
   "source": [
    "from sklearn.ensemble import RandomForestClassifier\n",
    "from sklearn.model_selection import cross_val_score\n",
    "from sklearn.model_selection import StratifiedKFold"
   ]
  },
  {
   "cell_type": "code",
   "execution_count": 95,
   "metadata": {},
   "outputs": [
    {
     "data": {
      "text/html": [
       "<style>#sk-container-id-4 {color: black;background-color: white;}#sk-container-id-4 pre{padding: 0;}#sk-container-id-4 div.sk-toggleable {background-color: white;}#sk-container-id-4 label.sk-toggleable__label {cursor: pointer;display: block;width: 100%;margin-bottom: 0;padding: 0.3em;box-sizing: border-box;text-align: center;}#sk-container-id-4 label.sk-toggleable__label-arrow:before {content: \"▸\";float: left;margin-right: 0.25em;color: #696969;}#sk-container-id-4 label.sk-toggleable__label-arrow:hover:before {color: black;}#sk-container-id-4 div.sk-estimator:hover label.sk-toggleable__label-arrow:before {color: black;}#sk-container-id-4 div.sk-toggleable__content {max-height: 0;max-width: 0;overflow: hidden;text-align: left;background-color: #f0f8ff;}#sk-container-id-4 div.sk-toggleable__content pre {margin: 0.2em;color: black;border-radius: 0.25em;background-color: #f0f8ff;}#sk-container-id-4 input.sk-toggleable__control:checked~div.sk-toggleable__content {max-height: 200px;max-width: 100%;overflow: auto;}#sk-container-id-4 input.sk-toggleable__control:checked~label.sk-toggleable__label-arrow:before {content: \"▾\";}#sk-container-id-4 div.sk-estimator input.sk-toggleable__control:checked~label.sk-toggleable__label {background-color: #d4ebff;}#sk-container-id-4 div.sk-label input.sk-toggleable__control:checked~label.sk-toggleable__label {background-color: #d4ebff;}#sk-container-id-4 input.sk-hidden--visually {border: 0;clip: rect(1px 1px 1px 1px);clip: rect(1px, 1px, 1px, 1px);height: 1px;margin: -1px;overflow: hidden;padding: 0;position: absolute;width: 1px;}#sk-container-id-4 div.sk-estimator {font-family: monospace;background-color: #f0f8ff;border: 1px dotted black;border-radius: 0.25em;box-sizing: border-box;margin-bottom: 0.5em;}#sk-container-id-4 div.sk-estimator:hover {background-color: #d4ebff;}#sk-container-id-4 div.sk-parallel-item::after {content: \"\";width: 100%;border-bottom: 1px solid gray;flex-grow: 1;}#sk-container-id-4 div.sk-label:hover label.sk-toggleable__label {background-color: #d4ebff;}#sk-container-id-4 div.sk-serial::before {content: \"\";position: absolute;border-left: 1px solid gray;box-sizing: border-box;top: 0;bottom: 0;left: 50%;z-index: 0;}#sk-container-id-4 div.sk-serial {display: flex;flex-direction: column;align-items: center;background-color: white;padding-right: 0.2em;padding-left: 0.2em;position: relative;}#sk-container-id-4 div.sk-item {position: relative;z-index: 1;}#sk-container-id-4 div.sk-parallel {display: flex;align-items: stretch;justify-content: center;background-color: white;position: relative;}#sk-container-id-4 div.sk-item::before, #sk-container-id-4 div.sk-parallel-item::before {content: \"\";position: absolute;border-left: 1px solid gray;box-sizing: border-box;top: 0;bottom: 0;left: 50%;z-index: -1;}#sk-container-id-4 div.sk-parallel-item {display: flex;flex-direction: column;z-index: 1;position: relative;background-color: white;}#sk-container-id-4 div.sk-parallel-item:first-child::after {align-self: flex-end;width: 50%;}#sk-container-id-4 div.sk-parallel-item:last-child::after {align-self: flex-start;width: 50%;}#sk-container-id-4 div.sk-parallel-item:only-child::after {width: 0;}#sk-container-id-4 div.sk-dashed-wrapped {border: 1px dashed gray;margin: 0 0.4em 0.5em 0.4em;box-sizing: border-box;padding-bottom: 0.4em;background-color: white;}#sk-container-id-4 div.sk-label label {font-family: monospace;font-weight: bold;display: inline-block;line-height: 1.2em;}#sk-container-id-4 div.sk-label-container {text-align: center;}#sk-container-id-4 div.sk-container {/* jupyter's `normalize.less` sets `[hidden] { display: none; }` but bootstrap.min.css set `[hidden] { display: none !important; }` so we also need the `!important` here to be able to override the default hidden behavior on the sphinx rendered scikit-learn.org. See: https://github.com/scikit-learn/scikit-learn/issues/21755 */display: inline-block !important;position: relative;}#sk-container-id-4 div.sk-text-repr-fallback {display: none;}</style><div id=\"sk-container-id-4\" class=\"sk-top-container\"><div class=\"sk-text-repr-fallback\"><pre>RandomForestClassifier(max_depth=5, n_estimators=10)</pre><b>In a Jupyter environment, please rerun this cell to show the HTML representation or trust the notebook. <br />On GitHub, the HTML representation is unable to render, please try loading this page with nbviewer.org.</b></div><div class=\"sk-container\" hidden><div class=\"sk-item\"><div class=\"sk-estimator sk-toggleable\"><input class=\"sk-toggleable__control sk-hidden--visually\" id=\"sk-estimator-id-4\" type=\"checkbox\" checked><label for=\"sk-estimator-id-4\" class=\"sk-toggleable__label sk-toggleable__label-arrow\">RandomForestClassifier</label><div class=\"sk-toggleable__content\"><pre>RandomForestClassifier(max_depth=5, n_estimators=10)</pre></div></div></div></div></div>"
      ],
      "text/plain": [
       "RandomForestClassifier(max_depth=5, n_estimators=10)"
      ]
     },
     "execution_count": 95,
     "metadata": {},
     "output_type": "execute_result"
    }
   ],
   "source": [
    "#Naive random forest\n",
    "naive_rf = RandomForestClassifier(max_depth=5, n_estimators=10)\n",
    "naive_rf.fit(SR_features_train,SR_target_train)\n",
    "\n"
   ]
  },
  {
   "cell_type": "code",
   "execution_count": 96,
   "metadata": {},
   "outputs": [
    {
     "name": "stdout",
     "output_type": "stream",
     "text": [
      "Fold: 0\n",
      "Test: 0.8564437194127243\n",
      "Fold: 1\n",
      "Test: 0.8515497553017944\n",
      "Fold: 2\n",
      "Test: 0.8417618270799347\n",
      "Fold: 3\n",
      "Test: 0.8254486133768353\n",
      "Fold: 4\n",
      "Test: 0.8055555555555556\n"
     ]
    }
   ],
   "source": [
    "#Stratified K fold (maintain class balance)\n",
    "\n",
    "skf = StratifiedKFold(n_splits=5)\n",
    "\n",
    "for i, (train_idx, test_idx) in enumerate(skf.split(SR_features,SR_targets)):\n",
    "    train_features_i = features[train_idx]\n",
    "    train_labels_i = labels_1vsall[train_idx]\n",
    "\n",
    "    test_features_i = features[test_idx]\n",
    "    test_labels_i = labels_1vsall[test_idx]\n",
    "\n",
    "    #Fit naive rf model\n",
    "    naive_rf_i = RandomForestClassifier(max_depth=5, n_estimators=10)\n",
    "    naive_rf_i.fit(train_features_i, train_labels_i)\n",
    "\n",
    "    #Fit on k-folded validation set\n",
    "    test_score_i = naive_rf_i.score(test_features_i, test_labels_i)\n",
    "\n",
    "    print(f'Fold: {i}')\n",
    "    print(f'Test: {test_score_i}')\n",
    "\n",
    "\n",
    "\n"
   ]
  },
  {
   "cell_type": "code",
   "execution_count": 340,
   "metadata": {},
   "outputs": [],
   "source": [
    "importances = naive_rf.feature_importances_\n",
    "std = np.std([tree.feature_importances_ for tree in naive_rf.estimators_], axis = 0)\n"
   ]
  },
  {
   "cell_type": "code",
   "execution_count": 341,
   "metadata": {},
   "outputs": [
    {
     "data": {
      "image/png": "[encoded data removed]",
      "text/plain": [
       "<Figure size 640x480 with 1 Axes>"
      ]
     },
     "metadata": {},
     "output_type": "display_data"
    }
   ],
   "source": [
    "#https://scikit-learn.org/stable/auto_examples/ensemble/plot_forest_importances.html\n",
    "\n",
    "forest_importances = pd.Series(importances, index = feature_names)\n",
    "\n",
    "fig, ax = plt.subplots()\n",
    "forest_importances.plot.bar(yerr = std, ax=ax)\n",
    "ax.set_title('Feature Importance MDI')\n",
    "ax.set_ylabel('Mean decrease impurity')\n",
    "fig.tight_layout()\n",
    "\n"
   ]
  },
  {
   "cell_type": "code",
   "execution_count": null,
   "metadata": {},
   "outputs": [],
   "source": [
    "#TRIM THIS TOMORROW BASED ON FI "
   ]
  },
  {
   "attachments": {},
   "cell_type": "markdown",
   "metadata": {},
   "source": [
    "## Cancer DSET (IGNORE THIS IS FOR REFERENCE)\n"
   ]
  },
  {
   "cell_type": "code",
   "execution_count": 193,
   "metadata": {},
   "outputs": [],
   "source": [
    "rng = check_random_state(0)\n",
    "cancer = load_breast_cancer()\n",
    "perm = rng.permutation(cancer.target.size)\n",
    "cancer.data = cancer.data[perm]\n",
    "cancer.target = cancer.target[perm]"
   ]
  },
  {
   "cell_type": "code",
   "execution_count": 194,
   "metadata": {},
   "outputs": [
    {
     "data": {
      "text/plain": [
       "array(['mean radius', 'mean texture', 'mean perimeter', 'mean area',\n",
       "       'mean smoothness', 'mean compactness', 'mean concavity',\n",
       "       'mean concave points', 'mean symmetry', 'mean fractal dimension',\n",
       "       'radius error', 'texture error', 'perimeter error', 'area error',\n",
       "       'smoothness error', 'compactness error', 'concavity error',\n",
       "       'concave points error', 'symmetry error',\n",
       "       'fractal dimension error', 'worst radius', 'worst texture',\n",
       "       'worst perimeter', 'worst area', 'worst smoothness',\n",
       "       'worst compactness', 'worst concavity', 'worst concave points',\n",
       "       'worst symmetry', 'worst fractal dimension'], dtype='<U23')"
      ]
     },
     "execution_count": 194,
     "metadata": {},
     "output_type": "execute_result"
    }
   ],
   "source": [
    "cancer.feature_names\n"
   ]
  },
  {
   "cell_type": "code",
   "execution_count": 12,
   "metadata": {},
   "outputs": [],
   "source": [
    "from sklearn.tree import DecisionTreeClassifier\n",
    "from sklearn.ensemble import RandomForestClassifier, AdaBoostClassifier"
   ]
  },
  {
   "cell_type": "code",
   "execution_count": 109,
   "metadata": {},
   "outputs": [],
   "source": [
    "function_set = ['add', 'sub', 'mul', 'div', 'sqrt',\n",
    "                'abs', 'neg', 'inv', 'max', 'min']"
   ]
  },
  {
   "cell_type": "code",
   "execution_count": 195,
   "metadata": {},
   "outputs": [
    {
     "data": {
      "text/html": [
       "<style>#sk-container-id-24 {color: black;background-color: white;}#sk-container-id-24 pre{padding: 0;}#sk-container-id-24 div.sk-toggleable {background-color: white;}#sk-container-id-24 label.sk-toggleable__label {cursor: pointer;display: block;width: 100%;margin-bottom: 0;padding: 0.3em;box-sizing: border-box;text-align: center;}#sk-container-id-24 label.sk-toggleable__label-arrow:before {content: \"▸\";float: left;margin-right: 0.25em;color: #696969;}#sk-container-id-24 label.sk-toggleable__label-arrow:hover:before {color: black;}#sk-container-id-24 div.sk-estimator:hover label.sk-toggleable__label-arrow:before {color: black;}#sk-container-id-24 div.sk-toggleable__content {max-height: 0;max-width: 0;overflow: hidden;text-align: left;background-color: #f0f8ff;}#sk-container-id-24 div.sk-toggleable__content pre {margin: 0.2em;color: black;border-radius: 0.25em;background-color: #f0f8ff;}#sk-container-id-24 input.sk-toggleable__control:checked~div.sk-toggleable__content {max-height: 200px;max-width: 100%;overflow: auto;}#sk-container-id-24 input.sk-toggleable__control:checked~label.sk-toggleable__label-arrow:before {content: \"▾\";}#sk-container-id-24 div.sk-estimator input.sk-toggleable__control:checked~label.sk-toggleable__label {background-color: #d4ebff;}#sk-container-id-24 div.sk-label input.sk-toggleable__control:checked~label.sk-toggleable__label {background-color: #d4ebff;}#sk-container-id-24 input.sk-hidden--visually {border: 0;clip: rect(1px 1px 1px 1px);clip: rect(1px, 1px, 1px, 1px);height: 1px;margin: -1px;overflow: hidden;padding: 0;position: absolute;width: 1px;}#sk-container-id-24 div.sk-estimator {font-family: monospace;background-color: #f0f8ff;border: 1px dotted black;border-radius: 0.25em;box-sizing: border-box;margin-bottom: 0.5em;}#sk-container-id-24 div.sk-estimator:hover {background-color: #d4ebff;}#sk-container-id-24 div.sk-parallel-item::after {content: \"\";width: 100%;border-bottom: 1px solid gray;flex-grow: 1;}#sk-container-id-24 div.sk-label:hover label.sk-toggleable__label {background-color: #d4ebff;}#sk-container-id-24 div.sk-serial::before {content: \"\";position: absolute;border-left: 1px solid gray;box-sizing: border-box;top: 0;bottom: 0;left: 50%;z-index: 0;}#sk-container-id-24 div.sk-serial {display: flex;flex-direction: column;align-items: center;background-color: white;padding-right: 0.2em;padding-left: 0.2em;position: relative;}#sk-container-id-24 div.sk-item {position: relative;z-index: 1;}#sk-container-id-24 div.sk-parallel {display: flex;align-items: stretch;justify-content: center;background-color: white;position: relative;}#sk-container-id-24 div.sk-item::before, #sk-container-id-24 div.sk-parallel-item::before {content: \"\";position: absolute;border-left: 1px solid gray;box-sizing: border-box;top: 0;bottom: 0;left: 50%;z-index: -1;}#sk-container-id-24 div.sk-parallel-item {display: flex;flex-direction: column;z-index: 1;position: relative;background-color: white;}#sk-container-id-24 div.sk-parallel-item:first-child::after {align-self: flex-end;width: 50%;}#sk-container-id-24 div.sk-parallel-item:last-child::after {align-self: flex-start;width: 50%;}#sk-container-id-24 div.sk-parallel-item:only-child::after {width: 0;}#sk-container-id-24 div.sk-dashed-wrapped {border: 1px dashed gray;margin: 0 0.4em 0.5em 0.4em;box-sizing: border-box;padding-bottom: 0.4em;background-color: white;}#sk-container-id-24 div.sk-label label {font-family: monospace;font-weight: bold;display: inline-block;line-height: 1.2em;}#sk-container-id-24 div.sk-label-container {text-align: center;}#sk-container-id-24 div.sk-container {/* jupyter's `normalize.less` sets `[hidden] { display: none; }` but bootstrap.min.css set `[hidden] { display: none !important; }` so we also need the `!important` here to be able to override the default hidden behavior on the sphinx rendered scikit-learn.org. See: https://github.com/scikit-learn/scikit-learn/issues/21755 */display: inline-block !important;position: relative;}#sk-container-id-24 div.sk-text-repr-fallback {display: none;}</style><div id=\"sk-container-id-24\" class=\"sk-top-container\"><div class=\"sk-text-repr-fallback\"><pre>sub(div(worst fractal dimension, mean concave points), mul(mean concave points, area error))</pre><b>In a Jupyter environment, please rerun this cell to show the HTML representation or trust the notebook. <br />On GitHub, the HTML representation is unable to render, please try loading this page with nbviewer.org.</b></div><div class=\"sk-container\" hidden><div class=\"sk-item\"><div class=\"sk-estimator sk-toggleable\"><input class=\"sk-toggleable__control sk-hidden--visually\" id=\"sk-estimator-id-24\" type=\"checkbox\" checked><label for=\"sk-estimator-id-24\" class=\"sk-toggleable__label sk-toggleable__label-arrow\">SymbolicClassifier</label><div class=\"sk-toggleable__content\"><pre>sub(div(worst fractal dimension, mean concave points), mul(mean concave points, area error))</pre></div></div></div></div></div>"
      ],
      "text/plain": [
       "SymbolicClassifier(feature_names=array(['mean radius', 'mean texture', 'mean perimeter', 'mean area',\n",
       "       'mean smoothness', 'mean compactness', 'mean concavity',\n",
       "       'mean concave points', 'mean symmetry', 'mean fractal dimension',\n",
       "       'radius error', 'texture error', 'perimeter error', 'area error',\n",
       "       'smoothness error', 'compactness error', 'concavity error',\n",
       "       'concave points error', 'symmetry error',\n",
       "       'fractal dimension error', 'worst radius', 'worst texture',\n",
       "       'worst perimeter', 'worst area', 'worst smoothness',\n",
       "       'worst compactness', 'worst concavity', 'worst concave points',\n",
       "       'worst symmetry', 'worst fractal dimension'], dtype='<U23'),\n",
       "                   parsimony_coefficient=0.01, random_state=1)"
      ]
     },
     "execution_count": 195,
     "metadata": {},
     "output_type": "execute_result"
    }
   ],
   "source": [
    "#Defining function set to use in symbolic classification\n",
    "\n",
    "est = SymbolicClassifier(parsimony_coefficient=.01,\n",
    "                         feature_names=cancer.feature_names,\n",
    "                         random_state=1)\n",
    "est.fit(cancer.data[:400], cancer.target[:400])"
   ]
  },
  {
   "cell_type": "code",
   "execution_count": 210,
   "metadata": {},
   "outputs": [],
   "source": []
  },
  {
   "cell_type": "code",
   "execution_count": 217,
   "metadata": {},
   "outputs": [
    {
     "data": {
      "text/latex": [
       "$\\displaystyle a b$"
      ],
      "text/plain": [
       "a*b"
      ]
     },
     "execution_count": 217,
     "metadata": {},
     "output_type": "execute_result"
    }
   ],
   "source": [
    "a = sympify('mul(a,b)', locals=converter)\n",
    "a"
   ]
  },
  {
   "cell_type": "code",
   "execution_count": 205,
   "metadata": {},
   "outputs": [],
   "source": [
    "est.hall_of_fame"
   ]
  },
  {
   "cell_type": "code",
   "execution_count": 111,
   "metadata": {},
   "outputs": [
    {
     "data": {
      "text/plain": [
       "0.9693786982248521"
      ]
     },
     "execution_count": 111,
     "metadata": {},
     "output_type": "execute_result"
    }
   ],
   "source": [
    "y_true = cancer.target[400:]\n",
    "y_score = est.predict_proba(cancer.data[400:])[:,1]\n",
    "roc_auc_score(y_true, y_score)\n",
    "\n"
   ]
  },
  {
   "cell_type": "code",
   "execution_count": 112,
   "metadata": {},
   "outputs": [
    {
     "data": {
      "text/plain": [
       "array([9.87333236e-01, 9.93255872e-01, 8.99437669e-02, 3.04637276e-01,\n",
       "       6.02068985e-01, 9.23997536e-01, 9.87121616e-01, 9.94963460e-01,\n",
       "       9.75590513e-01, 5.37858724e-01, 2.09411395e-02, 1.75012653e-02,\n",
       "       3.02336598e-13, 9.57427501e-01, 5.43537457e-02, 6.09270162e-05,\n",
       "       5.01672128e-01, 9.91639538e-01, 9.67743117e-01, 7.18487645e-01,\n",
       "       9.50344059e-01, 5.96739523e-01, 5.71379721e-02, 9.90992282e-01,\n",
       "       8.24958161e-01, 9.19846544e-01, 4.29071461e-01, 9.98715303e-01,\n",
       "       5.62561330e-01, 2.27917215e-01, 7.23944395e-02, 9.97739994e-01,\n",
       "       3.25215070e-03, 8.58417314e-01, 1.32715182e-06, 9.13530591e-01,\n",
       "       8.88514912e-01, 6.61662375e-01, 9.97139033e-01, 5.72548424e-02,\n",
       "       9.65785159e-01, 1.61758596e-05, 3.86244528e-01, 5.81764241e-04,\n",
       "       9.68138024e-01, 1.00000000e+00, 1.09334878e-08, 1.20111679e-01,\n",
       "       9.99953589e-01, 8.34983648e-01, 3.69815279e-01, 8.96200789e-01,\n",
       "       6.02741066e-01, 7.44641139e-01, 9.99999680e-01, 6.75342556e-01,\n",
       "       9.99940214e-01, 9.44905268e-01, 9.96198907e-01, 8.50183047e-01,\n",
       "       8.68831152e-01, 9.30512548e-01, 9.99998467e-01, 2.22870289e-09,\n",
       "       1.18967712e-02, 4.96975625e-01, 9.86685874e-01, 9.98366762e-01,\n",
       "       1.88710185e-02, 7.31058579e-01, 9.97881343e-01, 9.40879484e-01,\n",
       "       8.33775232e-01, 7.15835055e-04, 9.91944151e-01, 1.79703649e-01,\n",
       "       4.34982198e-01, 5.23589604e-02, 8.00583712e-01, 3.55730988e-10,\n",
       "       9.65409873e-01, 1.19281891e-01, 8.67753281e-01, 1.24330682e-08,\n",
       "       2.62623528e-40, 9.13648570e-01, 8.89545437e-01, 9.99494103e-01,\n",
       "       9.77491716e-01, 9.91344019e-01, 9.71330211e-01, 9.04515708e-01,\n",
       "       1.00000000e+00, 5.76303945e-09, 1.24514192e-05, 3.83719363e-02,\n",
       "       3.63656948e-02, 1.27182485e-03, 8.04141673e-01, 9.31511578e-01,\n",
       "       6.86122315e-01, 8.47245351e-01, 9.92593721e-01, 9.22257129e-01,\n",
       "       9.82189653e-01, 2.24389297e-03, 6.17566794e-01, 7.65757396e-02,\n",
       "       7.58095370e-01, 1.34341720e-01, 8.11640527e-01, 5.53802052e-01,\n",
       "       8.92356686e-01, 4.89849228e-11, 5.14054019e-02, 4.56688081e-01,\n",
       "       9.87671464e-01, 2.52325287e-02, 9.81151508e-01, 9.99996436e-01,\n",
       "       2.15763634e-01, 4.28662035e-10, 2.38718525e-01, 1.26524029e-01,\n",
       "       6.36349752e-01, 1.29012577e-01, 6.59396581e-03, 1.61630530e-03,\n",
       "       9.98588406e-01, 8.21382223e-05, 9.58901419e-01, 3.72642199e-04,\n",
       "       9.96240217e-01, 8.45332037e-01, 6.00442072e-05, 5.55309892e-01,\n",
       "       7.66743150e-02, 6.42763601e-02, 9.31381147e-01, 9.98883077e-01,\n",
       "       9.67683835e-01, 9.98685378e-01, 1.08661294e-02, 7.99430815e-01,\n",
       "       9.54214545e-01, 8.20805510e-08, 3.35453059e-01, 7.12029842e-01,\n",
       "       7.65554164e-01, 1.50956687e-01, 5.08510148e-01, 8.67327504e-01,\n",
       "       9.48427095e-01, 9.77150308e-01, 2.11829537e-02, 7.77499346e-01,\n",
       "       7.31058579e-01, 2.54497104e-02, 9.59137895e-01, 8.58837599e-01,\n",
       "       7.31058579e-01, 5.96370356e-01, 8.60282933e-01, 1.10342231e-03,\n",
       "       2.37785398e-01, 5.94763970e-01, 9.95312139e-01, 7.31058579e-01,\n",
       "       8.06985985e-01])"
      ]
     },
     "execution_count": 112,
     "metadata": {},
     "output_type": "execute_result"
    }
   ],
   "source": [
    "y_score"
   ]
  },
  {
   "cell_type": "code",
   "execution_count": null,
   "metadata": {},
   "outputs": [],
   "source": []
  }
 ],
 "metadata": {
  "kernelspec": {
   "display_name": "hackathon",
   "language": "python",
   "name": "python3"
  },
  "language_info": {
   "codemirror_mode": {
    "name": "ipython",
    "version": 3
   },
   "file_extension": ".py",
   "mimetype": "text/x-python",
   "name": "python",
   "nbconvert_exporter": "python",
   "pygments_lexer": "ipython3",
   "version": "3.10.8"
  },
  "orig_nbformat": 4,
  "vscode": {
   "interpreter": {
    "hash": "22782bf086980a597813833627257b8fd0f2ec5b5fb163a3f665d2a9eebd03ff"
   }
  }
 },
 "nbformat": 4,
 "nbformat_minor": 2
}
