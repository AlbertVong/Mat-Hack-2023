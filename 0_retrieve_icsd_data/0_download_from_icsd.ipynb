{
 "cells": [
  {
   "cell_type": "code",
   "execution_count": 1,
   "metadata": {},
   "outputs": [],
   "source": [
    "import sys\n",
    "import pymatgen.core as mg\n",
    "sys.path.append('../codes_for_import')\n",
    "from icsd_query import *"
   ]
  },
  {
   "cell_type": "markdown",
   "metadata": {},
   "source": [
    "# login"
   ]
  },
  {
   "cell_type": "code",
   "execution_count": 2,
   "metadata": {},
   "outputs": [
    {
     "name": "stdout",
     "output_type": "stream",
     "text": [
      "Successfully generated new authentication token...\n"
     ]
    }
   ],
   "source": [
    "icsd = icsd_swagger(loginid='AVV9002332',password='icsd379')"
   ]
  },
  {
   "attachments": {},
   "cell_type": "markdown",
   "metadata": {},
   "source": [
    "# set up search query string"
   ]
  },
  {
   "cell_type": "code",
   "execution_count": 5,
   "metadata": {},
   "outputs": [],
   "source": [
    "search_string = 'ABFORMULA: AB2'"
   ]
  },
  {
   "attachments": {},
   "cell_type": "markdown",
   "metadata": {},
   "source": [
    "# execute expert search"
   ]
  },
  {
   "cell_type": "code",
   "execution_count": 6,
   "metadata": {},
   "outputs": [
    {
     "name": "stdout",
     "output_type": "stream",
     "text": [
      "Expert search \"ABFORMULA: AB2\" executed successfully...\n",
      "17171 results found.\n"
     ]
    }
   ],
   "source": [
    "icsd.expert_search(search_string)"
   ]
  },
  {
   "attachments": {},
   "cell_type": "markdown",
   "metadata": {},
   "source": [
    "# exceute the download"
   ]
  },
  {
   "cell_type": "code",
   "execution_count": 7,
   "metadata": {},
   "outputs": [
    {
     "name": "stdout",
     "output_type": "stream",
     "text": [
      "There are 35 sublists to download.\n",
      "Downloading sublist 0.\n",
      "Download successful.\n",
      "Downloading sublist 1.\n",
      "Download successful.\n",
      "Downloading sublist 2.\n",
      "Logout sucessful.\n",
      "Successfully generated new authentication token...\n",
      "Download successful.\n",
      "Downloading sublist 3.\n",
      "Download successful.\n",
      "Downloading sublist 4.\n",
      "Logout sucessful.\n",
      "Successfully generated new authentication token...\n",
      "Download successful.\n",
      "Downloading sublist 5.\n",
      "Download successful.\n",
      "Downloading sublist 6.\n",
      "Logout sucessful.\n",
      "Successfully generated new authentication token...\n",
      "Download successful.\n",
      "Downloading sublist 7.\n",
      "Download successful.\n",
      "Downloading sublist 8.\n",
      "Logout sucessful.\n",
      "Successfully generated new authentication token...\n",
      "Download successful.\n",
      "Downloading sublist 9.\n",
      "Download successful.\n",
      "Downloading sublist 10.\n",
      "Logout sucessful.\n",
      "Successfully generated new authentication token...\n",
      "Download successful.\n",
      "Downloading sublist 11.\n",
      "Download successful.\n",
      "Downloading sublist 12.\n",
      "Logout sucessful.\n",
      "Successfully generated new authentication token...\n",
      "Download successful.\n",
      "Downloading sublist 13.\n",
      "Download successful.\n",
      "Downloading sublist 14.\n",
      "Logout sucessful.\n",
      "Successfully generated new authentication token...\n",
      "Download successful.\n",
      "Downloading sublist 15.\n",
      "Download successful.\n",
      "Downloading sublist 16.\n",
      "Logout sucessful.\n",
      "Successfully generated new authentication token...\n",
      "Download successful.\n",
      "Downloading sublist 17.\n",
      "Download successful.\n",
      "Downloading sublist 18.\n",
      "Logout sucessful.\n",
      "Successfully generated new authentication token...\n",
      "Download successful.\n",
      "Downloading sublist 19.\n",
      "Download successful.\n",
      "Downloading sublist 20.\n",
      "Logout sucessful.\n",
      "Successfully generated new authentication token...\n",
      "Download successful.\n",
      "Downloading sublist 21.\n",
      "Download successful.\n",
      "Downloading sublist 22.\n",
      "Logout sucessful.\n",
      "Successfully generated new authentication token...\n",
      "Download successful.\n",
      "Downloading sublist 23.\n",
      "Download successful.\n",
      "Downloading sublist 24.\n",
      "Logout sucessful.\n",
      "Successfully generated new authentication token...\n",
      "Download successful.\n",
      "Downloading sublist 25.\n",
      "Download successful.\n",
      "Downloading sublist 26.\n",
      "Logout sucessful.\n",
      "Successfully generated new authentication token...\n",
      "Download successful.\n",
      "Downloading sublist 27.\n",
      "Download successful.\n",
      "Downloading sublist 28.\n",
      "Logout sucessful.\n",
      "Successfully generated new authentication token...\n",
      "Download successful.\n",
      "Downloading sublist 29.\n",
      "Download successful.\n",
      "Downloading sublist 30.\n",
      "Logout sucessful.\n",
      "Successfully generated new authentication token...\n",
      "Download successful.\n",
      "Downloading sublist 31.\n",
      "Download successful.\n",
      "Downloading sublist 32.\n",
      "Logout sucessful.\n",
      "Successfully generated new authentication token...\n",
      "Download successful.\n",
      "Downloading sublist 33.\n",
      "Download successful.\n",
      "Downloading sublist 34.\n",
      "Logout sucessful.\n",
      "Successfully generated new authentication token...\n",
      "Download successful.\n"
     ]
    }
   ],
   "source": [
    "icsd.download_cifs()"
   ]
  },
  {
   "attachments": {},
   "cell_type": "markdown",
   "metadata": {},
   "source": [
    "# !! Always execute the logout cell no matter what or else bad things will happen"
   ]
  },
  {
   "cell_type": "code",
   "execution_count": 8,
   "metadata": {},
   "outputs": [
    {
     "name": "stdout",
     "output_type": "stream",
     "text": [
      "Logout sucessful.\n"
     ]
    }
   ],
   "source": [
    "icsd.logout()"
   ]
  }
 ],
 "metadata": {
  "kernelspec": {
   "display_name": "mat-hack",
   "language": "python",
   "name": "python3"
  },
  "language_info": {
   "codemirror_mode": {
    "name": "ipython",
    "version": 3
   },
   "file_extension": ".py",
   "mimetype": "text/x-python",
   "name": "python",
   "nbconvert_exporter": "python",
   "pygments_lexer": "ipython3",
   "version": "3.11.0 | packaged by conda-forge | (main, Jan 14 2023, 12:25:12) [Clang 14.0.6 ]"
  },
  "orig_nbformat": 4,
  "vscode": {
   "interpreter": {
    "hash": "f29cf555f1ad55622b61a06ba1522f7bf976ada2ce369c8ede82aeb1ba1ad311"
   }
  }
 },
 "nbformat": 4,
 "nbformat_minor": 2
}
