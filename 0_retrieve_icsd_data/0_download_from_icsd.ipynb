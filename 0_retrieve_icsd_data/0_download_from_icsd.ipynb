{
 "cells": [
  {
   "cell_type": "code",
   "execution_count": 6,
   "metadata": {},
   "outputs": [],
   "source": [
    "import sys\n",
    "sys.path.append('../codes_for_import')\n",
    "from icsd_query import *"
   ]
  },
  {
   "cell_type": "markdown",
   "metadata": {},
   "source": [
    "# login"
   ]
  },
  {
   "cell_type": "code",
   "execution_count": 7,
   "metadata": {},
   "outputs": [
    {
     "name": "stdout",
     "output_type": "stream",
     "text": [
      "Successfully generated new authentication token...\n"
     ]
    }
   ],
   "source": [
    "icsd = icsd_swagger(loginid='AVV9002332',password='icsd379')"
   ]
  },
  {
   "attachments": {},
   "cell_type": "markdown",
   "metadata": {},
   "source": [
    "# define the search parameters\n",
    "\n",
    "This is the query that I think we should shoot for\n",
    "Composition: (Li Be Na Mg K Ca Rb Sr Cs Ba Fr Ra Sc Ti V Cr Mn Fe Co Ni Cu Zn Y Zr Nb Mo Tc Ru Rh Pd Ag Cd La Hf Ta W Re Os Ir Pt Au Hg Ac) (N O F P S Cl As Se Br Sb Te I)  \n",
    "Number of Elements: 2, 3, 4 [use NUMBEROFELEMENTS]  \n",
    "Temperature: unrestricted  \n",
    "Pressure: unrestricted  "
   ]
  },
  {
   "cell_type": "code",
   "execution_count": 11,
   "metadata": {},
   "outputs": [
    {
     "name": "stdout",
     "output_type": "stream",
     "text": [
      "Expert search \"COMPOSITION: Na Cl AND ABFORMULA: ABC3\" executed successfully...\n",
      "33 results found.\n"
     ]
    }
   ],
   "source": [
    "icsd.expert_search('COMPOSITION: Na Cl AND ABFORMULA: ABC3')"
   ]
  },
  {
   "attachments": {},
   "cell_type": "markdown",
   "metadata": {},
   "source": [
    "# exceute the download"
   ]
  },
  {
   "cell_type": "code",
   "execution_count": 12,
   "metadata": {},
   "outputs": [
    {
     "name": "stdout",
     "output_type": "stream",
     "text": [
      "There are 1 sublists to download.\n",
      "Downloading sublist 0.\n",
      "Download successful.\n"
     ]
    }
   ],
   "source": [
    "icsd.download_cifs()"
   ]
  },
  {
   "attachments": {},
   "cell_type": "markdown",
   "metadata": {},
   "source": [
    "# !! Always execute the logout cell no matter what or else bad things will happen"
   ]
  },
  {
   "cell_type": "code",
   "execution_count": 13,
   "metadata": {},
   "outputs": [
    {
     "name": "stdout",
     "output_type": "stream",
     "text": [
      "Logout sucessful.\n"
     ]
    }
   ],
   "source": [
    "icsd.logout()"
   ]
  }
 ],
 "metadata": {
  "kernelspec": {
   "display_name": "mat-hack",
   "language": "python",
   "name": "python3"
  },
  "language_info": {
   "codemirror_mode": {
    "name": "ipython",
    "version": 3
   },
   "file_extension": ".py",
   "mimetype": "text/x-python",
   "name": "python",
   "nbconvert_exporter": "python",
   "pygments_lexer": "ipython3",
   "version": "3.11.0"
  },
  "orig_nbformat": 4,
  "vscode": {
   "interpreter": {
    "hash": "f29cf555f1ad55622b61a06ba1522f7bf976ada2ce369c8ede82aeb1ba1ad311"
   }
  }
 },
 "nbformat": 4,
 "nbformat_minor": 2
}
