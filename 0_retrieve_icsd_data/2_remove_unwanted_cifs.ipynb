{
 "cells": [
  {
   "cell_type": "code",
   "execution_count": 8,
   "metadata": {},
   "outputs": [],
   "source": [
    "import glob\n",
    "import shutil\n",
    "import pandas as pd\n",
    "import re\n",
    "import numpy as np\n",
    "import os"
   ]
  },
  {
   "cell_type": "markdown",
   "metadata": {},
   "source": [
    "# read csv with coll codes for unwanted cifs"
   ]
  },
  {
   "cell_type": "code",
   "execution_count": 9,
   "metadata": {},
   "outputs": [],
   "source": [
    "csv_paths = glob.glob('icsd_theoretical_and_hybrid/*')\n",
    "csv_dfs = [pd.read_csv(csv_path,delimiter='\\t') for csv_path in csv_paths]\n",
    "\n",
    "coll_codes_to_remove = pd.concat(csv_dfs)['CollectionCode'].to_numpy()"
   ]
  },
  {
   "cell_type": "markdown",
   "metadata": {},
   "source": [
    "# gather coll codes for all downloaded cifs"
   ]
  },
  {
   "cell_type": "code",
   "execution_count": 25,
   "metadata": {},
   "outputs": [],
   "source": [
    "downloaded_cifs_dir = 'unzipped_downloaded_cifs'\n",
    "downloaded_cif_paths = np.array(glob.glob(f'{downloaded_cifs_dir}/*'))\n",
    "downloaded_cif_coll_codes = [int(re.search('(\\S*)_CollCode(\\S*).cif',path).groups()[1]) for path in downloaded_cif_paths]"
   ]
  },
  {
   "attachments": {},
   "cell_type": "markdown",
   "metadata": {},
   "source": [
    "# subtract out unwanted coll codes"
   ]
  },
  {
   "cell_type": "code",
   "execution_count": 26,
   "metadata": {},
   "outputs": [
    {
     "name": "stdout",
     "output_type": "stream",
     "text": [
      "Started with 17171.\n",
      "Removed 2497.\n",
      "Remaining 14679.\n"
     ]
    }
   ],
   "source": [
    "coll_codes_to_keep = list(set(downloaded_cif_coll_codes) - set(coll_codes_to_remove))\n",
    "\n",
    "print(f'Started with {len(downloaded_cif_coll_codes)}.')\n",
    "print(f'Removed {len(coll_codes_to_remove)}.')\n",
    "print(f'Remaining {len(coll_codes_to_keep)}.')"
   ]
  },
  {
   "cell_type": "markdown",
   "metadata": {},
   "source": [
    "# move the cif files we want to keep to a new directory"
   ]
  },
  {
   "cell_type": "code",
   "execution_count": 27,
   "metadata": {},
   "outputs": [],
   "source": [
    "filtered_cif_dir = 'final_cifs_for_aflow'\n",
    "\n",
    "if os.path.isdir(filtered_cif_dir): shutil.rmtree(filtered_cif_dir)\n",
    "os.mkdir(filtered_cif_dir)\n",
    "\n",
    "\n",
    "# determine paths of cif files to keep\n",
    "keep_cif_path_bool = np.isin(downloaded_cif_coll_codes,coll_codes_to_keep)\n",
    "paths_to_keep = downloaded_cif_paths[keep_cif_path_bool]\n",
    "\n",
    "# move cif files\n",
    "\n",
    "for path in paths_to_keep:\n",
    "    destination_path = path.replace(downloaded_cifs_dir,filtered_cif_dir)\n",
    "    shutil.move(path,destination_path)"
   ]
  }
 ],
 "metadata": {
  "kernelspec": {
   "display_name": "mat-hack",
   "language": "python",
   "name": "python3"
  },
  "language_info": {
   "codemirror_mode": {
    "name": "ipython",
    "version": 3
   },
   "file_extension": ".py",
   "mimetype": "text/x-python",
   "name": "python",
   "nbconvert_exporter": "python",
   "pygments_lexer": "ipython3",
   "version": "3.11.0"
  },
  "orig_nbformat": 4,
  "vscode": {
   "interpreter": {
    "hash": "f29cf555f1ad55622b61a06ba1522f7bf976ada2ce369c8ede82aeb1ba1ad311"
   }
  }
 },
 "nbformat": 4,
 "nbformat_minor": 2
}
