{
 "cells": [
  {
   "cell_type": "code",
   "execution_count": 3,
   "metadata": {},
   "outputs": [],
   "source": [
    "import sys\n",
    "import pymatgen.core as mg\n",
    "sys.path.append('../codes_for_import')\n",
    "from icsd_query import *"
   ]
  },
  {
   "cell_type": "markdown",
   "metadata": {},
   "source": [
    "# login"
   ]
  },
  {
   "cell_type": "code",
   "execution_count": 4,
   "metadata": {},
   "outputs": [
    {
     "name": "stdout",
     "output_type": "stream",
     "text": [
      "Successfully generated new authentication token...\n"
     ]
    }
   ],
   "source": [
    "icsd = icsd_swagger(loginid='AVV9002332',password='icsd379')"
   ]
  },
  {
   "attachments": {},
   "cell_type": "markdown",
   "metadata": {},
   "source": [
    "# define the search parameters\n",
    "\n",
    "This is the query that I think we should shoot for\n",
    "Composition: (Li Be Na Mg K Ca Rb Sr Cs Ba Fr Ra Sc Ti V Cr Mn Fe Co Ni Cu Zn Y Zr Nb Mo Tc Ru Rh Pd Ag Cd La Hf Ta W Re Os Ir Pt Au Hg Ac) (N O F P S Cl As Se Br Sb Te I)  \n",
    "Number of Elements: 2, 3, 4 [use NUMBEROFELEMENTS]  \n",
    "Temperature: unrestricted  \n",
    "Pressure: unrestricted  "
   ]
  },
  {
   "cell_type": "code",
   "execution_count": 41,
   "metadata": {},
   "outputs": [],
   "source": [
    "group_1_elements = ['Li', 'Be', 'Na', 'Mg', 'K', 'Ca', 'Rb', 'Sr', 'Cs', 'Ba', 'Fr', 'Ra', 'Sc', 'Ti', 'V', 'Cr', 'Mn', 'Fe', 'Co',\\\n",
    "     'Ni', 'Cu', 'Zn', 'Y', 'Zr', 'Nb', 'Mo', 'Tc', 'Ru', 'Rh', 'Pd', 'Ag', 'Cd', 'La', 'Hf', 'Ta', 'W', 'Re', 'Os', 'Ir', 'Pt', 'Au', 'Hg', 'Ac']\n",
    "\n",
    "group_2_elements = ['N', 'O', 'F', 'P', 'S', 'Cl', 'As', 'Se', 'Br', 'Sb', 'Te', 'I']\n",
    "\n",
    "mg_group_1_elements = set([mg.Element(e) for e in group_1_elements])\n",
    "mg_group_2_elements = set([mg.Element(e) for e in group_2_elements])\n",
    "\n",
    "\n",
    "# get a set of all known elements\n",
    "mg_all_elements = set([mg.Element.from_Z(i) for i in range(1,118+1)])\n",
    "\n",
    "# subtract groups 1 and 2 from the set of all known elements - this is the \"NOT\" elements list\n",
    "\n",
    "mg_exclude_elements = mg_all_elements - mg_group_1_elements - mg_group_2_elements\n",
    "exclude_elements = [str(e) for e in mg_exclude_elements]"
   ]
  },
  {
   "attachments": {},
   "cell_type": "markdown",
   "metadata": {},
   "source": [
    "# set up search query string"
   ]
  },
  {
   "cell_type": "code",
   "execution_count": 50,
   "metadata": {},
   "outputs": [],
   "source": [
    "def gen_composition_string(list_of_elements):\n",
    "    result = ''\n",
    "    composition_prefix = 'COMPOSITION: '\n",
    "    \n",
    "    list_of_elements = list(list_of_elements)\n",
    "    for i in range(len(list_of_elements)):\n",
    "        e = list_of_elements[i]\n",
    "        result = result + composition_prefix + e + ' '\n",
    "        if i != len(list_of_elements): result += 'OR '\n",
    "    \n",
    "    return result\n",
    "\n",
    "group_1_composition_string = gen_composition_string(group_1_elements)\n",
    "group_2_composition_string = gen_composition_string(group_2_elements)\n",
    "exclude_composition_string = gen_composition_string(exclude_elements)\n",
    "\n",
    "search_string = f'({group_1_composition_string}) AND ({group_2_composition_string}) NOT ({exclude_composition_string})'\n",
    "\n",
    "n_elements = 3\n",
    "\n",
    "search_string += f' AND NUMBEROFELEMENTS: {n_elements}'"
   ]
  },
  {
   "attachments": {},
   "cell_type": "markdown",
   "metadata": {},
   "source": [
    "# execute expert search"
   ]
  },
  {
   "cell_type": "code",
   "execution_count": 52,
   "metadata": {},
   "outputs": [
    {
     "name": "stdout",
     "output_type": "stream",
     "text": [
      "Other error, make sure your query text is valid.\n"
     ]
    }
   ],
   "source": [
    "icsd.expert_search(search_string)"
   ]
  },
  {
   "attachments": {},
   "cell_type": "markdown",
   "metadata": {},
   "source": [
    "# exceute the download"
   ]
  },
  {
   "cell_type": "code",
   "execution_count": 19,
   "metadata": {},
   "outputs": [
    {
     "name": "stdout",
     "output_type": "stream",
     "text": [
      "There are 1 sublists to download.\n",
      "Downloading sublist 0.\n",
      "Download successful.\n"
     ]
    }
   ],
   "source": [
    "icsd.download_cifs()"
   ]
  },
  {
   "attachments": {},
   "cell_type": "markdown",
   "metadata": {},
   "source": [
    "# !! Always execute the logout cell no matter what or else bad things will happen"
   ]
  },
  {
   "cell_type": "code",
   "execution_count": 5,
   "metadata": {},
   "outputs": [
    {
     "name": "stdout",
     "output_type": "stream",
     "text": [
      "Logout sucessful.\n"
     ]
    }
   ],
   "source": [
    "icsd.logout()"
   ]
  },
  {
   "cell_type": "code",
   "execution_count": null,
   "metadata": {},
   "outputs": [],
   "source": []
  }
 ],
 "metadata": {
  "kernelspec": {
   "display_name": "mat-hack",
   "language": "python",
   "name": "python3"
  },
  "language_info": {
   "codemirror_mode": {
    "name": "ipython",
    "version": 3
   },
   "file_extension": ".py",
   "mimetype": "text/x-python",
   "name": "python",
   "nbconvert_exporter": "python",
   "pygments_lexer": "ipython3",
   "version": "3.11.0 | packaged by conda-forge | (main, Jan 14 2023, 12:25:12) [Clang 14.0.6 ]"
  },
  "orig_nbformat": 4,
  "vscode": {
   "interpreter": {
    "hash": "f29cf555f1ad55622b61a06ba1522f7bf976ada2ce369c8ede82aeb1ba1ad311"
   }
  }
 },
 "nbformat": 4,
 "nbformat_minor": 2
}
