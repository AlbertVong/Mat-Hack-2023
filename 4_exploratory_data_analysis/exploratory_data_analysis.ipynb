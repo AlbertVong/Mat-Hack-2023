{
 "cells": [
  {
   "cell_type": "code",
   "execution_count": 29,
   "id": "017ba175",
   "metadata": {},
   "outputs": [],
   "source": [
    "import pandas as pd\n",
    "import pandas_profiling as pprof\n",
    "import matplotlib.pyplot as plt\n",
    "import numpy as np"
   ]
  },
  {
   "cell_type": "markdown",
   "id": "2c275d62",
   "metadata": {},
   "source": [
    "# Generate Pandas Profile"
   ]
  },
  {
   "cell_type": "code",
   "execution_count": 30,
   "id": "a8e85a8d",
   "metadata": {},
   "outputs": [],
   "source": [
    "FEAT_LOC = '../3_generate_features/final_feature_array.csv'\n",
    "LABEL_LOC = '../3_generate_features/final_label_array.csv'\n",
    "feat_df = pd.read_csv(FEAT_LOC)\n",
    "label_df = pd.read_csv(LABEL_LOC)\n",
    "combined_df = pd.concat([feat_df, label_df],axis=1)"
   ]
  },
  {
   "cell_type": "code",
   "execution_count": 22,
   "id": "8ae24b05",
   "metadata": {},
   "outputs": [
    {
     "data": {
      "application/vnd.jupyter.widget-view+json": {
       "model_id": "105d2dd0956c44499d8b5e7fe917cb7f",
       "version_major": 2,
       "version_minor": 0
      },
      "text/plain": [
       "Summarize dataset:   0%|          | 0/5 [00:00<?, ?it/s]"
      ]
     },
     "metadata": {},
     "output_type": "display_data"
    },
    {
     "data": {
      "application/vnd.jupyter.widget-view+json": {
       "model_id": "0950253f00f445b599ff3c0a729a8e65",
       "version_major": 2,
       "version_minor": 0
      },
      "text/plain": [
       "Generate report structure:   0%|          | 0/1 [00:00<?, ?it/s]"
      ]
     },
     "metadata": {},
     "output_type": "display_data"
    },
    {
     "data": {
      "application/vnd.jupyter.widget-view+json": {
       "model_id": "e024c2157c054437a67fd384f9655320",
       "version_major": 2,
       "version_minor": 0
      },
      "text/plain": [
       "Render HTML:   0%|          | 0/1 [00:00<?, ?it/s]"
      ]
     },
     "metadata": {},
     "output_type": "display_data"
    },
    {
     "data": {
      "application/vnd.jupyter.widget-view+json": {
       "model_id": "275d575e993941c58942373ae64b0a73",
       "version_major": 2,
       "version_minor": 0
      },
      "text/plain": [
       "Export report to file:   0%|          | 0/1 [00:00<?, ?it/s]"
      ]
     },
     "metadata": {},
     "output_type": "display_data"
    }
   ],
   "source": [
    "pprof.ProfileReport(combined_df, minimal=True).to_file('profile_minimal_combined.html')"
   ]
  },
  {
   "cell_type": "markdown",
   "id": "f9a55ca4",
   "metadata": {},
   "source": [
    "# Examine class frequencies"
   ]
  },
  {
   "cell_type": "code",
   "execution_count": 47,
   "id": "42ba832d",
   "metadata": {
    "scrolled": true
   },
   "outputs": [],
   "source": [
    "uniq, counts = np.unique(label_df.Prototype, return_counts=True)\n",
    "freq_df = pd.DataFrame(np.transpose([uniq, counts]), columns=['Prototype','Count']).sort_values(by='Count', ascending=False)\n",
    "freq_df['Count'] = freq_df['Count'].astype(int)\n",
    "\n",
    "subdf = freq_df[freq_df.Count > 1]\n",
    "\n",
    "fig, ax = plt.subplots()\n",
    "x = subdf.Count.to_numpy()\n",
    "y = subdf.Prototype.to_numpy()\n",
    "plt.barh(subdf.Prototype, subdf.Count, color='teal')\n",
    "plt.xlabel('Population')\n",
    "# plt.ylabel('Prototype')\n",
    "# plt.yticks(ticks=None)\n",
    "ax.set_yticklabels([])\n",
    "# plt.xscale('log')\n",
    "plt.tick_params(\n",
    "    axis='y',          # changes apply to the x-axis\n",
    "    which='both',      # both major and minor ticks are affected\n",
    "    left=False,      # ticks along the bottom edge are off\n",
    "    right=False)\n",
    "# plt.show()\n",
    "plt.savefig('../figures/proto_pop_bar.png', bbox_inches='tight', dpi=400)"
   ]
  },
  {
   "cell_type": "code",
   "execution_count": 46,
   "id": "aaf8a793",
   "metadata": {},
   "outputs": [
    {
     "name": "stderr",
     "output_type": "stream",
     "text": [
      "/tmp/ipykernel_292/980337125.py:6: UserWarning: Matplotlib is currently using module://matplotlib_inline.backend_inline, which is a non-GUI backend, so cannot show the figure.\n",
      "  plt.show()\n"
     ]
    }
   ],
   "source": [
    "fig, ax = plt.subplots()\n",
    "plt.hist(freq_df.Count, bins=500)\n",
    "# plt.yscale('log')\n",
    "plt.ylabel('Number of Unique Prototypes')\n",
    "plt.xlabel('Prototype Population')\n",
    "plt.show()\n",
    "plt.savefig('../figures/proto_hist.png', bbox_inches='tight', dpi=400)"
   ]
  },
  {
   "cell_type": "code",
   "execution_count": 42,
   "id": "b8e631e2",
   "metadata": {},
   "outputs": [],
   "source": [
    "### Create reduced/simplified counts \n",
    "\n",
    "counts = freq_df.Count.to_numpy()\n",
    "labels = freq_df.Prototype.to_numpy()\n",
    "cutoff = 100\n",
    "head_df = freq_df[freq_df.Count >= cutoff]\n",
    "tail_df = freq_df[freq_df.Count < cutoff]\n",
    "compress_df = pd.DataFrame({freq_df.columns[0]:[f'{len(tail_df)} prototypes ($N \\leq {cutoff}$)'], \n",
    "                            freq_df.columns[1]:tail_df.Count.sum()})\n",
    "reduced_df = pd.concat([head_df, compress_df])\n",
    "\n",
    "fig, ax = plt.subplots(figsize=(8,7))\n",
    "n_expl = 3\n",
    "n_notexpl = (len(reduced_df)-n_expl)\n",
    "plt.pie(reduced_df.Count,\n",
    "        explode=[True]*n_expl + [False]*n_notexpl, \n",
    "        labels=reduced_df.Prototype)\n",
    "plt.savefig('../figures/proto_pie.png', bbox_inches='tight', dpi=400)\n",
    "# plt.show()"
   ]
  },
  {
   "cell_type": "markdown",
   "id": "ad580792",
   "metadata": {},
   "source": [
    "# Pairwise distributions"
   ]
  },
  {
   "cell_type": "code",
   "execution_count": null,
   "id": "13b5c63e",
   "metadata": {},
   "outputs": [],
   "source": []
  },
  {
   "cell_type": "code",
   "execution_count": null,
   "id": "422f5c68",
   "metadata": {},
   "outputs": [],
   "source": []
  }
 ],
 "metadata": {
  "kernelspec": {
   "display_name": "Python 3 (ipykernel)",
   "language": "python",
   "name": "python3"
  },
  "language_info": {
   "codemirror_mode": {
    "name": "ipython",
    "version": 3
   },
   "file_extension": ".py",
   "mimetype": "text/x-python",
   "name": "python",
   "nbconvert_exporter": "python",
   "pygments_lexer": "ipython3",
   "version": "3.8.15"
  }
 },
 "nbformat": 4,
 "nbformat_minor": 5
}
