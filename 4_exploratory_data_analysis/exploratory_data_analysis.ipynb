{
 "cells": [
  {
   "cell_type": "code",
   "execution_count": 15,
   "id": "017ba175",
   "metadata": {},
   "outputs": [],
   "source": [
    "import pandas as pd\n",
    "import pandas_profiling as pprof\n",
    "import matplotlib.pyplot as plt\n",
    "import numpy as np\n",
    "FEAT_LOC = '../3_generate_features/final_feature_array.csv'\n",
    "LABEL_LOC = '../3_generate_features/final_label_array.csv'"
   ]
  },
  {
   "cell_type": "code",
   "execution_count": 5,
   "id": "a8e85a8d",
   "metadata": {},
   "outputs": [],
   "source": [
    "feat_df = pd.read_csv(FEAT_LOC)"
   ]
  },
  {
   "cell_type": "code",
   "execution_count": 6,
   "id": "8ae24b05",
   "metadata": {},
   "outputs": [
    {
     "data": {
      "application/vnd.jupyter.widget-view+json": {
       "model_id": "c781609cdfb648bfb7db9b763d9ff6af",
       "version_major": 2,
       "version_minor": 0
      },
      "text/plain": [
       "Summarize dataset:   0%|          | 0/5 [00:00<?, ?it/s]"
      ]
     },
     "metadata": {},
     "output_type": "display_data"
    },
    {
     "data": {
      "application/vnd.jupyter.widget-view+json": {
       "model_id": "5112dc1fd8864d46ba3ad9f6f48795ba",
       "version_major": 2,
       "version_minor": 0
      },
      "text/plain": [
       "Generate report structure:   0%|          | 0/1 [00:00<?, ?it/s]"
      ]
     },
     "metadata": {},
     "output_type": "display_data"
    },
    {
     "data": {
      "application/vnd.jupyter.widget-view+json": {
       "model_id": "2cf4a497427d4483b7c25cba239f0e7d",
       "version_major": 2,
       "version_minor": 0
      },
      "text/plain": [
       "Render HTML:   0%|          | 0/1 [00:00<?, ?it/s]"
      ]
     },
     "metadata": {},
     "output_type": "display_data"
    },
    {
     "data": {
      "application/vnd.jupyter.widget-view+json": {
       "model_id": "0017274f2e9a4e1eae89e942719809fc",
       "version_major": 2,
       "version_minor": 0
      },
      "text/plain": [
       "Export report to file:   0%|          | 0/1 [00:00<?, ?it/s]"
      ]
     },
     "metadata": {},
     "output_type": "display_data"
    }
   ],
   "source": [
    "pprof.ProfileReport(df, minimal=True).to_file('profile_minimal.html')"
   ]
  },
  {
   "cell_type": "markdown",
   "id": "f9a55ca4",
   "metadata": {},
   "source": [
    "# Examine labels"
   ]
  },
  {
   "cell_type": "code",
   "execution_count": 8,
   "id": "00785dc1",
   "metadata": {},
   "outputs": [],
   "source": [
    "label_df = pd.read_csv(LABEL_LOC)"
   ]
  },
  {
   "cell_type": "code",
   "execution_count": 21,
   "id": "d845a6ee",
   "metadata": {},
   "outputs": [],
   "source": [
    "counts, uniq = zip(*sorted(zip(counts, uniq), reverse=True))"
   ]
  },
  {
   "cell_type": "code",
   "execution_count": 23,
   "id": "b6af119d",
   "metadata": {},
   "outputs": [
    {
     "name": "stdout",
     "output_type": "stream",
     "text": [
      "(1533, 515, 476, 467, 368, 250, 237, 203, 182, 169)\n",
      "('Laves(cub)#MgCu2', 'Fluorite#CaF2', 'Laves(2H)#MgZn2', 'Rutile#TiO2', 'AlB2', 'Pyrite#FeS2(cP12)', 'CuAl2', 'CdI2(hP3)', 'CaC2-I(I4/mmm)', 'Marcasite#FeS2(oP6)')\n"
     ]
    }
   ],
   "source": [
    "print(counts[:10])\n",
    "print(uniq[:10])"
   ]
  },
  {
   "cell_type": "code",
   "execution_count": null,
   "id": "13b5c63e",
   "metadata": {},
   "outputs": [],
   "source": []
  }
 ],
 "metadata": {
  "kernelspec": {
   "display_name": "Python 3 (ipykernel)",
   "language": "python",
   "name": "python3"
  },
  "language_info": {
   "codemirror_mode": {
    "name": "ipython",
    "version": 3
   },
   "file_extension": ".py",
   "mimetype": "text/x-python",
   "name": "python",
   "nbconvert_exporter": "python",
   "pygments_lexer": "ipython3",
   "version": "3.8.15"
  }
 },
 "nbformat": 4,
 "nbformat_minor": 5
}
