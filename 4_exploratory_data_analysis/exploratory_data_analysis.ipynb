{
 "cells": [
  {
   "cell_type": "code",
   "execution_count": 1,
   "id": "017ba175",
   "metadata": {},
   "outputs": [],
   "source": [
    "import pandas as pd\n",
    "import pandas_profiling as pprof\n",
    "import matplotlib.pyplot as plt\n",
    "import numpy as np"
   ]
  },
  {
   "cell_type": "markdown",
   "id": "e333bc70",
   "metadata": {},
   "source": [
    "# Generate Pandas Profile"
   ]
  },
  {
   "cell_type": "code",
<<<<<<< HEAD
   "execution_count": 2,
=======
   "execution_count": 48,
>>>>>>> 0f3263a612efa8b0045df55752c37c9e0ecd6b2e
   "id": "a8e85a8d",
   "metadata": {},
   "outputs": [],
   "source": [
    "FEAT_LOC = '../3_generate_features/final_feature_array.csv'\n",
    "LABEL_LOC = '../3_generate_features/final_label_array.csv'\n",
    "feat_df = pd.read_csv(FEAT_LOC)\n",
    "label_df = pd.read_csv(LABEL_LOC)\n",
    "combined_df = pd.concat([feat_df, label_df],axis=1)"
   ]
  },
  {
   "cell_type": "code",
<<<<<<< HEAD
   "execution_count": 4,
   "id": "7a232198",
   "metadata": {},
   "outputs": [],
   "source": [
    "pd.set_option('display.max_columns', None)"
   ]
  },
  {
   "cell_type": "code",
   "execution_count": 6,
   "id": "87991bed",
   "metadata": {},
   "outputs": [
    {
     "data": {
      "text/html": [
       "<div>\n",
       "<style scoped>\n",
       "    .dataframe tbody tr th:only-of-type {\n",
       "        vertical-align: middle;\n",
       "    }\n",
       "\n",
       "    .dataframe tbody tr th {\n",
       "        vertical-align: top;\n",
       "    }\n",
       "\n",
       "    .dataframe thead th {\n",
       "        text-align: right;\n",
       "    }\n",
       "</style>\n",
       "<table border=\"1\" class=\"dataframe\">\n",
       "  <thead>\n",
       "    <tr style=\"text-align: right;\">\n",
       "      <th></th>\n",
       "      <th>e1_Number</th>\n",
       "      <th>e1_MendeleevNumber</th>\n",
       "      <th>e1_AtomicWeight</th>\n",
       "      <th>e1_MeltingT</th>\n",
       "      <th>e1_Column</th>\n",
       "      <th>e1_Row</th>\n",
       "      <th>e1_CovalentRadius</th>\n",
       "      <th>e1_Electronegativity</th>\n",
       "      <th>e1_NsValence</th>\n",
       "      <th>e1_NpValence</th>\n",
       "      <th>e1_NdValence</th>\n",
       "      <th>e1_NfValence</th>\n",
       "      <th>e1_NValence</th>\n",
       "      <th>e1_NsUnfilled</th>\n",
       "      <th>e1_NpUnfilled</th>\n",
       "      <th>e1_NdUnfilled</th>\n",
       "      <th>e1_NfUnfilled</th>\n",
       "      <th>e1_NUnfilled</th>\n",
       "      <th>e1_GSvolume_pa</th>\n",
       "      <th>e1_GSbandgap</th>\n",
       "      <th>e1_GSmagmom</th>\n",
       "      <th>e1_SpaceGroupNumber</th>\n",
       "      <th>e2_Number</th>\n",
       "      <th>e2_MendeleevNumber</th>\n",
       "      <th>e2_AtomicWeight</th>\n",
       "      <th>e2_MeltingT</th>\n",
       "      <th>e2_Column</th>\n",
       "      <th>e2_Row</th>\n",
       "      <th>e2_CovalentRadius</th>\n",
       "      <th>e2_Electronegativity</th>\n",
       "      <th>e2_NsValence</th>\n",
       "      <th>e2_NpValence</th>\n",
       "      <th>e2_NdValence</th>\n",
       "      <th>e2_NfValence</th>\n",
       "      <th>e2_NValence</th>\n",
       "      <th>e2_NsUnfilled</th>\n",
       "      <th>e2_NpUnfilled</th>\n",
       "      <th>e2_NdUnfilled</th>\n",
       "      <th>e2_NfUnfilled</th>\n",
       "      <th>e2_NUnfilled</th>\n",
       "      <th>e2_GSvolume_pa</th>\n",
       "      <th>e2_GSbandgap</th>\n",
       "      <th>e2_GSmagmom</th>\n",
       "      <th>e2_SpaceGroupNumber</th>\n",
       "    </tr>\n",
       "  </thead>\n",
       "  <tbody>\n",
       "    <tr>\n",
       "      <th>0</th>\n",
       "      <td>22.0</td>\n",
       "      <td>43.0</td>\n",
       "      <td>47.867000</td>\n",
       "      <td>1941.0</td>\n",
       "      <td>4.0</td>\n",
       "      <td>4.0</td>\n",
       "      <td>160.0</td>\n",
       "      <td>1.54</td>\n",
       "      <td>2.0</td>\n",
       "      <td>0.0</td>\n",
       "      <td>2.0</td>\n",
       "      <td>0.0</td>\n",
       "      <td>4.0</td>\n",
       "      <td>0.0</td>\n",
       "      <td>0.0</td>\n",
       "      <td>8.0</td>\n",
       "      <td>0.0</td>\n",
       "      <td>8.0</td>\n",
       "      <td>16.690000</td>\n",
       "      <td>0.000</td>\n",
       "      <td>0.000023</td>\n",
       "      <td>194.0</td>\n",
       "      <td>22.0</td>\n",
       "      <td>43.0</td>\n",
       "      <td>47.867000</td>\n",
       "      <td>1941.0</td>\n",
       "      <td>4.0</td>\n",
       "      <td>4.0</td>\n",
       "      <td>160.0</td>\n",
       "      <td>1.54</td>\n",
       "      <td>2.0</td>\n",
       "      <td>0.0</td>\n",
       "      <td>2.0</td>\n",
       "      <td>0.0</td>\n",
       "      <td>4.0</td>\n",
       "      <td>0.0</td>\n",
       "      <td>0.0</td>\n",
       "      <td>8.0</td>\n",
       "      <td>0.0</td>\n",
       "      <td>8.0</td>\n",
       "      <td>16.690000</td>\n",
       "      <td>0.000</td>\n",
       "      <td>0.000023</td>\n",
       "      <td>194.0</td>\n",
       "    </tr>\n",
       "    <tr>\n",
       "      <th>1</th>\n",
       "      <td>14.0</td>\n",
       "      <td>78.0</td>\n",
       "      <td>28.085500</td>\n",
       "      <td>1687.0</td>\n",
       "      <td>14.0</td>\n",
       "      <td>3.0</td>\n",
       "      <td>111.0</td>\n",
       "      <td>1.90</td>\n",
       "      <td>2.0</td>\n",
       "      <td>2.0</td>\n",
       "      <td>0.0</td>\n",
       "      <td>0.0</td>\n",
       "      <td>4.0</td>\n",
       "      <td>0.0</td>\n",
       "      <td>4.0</td>\n",
       "      <td>0.0</td>\n",
       "      <td>0.0</td>\n",
       "      <td>4.0</td>\n",
       "      <td>20.440000</td>\n",
       "      <td>0.773</td>\n",
       "      <td>0.000000</td>\n",
       "      <td>227.0</td>\n",
       "      <td>14.0</td>\n",
       "      <td>78.0</td>\n",
       "      <td>28.085500</td>\n",
       "      <td>1687.0</td>\n",
       "      <td>14.0</td>\n",
       "      <td>3.0</td>\n",
       "      <td>111.0</td>\n",
       "      <td>1.90</td>\n",
       "      <td>2.0</td>\n",
       "      <td>2.0</td>\n",
       "      <td>0.0</td>\n",
       "      <td>0.0</td>\n",
       "      <td>4.0</td>\n",
       "      <td>0.0</td>\n",
       "      <td>4.0</td>\n",
       "      <td>0.0</td>\n",
       "      <td>0.0</td>\n",
       "      <td>4.0</td>\n",
       "      <td>20.440000</td>\n",
       "      <td>0.773</td>\n",
       "      <td>0.000000</td>\n",
       "      <td>227.0</td>\n",
       "    </tr>\n",
       "    <tr>\n",
       "      <th>2</th>\n",
       "      <td>25.0</td>\n",
       "      <td>52.0</td>\n",
       "      <td>54.938045</td>\n",
       "      <td>1519.0</td>\n",
       "      <td>7.0</td>\n",
       "      <td>4.0</td>\n",
       "      <td>139.0</td>\n",
       "      <td>1.55</td>\n",
       "      <td>2.0</td>\n",
       "      <td>0.0</td>\n",
       "      <td>5.0</td>\n",
       "      <td>0.0</td>\n",
       "      <td>7.0</td>\n",
       "      <td>0.0</td>\n",
       "      <td>0.0</td>\n",
       "      <td>5.0</td>\n",
       "      <td>0.0</td>\n",
       "      <td>5.0</td>\n",
       "      <td>10.487586</td>\n",
       "      <td>0.000</td>\n",
       "      <td>0.000310</td>\n",
       "      <td>217.0</td>\n",
       "      <td>25.0</td>\n",
       "      <td>52.0</td>\n",
       "      <td>54.938045</td>\n",
       "      <td>1519.0</td>\n",
       "      <td>7.0</td>\n",
       "      <td>4.0</td>\n",
       "      <td>139.0</td>\n",
       "      <td>1.55</td>\n",
       "      <td>2.0</td>\n",
       "      <td>0.0</td>\n",
       "      <td>5.0</td>\n",
       "      <td>0.0</td>\n",
       "      <td>7.0</td>\n",
       "      <td>0.0</td>\n",
       "      <td>0.0</td>\n",
       "      <td>5.0</td>\n",
       "      <td>0.0</td>\n",
       "      <td>5.0</td>\n",
       "      <td>10.487586</td>\n",
       "      <td>0.000</td>\n",
       "      <td>0.000310</td>\n",
       "      <td>217.0</td>\n",
       "    </tr>\n",
       "    <tr>\n",
       "      <th>3</th>\n",
       "      <td>12.0</td>\n",
       "      <td>68.0</td>\n",
       "      <td>24.305000</td>\n",
       "      <td>923.0</td>\n",
       "      <td>2.0</td>\n",
       "      <td>3.0</td>\n",
       "      <td>141.0</td>\n",
       "      <td>1.31</td>\n",
       "      <td>2.0</td>\n",
       "      <td>0.0</td>\n",
       "      <td>0.0</td>\n",
       "      <td>0.0</td>\n",
       "      <td>2.0</td>\n",
       "      <td>0.0</td>\n",
       "      <td>0.0</td>\n",
       "      <td>0.0</td>\n",
       "      <td>0.0</td>\n",
       "      <td>0.0</td>\n",
       "      <td>22.890000</td>\n",
       "      <td>0.000</td>\n",
       "      <td>0.000000</td>\n",
       "      <td>194.0</td>\n",
       "      <td>12.0</td>\n",
       "      <td>68.0</td>\n",
       "      <td>24.305000</td>\n",
       "      <td>923.0</td>\n",
       "      <td>2.0</td>\n",
       "      <td>3.0</td>\n",
       "      <td>141.0</td>\n",
       "      <td>1.31</td>\n",
       "      <td>2.0</td>\n",
       "      <td>0.0</td>\n",
       "      <td>0.0</td>\n",
       "      <td>0.0</td>\n",
       "      <td>2.0</td>\n",
       "      <td>0.0</td>\n",
       "      <td>0.0</td>\n",
       "      <td>0.0</td>\n",
       "      <td>0.0</td>\n",
       "      <td>0.0</td>\n",
       "      <td>22.890000</td>\n",
       "      <td>0.000</td>\n",
       "      <td>0.000000</td>\n",
       "      <td>194.0</td>\n",
       "    </tr>\n",
       "    <tr>\n",
       "      <th>4</th>\n",
       "      <td>14.0</td>\n",
       "      <td>78.0</td>\n",
       "      <td>28.085500</td>\n",
       "      <td>1687.0</td>\n",
       "      <td>14.0</td>\n",
       "      <td>3.0</td>\n",
       "      <td>111.0</td>\n",
       "      <td>1.90</td>\n",
       "      <td>2.0</td>\n",
       "      <td>2.0</td>\n",
       "      <td>0.0</td>\n",
       "      <td>0.0</td>\n",
       "      <td>4.0</td>\n",
       "      <td>0.0</td>\n",
       "      <td>4.0</td>\n",
       "      <td>0.0</td>\n",
       "      <td>0.0</td>\n",
       "      <td>4.0</td>\n",
       "      <td>20.440000</td>\n",
       "      <td>0.773</td>\n",
       "      <td>0.000000</td>\n",
       "      <td>227.0</td>\n",
       "      <td>14.0</td>\n",
       "      <td>78.0</td>\n",
       "      <td>28.085500</td>\n",
       "      <td>1687.0</td>\n",
       "      <td>14.0</td>\n",
       "      <td>3.0</td>\n",
       "      <td>111.0</td>\n",
       "      <td>1.90</td>\n",
       "      <td>2.0</td>\n",
       "      <td>2.0</td>\n",
       "      <td>0.0</td>\n",
       "      <td>0.0</td>\n",
       "      <td>4.0</td>\n",
       "      <td>0.0</td>\n",
       "      <td>4.0</td>\n",
       "      <td>0.0</td>\n",
       "      <td>0.0</td>\n",
       "      <td>4.0</td>\n",
       "      <td>20.440000</td>\n",
       "      <td>0.773</td>\n",
       "      <td>0.000000</td>\n",
       "      <td>227.0</td>\n",
       "    </tr>\n",
       "  </tbody>\n",
       "</table>\n",
       "</div>"
      ],
      "text/plain": [
       "   e1_Number  e1_MendeleevNumber  e1_AtomicWeight  e1_MeltingT  e1_Column  \\\n",
       "0       22.0                43.0        47.867000       1941.0        4.0   \n",
       "1       14.0                78.0        28.085500       1687.0       14.0   \n",
       "2       25.0                52.0        54.938045       1519.0        7.0   \n",
       "3       12.0                68.0        24.305000        923.0        2.0   \n",
       "4       14.0                78.0        28.085500       1687.0       14.0   \n",
       "\n",
       "   e1_Row  e1_CovalentRadius  e1_Electronegativity  e1_NsValence  \\\n",
       "0     4.0              160.0                  1.54           2.0   \n",
       "1     3.0              111.0                  1.90           2.0   \n",
       "2     4.0              139.0                  1.55           2.0   \n",
       "3     3.0              141.0                  1.31           2.0   \n",
       "4     3.0              111.0                  1.90           2.0   \n",
       "\n",
       "   e1_NpValence  e1_NdValence  e1_NfValence  e1_NValence  e1_NsUnfilled  \\\n",
       "0           0.0           2.0           0.0          4.0            0.0   \n",
       "1           2.0           0.0           0.0          4.0            0.0   \n",
       "2           0.0           5.0           0.0          7.0            0.0   \n",
       "3           0.0           0.0           0.0          2.0            0.0   \n",
       "4           2.0           0.0           0.0          4.0            0.0   \n",
       "\n",
       "   e1_NpUnfilled  e1_NdUnfilled  e1_NfUnfilled  e1_NUnfilled  e1_GSvolume_pa  \\\n",
       "0            0.0            8.0            0.0           8.0       16.690000   \n",
       "1            4.0            0.0            0.0           4.0       20.440000   \n",
       "2            0.0            5.0            0.0           5.0       10.487586   \n",
       "3            0.0            0.0            0.0           0.0       22.890000   \n",
       "4            4.0            0.0            0.0           4.0       20.440000   \n",
       "\n",
       "   e1_GSbandgap  e1_GSmagmom  e1_SpaceGroupNumber  e2_Number  \\\n",
       "0         0.000     0.000023                194.0       22.0   \n",
       "1         0.773     0.000000                227.0       14.0   \n",
       "2         0.000     0.000310                217.0       25.0   \n",
       "3         0.000     0.000000                194.0       12.0   \n",
       "4         0.773     0.000000                227.0       14.0   \n",
       "\n",
       "   e2_MendeleevNumber  e2_AtomicWeight  e2_MeltingT  e2_Column  e2_Row  \\\n",
       "0                43.0        47.867000       1941.0        4.0     4.0   \n",
       "1                78.0        28.085500       1687.0       14.0     3.0   \n",
       "2                52.0        54.938045       1519.0        7.0     4.0   \n",
       "3                68.0        24.305000        923.0        2.0     3.0   \n",
       "4                78.0        28.085500       1687.0       14.0     3.0   \n",
       "\n",
       "   e2_CovalentRadius  e2_Electronegativity  e2_NsValence  e2_NpValence  \\\n",
       "0              160.0                  1.54           2.0           0.0   \n",
       "1              111.0                  1.90           2.0           2.0   \n",
       "2              139.0                  1.55           2.0           0.0   \n",
       "3              141.0                  1.31           2.0           0.0   \n",
       "4              111.0                  1.90           2.0           2.0   \n",
       "\n",
       "   e2_NdValence  e2_NfValence  e2_NValence  e2_NsUnfilled  e2_NpUnfilled  \\\n",
       "0           2.0           0.0          4.0            0.0            0.0   \n",
       "1           0.0           0.0          4.0            0.0            4.0   \n",
       "2           5.0           0.0          7.0            0.0            0.0   \n",
       "3           0.0           0.0          2.0            0.0            0.0   \n",
       "4           0.0           0.0          4.0            0.0            4.0   \n",
       "\n",
       "   e2_NdUnfilled  e2_NfUnfilled  e2_NUnfilled  e2_GSvolume_pa  e2_GSbandgap  \\\n",
       "0            8.0            0.0           8.0       16.690000         0.000   \n",
       "1            0.0            0.0           4.0       20.440000         0.773   \n",
       "2            5.0            0.0           5.0       10.487586         0.000   \n",
       "3            0.0            0.0           0.0       22.890000         0.000   \n",
       "4            0.0            0.0           4.0       20.440000         0.773   \n",
       "\n",
       "   e2_GSmagmom  e2_SpaceGroupNumber  \n",
       "0     0.000023                194.0  \n",
       "1     0.000000                227.0  \n",
       "2     0.000310                217.0  \n",
       "3     0.000000                194.0  \n",
       "4     0.000000                227.0  "
      ]
     },
     "execution_count": 6,
     "metadata": {},
     "output_type": "execute_result"
    }
   ],
   "source": [
    "combined_df = combined_df.drop(columns=['Formula','Collection_Code','Prototype'])\n",
    "combined_df.head()"
   ]
  },
  {
   "cell_type": "code",
   "execution_count": 12,
=======
   "execution_count": 49,
>>>>>>> 0f3263a612efa8b0045df55752c37c9e0ecd6b2e
   "id": "8ae24b05",
   "metadata": {},
   "outputs": [
    {
     "data": {
      "application/vnd.jupyter.widget-view+json": {
<<<<<<< HEAD
       "model_id": "cee45c9d81d04a638b8c701df3465819",
=======
       "model_id": "305c1e20862e4ce1be19b2e303f29dd5",
>>>>>>> 0f3263a612efa8b0045df55752c37c9e0ecd6b2e
       "version_major": 2,
       "version_minor": 0
      },
      "text/plain": [
       "Summarize dataset:   0%|          | 0/5 [00:00<?, ?it/s]"
      ]
     },
     "metadata": {},
     "output_type": "display_data"
    },
    {
     "data": {
      "application/vnd.jupyter.widget-view+json": {
<<<<<<< HEAD
       "model_id": "246099b71d4a4306b0673ae599bb0dce",
=======
       "model_id": "28352298925c47e3b0965d5f4ac4ec8c",
>>>>>>> 0f3263a612efa8b0045df55752c37c9e0ecd6b2e
       "version_major": 2,
       "version_minor": 0
      },
      "text/plain": [
       "Generate report structure:   0%|          | 0/1 [00:00<?, ?it/s]"
      ]
     },
     "metadata": {},
     "output_type": "display_data"
    },
    {
     "data": {
      "application/vnd.jupyter.widget-view+json": {
<<<<<<< HEAD
       "model_id": "417001ca39e14935ab05a32fd99136b2",
=======
       "model_id": "fdd5759831474373b84c0e0a343a706a",
>>>>>>> 0f3263a612efa8b0045df55752c37c9e0ecd6b2e
       "version_major": 2,
       "version_minor": 0
      },
      "text/plain": [
       "Render HTML:   0%|          | 0/1 [00:00<?, ?it/s]"
      ]
     },
     "metadata": {},
     "output_type": "display_data"
    },
    {
     "data": {
      "application/vnd.jupyter.widget-view+json": {
<<<<<<< HEAD
       "model_id": "8fb1fa91d54a4e018f5ca94a92d498ea",
=======
       "model_id": "a6ad300071c24c66adf80aa75333d2de",
>>>>>>> 0f3263a612efa8b0045df55752c37c9e0ecd6b2e
       "version_major": 2,
       "version_minor": 0
      },
      "text/plain": [
       "Export report to file:   0%|          | 0/1 [00:00<?, ?it/s]"
      ]
     },
     "metadata": {},
     "output_type": "display_data"
    }
   ],
   "source": [
<<<<<<< HEAD
    "pprof.ProfileReport(combined_df, vars={'cat':{'characters':False}},correlations={\n",
    "    \"pearson\": {\"calculate\": False},\n",
    "    \"spearman\": {\"calculate\": False},\n",
    "    \"kendall\": {\"calculate\": False},\n",
    "    \"phi_k\": {\"calculate\": False},\n",
    "    \"cramers\": {\"calculate\": False},\n",
    "    \"auto\": {\"calculate\": False}\n",
    "    }, \n",
    "    minimal=False).to_file('profile_minimal_combined.html')"
=======
    "pprof.ProfileReport(combined_df, minimal=True).to_file('profile_minimal.html')"
>>>>>>> 0f3263a612efa8b0045df55752c37c9e0ecd6b2e
   ]
  },
  {
   "cell_type": "markdown",
   "id": "f9a55ca4",
   "metadata": {},
   "source": [
    "# Examine class frequencies"
   ]
  },
  {
   "cell_type": "code",
   "execution_count": 47,
   "id": "3a2d601b",
   "metadata": {
    "scrolled": true
   },
   "outputs": [],
   "source": [
    "uniq, counts = np.unique(label_df.Prototype, return_counts=True)\n",
    "freq_df = pd.DataFrame(np.transpose([uniq, counts]), columns=['Prototype','Count']).sort_values(by='Count', ascending=False)\n",
    "freq_df['Count'] = freq_df['Count'].astype(int)\n",
    "\n",
    "subdf = freq_df[freq_df.Count > 1]\n",
    "\n",
    "fig, ax = plt.subplots()\n",
    "x = subdf.Count.to_numpy()\n",
    "y = subdf.Prototype.to_numpy()\n",
    "plt.barh(subdf.Prototype, subdf.Count, color='teal')\n",
    "plt.xlabel('Population')\n",
    "# plt.ylabel('Prototype')\n",
    "# plt.yticks(ticks=None)\n",
    "ax.set_yticklabels([])\n",
    "# plt.xscale('log')\n",
    "plt.tick_params(\n",
    "    axis='y',          # changes apply to the x-axis\n",
    "    which='both',      # both major and minor ticks are affected\n",
    "    left=False,      # ticks along the bottom edge are off\n",
    "    right=False)\n",
    "# plt.show()\n",
    "plt.savefig('../figures/proto_pop_bar.png', bbox_inches='tight', dpi=400)"
   ]
  },
  {
   "cell_type": "code",
   "execution_count": 46,
   "id": "682b7de6",
   "metadata": {},
   "outputs": [
    {
     "name": "stderr",
     "output_type": "stream",
     "text": [
      "/tmp/ipykernel_292/980337125.py:6: UserWarning: Matplotlib is currently using module://matplotlib_inline.backend_inline, which is a non-GUI backend, so cannot show the figure.\n",
      "  plt.show()\n"
     ]
    }
   ],
   "source": [
    "fig, ax = plt.subplots()\n",
    "plt.hist(freq_df.Count, bins=500)\n",
    "# plt.yscale('log')\n",
    "plt.ylabel('Number of Unique Prototypes')\n",
    "plt.xlabel('Prototype Population')\n",
    "plt.show()\n",
    "plt.savefig('../figures/proto_hist.png', bbox_inches='tight', dpi=400)"
   ]
  },
  {
   "cell_type": "code",
   "execution_count": 60,
   "id": "7c39da9f",
   "metadata": {},
   "outputs": [],
   "source": [
    "### Create reduced/simplified counts \n",
    "\n",
    "counts = freq_df.Count.to_numpy()\n",
    "labels = freq_df.Prototype.to_numpy()\n",
    "cutoff = 100\n",
    "head_df = freq_df[freq_df.Count >= cutoff]\n",
    "tail_df = freq_df[freq_df.Count < cutoff]\n",
    "compress_df = pd.DataFrame({freq_df.columns[0]:[f'{len(tail_df)} prototypes ($N \\leq {cutoff}$)'], \n",
    "                            freq_df.columns[1]:tail_df.Count.sum()})\n",
    "reduced_df = pd.concat([head_df, compress_df])\n",
    "\n",
    "fig, ax = plt.subplots(figsize=(7.5,5))\n",
    "n_expl = 3\n",
    "n_notexpl = (len(reduced_df)-n_expl)\n",
    "plt.pie(reduced_df.Count,\n",
    "        explode=[True]*n_expl + [False]*n_notexpl, \n",
    "        labels=reduced_df.Prototype)\n",
    "plt.savefig('../figures/proto_pie.png', bbox_inches='tight', dpi=400)\n",
    "# plt.show()"
   ]
  },
  {
   "cell_type": "markdown",
   "id": "8e6c9a4a",
   "metadata": {},
   "source": [
    "# Pairwise distributions"
   ]
  },
  {
   "cell_type": "code",
   "execution_count": null,
   "id": "13b5c63e",
   "metadata": {},
   "outputs": [],
   "source": []
  },
  {
   "cell_type": "code",
   "execution_count": null,
   "id": "a8deb8e9",
   "metadata": {},
   "outputs": [],
   "source": []
  }
 ],
 "metadata": {
  "kernelspec": {
   "display_name": "hackathon",
   "language": "python",
   "name": "python3"
  },
  "language_info": {
   "codemirror_mode": {
    "name": "ipython",
    "version": 3
   },
   "file_extension": ".py",
   "mimetype": "text/x-python",
   "name": "python",
   "nbconvert_exporter": "python",
   "pygments_lexer": "ipython3",
   "version": "3.10.8"
  },
  "vscode": {
   "interpreter": {
    "hash": "22782bf086980a597813833627257b8fd0f2ec5b5fb163a3f665d2a9eebd03ff"
   }
  }
 },
 "nbformat": 4,
 "nbformat_minor": 5
}
