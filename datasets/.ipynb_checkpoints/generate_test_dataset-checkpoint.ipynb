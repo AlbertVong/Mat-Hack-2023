{
 "cells": [
  {
   "cell_type": "code",
   "execution_count": null,
   "id": "472de5fa",
   "metadata": {},
   "outputs": [],
   "source": [
    "from os.path import expanduser\n",
    "home = expanduser(\"~\")\n",
    "import pandas as pd\n",
    "import numpy as np\n",
    "import matplotlib.pyplot as plt\n",
    "# from workflow_utils import exec_parallel, grouper, uniquify, flatten\n",
    "from scipy.stats import gaussian_kde\n",
    "from scipy.integrate import quad\n",
    "from matplotlib import cm\n",
    "from pymatgen.core.composition import Composition\n",
    "from pymatgen.core.periodic_table import Species, Element\n",
    "from adjustText import adjust_text\n",
    "\n",
    "\n",
    "### CONSTANTS ####################################################################\n",
    "##################################################################################\n",
    "# ROOT_LABEL = 'cifs_mp_n2-5'\n",
    "ROOT_LABEL = 'cifs_icsd_ionic_compounds'\n",
    "MOD_LABEL = '_maxSites100'\n",
    "DATASET_LABEL = f\"{ROOT_LABEL}{MOD_LABEL}\"\n",
    "PATH_PREFIX = f'{home}/Projects/storage/datasets'\n",
    "CIF_LOC = f'{PATH_PREFIX}/{ROOT_LABEL}/2_succ_rewrite_aflow{MOD_LABEL}'\n",
    "COMP_LOC = f'{PATH_PREFIX}/comparison-output_{DATASET_LABEL}_match1.0'\n",
    "FIG_LOC = f'../figures/{DATASET_LABEL}_match1.0'\n",
    "\n",
    "if ROOT_LABEL == 'cifs_mp_n2-5':\n",
    "    IN_STRUC = f\"{COMP_LOC}/aug_data_struc_4_filtered.json\"\n",
    "    IN_PROTO = f\"{COMP_LOC}/aug_data_proto_4_filtered.json\"\n",
    "if ROOT_LABEL == 'cifs_icsd_ionic_compounds':\n",
    "    IN_STRUC = f\"{COMP_LOC}/aug_data_struc_4_filtered.json\"\n",
    "    IN_PROTO = f\"{COMP_LOC}/aug_data_proto_4_filtered.json\""
   ]
  },
  {
   "cell_type": "code",
   "execution_count": null,
   "id": "9f9fb5d6",
   "metadata": {},
   "outputs": [],
   "source": [
    "### Parse data\n",
    "\n",
    "struc_df = pd.read_json(IN_STRUC)\n",
    "proto_df = pd.read_json(IN_PROTO)\n",
    "print(struc_df.columns.to_numpy())\n",
    "# print(proto_df.columns.to_numpy())\n",
    "\n",
    "struc_df['formula'] = [fname.split('_')[0] for fname in struc_df.fname]\n",
    "struc_df['species'] = [[Species(sym, oxi) for sym, oxi in zip(symbols, oxi_states)] for symbols, oxi_states in zip(struc_df.symbols, struc_df.oxi_states)]\n",
    "if ROOT_LABEL == 'cifs_icsd_ionic_compounds': struc_df['theoretical'] = [False]*len(struc_df)"
   ]
  },
  {
   "cell_type": "code",
   "execution_count": null,
   "id": "a009c12b",
   "metadata": {},
   "outputs": [],
   "source": [
    "### Extract entries in the protos of interest\n",
    "\n",
    "cols_to_use = ['formula','ident','label'] + \\\n",
    "    [col for col in struc_df.columns if col[:5] == 'type0'] +\\\n",
    "    [col for col in struc_df.columns if col[:5] == 'type1']\n",
    "\n",
    "select = {'Wurtzite':['AB_hP4_186_b_b'],\n",
    "          'NiAs':    ['AB_hP4_194_c_a', 'AB_hP4_194_a_c'],\n",
    "          'Zinc Blende': ['AB_cF8_216_c_a', 'AB_cF8_216_a_c'],\n",
    "          'Rock Salt':['AB_cF8_225_a_b', 'AB_cF8_225_b_a'],\n",
    "          'CsCl':['AB_cP2_221_b_a','AB_cP2_221_a_b']\n",
    "         }\n",
    "\n",
    "select_names = sorted(select.keys())\n",
    "\n",
    "select_strucs = {}\n",
    "for name in select_names:\n",
    "    subdfs = []\n",
    "    for proto in select[name]:\n",
    "        for struc_rep in proto_df[proto_df.proto == proto].struc_rep:\n",
    "            subdf = struc_df[(struc_df.struc_rep == struc_rep) & (struc_df.theoretical==False)].copy()\n",
    "            if len(subdf)>0:\n",
    "                subdf['label'] = [name]*len(subdf)\n",
    "                subdf = subdf[cols_to_use]\n",
    "                subdfs.append(subdf)\n",
    "    select_strucs[name] = pd.concat(subdfs)\n",
    "    \n",
    "### Check for duplicates\n",
    "for proto in select_names:\n",
    "    subdf = select_strucs[proto]\n",
    "    formulae, counts = np.unique(subdf.formula, return_counts=True)\n",
    "    for form, ct in zip(formulae, counts):\n",
    "        if ct > 1:\n",
    "            print(proto, form)\n",
    "            \n",
    "### Examine example\n",
    "select_strucs['CsCl']"
   ]
  },
  {
   "cell_type": "code",
   "execution_count": null,
   "id": "a861fa0f",
   "metadata": {},
   "outputs": [],
   "source": [
    "len(subdfs)"
   ]
  },
  {
   "cell_type": "code",
   "execution_count": null,
   "id": "01588933",
   "metadata": {},
   "outputs": [],
   "source": [
    "### Collate dataset and write\n",
    "df = pd.concat([select_strucs[name] for name in select_names])\n",
    "df.to_json('AB_compounds.json')"
   ]
  },
  {
   "cell_type": "code",
   "execution_count": null,
   "id": "12033ed8",
   "metadata": {},
   "outputs": [],
   "source": []
  }
 ],
 "metadata": {
  "kernelspec": {
   "display_name": "Python 3 (ipykernel)",
   "language": "python",
   "name": "python3"
  },
  "language_info": {
   "codemirror_mode": {
    "name": "ipython",
    "version": 3
   },
   "file_extension": ".py",
   "mimetype": "text/x-python",
   "name": "python",
   "nbconvert_exporter": "python",
   "pygments_lexer": "ipython3",
   "version": "3.8.12"
  }
 },
 "nbformat": 4,
 "nbformat_minor": 5
}
